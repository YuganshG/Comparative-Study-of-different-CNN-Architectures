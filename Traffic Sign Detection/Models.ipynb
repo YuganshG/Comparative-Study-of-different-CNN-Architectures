{
  "cells": [
    {
      "cell_type": "code",
      "execution_count": 11,
      "metadata": {
        "colab": {
          "base_uri": "https://localhost:8080/"
        },
        "id": "PivjitYKv9nI",
        "outputId": "70cd8753-ea23-4d9b-abdc-b03ee3faeee2"
      },
      "outputs": [
        {
          "name": "stdout",
          "output_type": "stream",
          "text": [
            "Looking in indexes: https://pypi.org/simple, https://us-python.pkg.dev/colab-wheels/public/simple/\n",
            "Collecting torchmetrics\n",
            "  Downloading torchmetrics-0.10.2-py3-none-any.whl (529 kB)\n",
            "\u001b[?25l\r\u001b[K     |▋                               | 10 kB 32.1 MB/s eta 0:00:01\r\u001b[K     |█▎                              | 20 kB 17.4 MB/s eta 0:00:01\r\u001b[K     |█▉                              | 30 kB 23.4 MB/s eta 0:00:01\r\u001b[K     |██▌                             | 40 kB 20.0 MB/s eta 0:00:01\r\u001b[K     |███                             | 51 kB 20.7 MB/s eta 0:00:01\r\u001b[K     |███▊                            | 61 kB 23.7 MB/s eta 0:00:01\r\u001b[K     |████▎                           | 71 kB 21.7 MB/s eta 0:00:01\r\u001b[K     |█████                           | 81 kB 23.3 MB/s eta 0:00:01\r\u001b[K     |█████▋                          | 92 kB 25.0 MB/s eta 0:00:01\r\u001b[K     |██████▏                         | 102 kB 26.7 MB/s eta 0:00:01\r\u001b[K     |██████▉                         | 112 kB 26.7 MB/s eta 0:00:01\r\u001b[K     |███████▍                        | 122 kB 26.7 MB/s eta 0:00:01\r\u001b[K     |████████                        | 133 kB 26.7 MB/s eta 0:00:01\r\u001b[K     |████████▋                       | 143 kB 26.7 MB/s eta 0:00:01\r\u001b[K     |█████████▎                      | 153 kB 26.7 MB/s eta 0:00:01\r\u001b[K     |██████████                      | 163 kB 26.7 MB/s eta 0:00:01\r\u001b[K     |██████████▌                     | 174 kB 26.7 MB/s eta 0:00:01\r\u001b[K     |███████████▏                    | 184 kB 26.7 MB/s eta 0:00:01\r\u001b[K     |███████████▊                    | 194 kB 26.7 MB/s eta 0:00:01\r\u001b[K     |████████████▍                   | 204 kB 26.7 MB/s eta 0:00:01\r\u001b[K     |█████████████                   | 215 kB 26.7 MB/s eta 0:00:01\r\u001b[K     |█████████████▋                  | 225 kB 26.7 MB/s eta 0:00:01\r\u001b[K     |██████████████▎                 | 235 kB 26.7 MB/s eta 0:00:01\r\u001b[K     |██████████████▉                 | 245 kB 26.7 MB/s eta 0:00:01\r\u001b[K     |███████████████▌                | 256 kB 26.7 MB/s eta 0:00:01\r\u001b[K     |████████████████                | 266 kB 26.7 MB/s eta 0:00:01\r\u001b[K     |████████████████▊               | 276 kB 26.7 MB/s eta 0:00:01\r\u001b[K     |█████████████████▎              | 286 kB 26.7 MB/s eta 0:00:01\r\u001b[K     |██████████████████              | 296 kB 26.7 MB/s eta 0:00:01\r\u001b[K     |██████████████████▋             | 307 kB 26.7 MB/s eta 0:00:01\r\u001b[K     |███████████████████▏            | 317 kB 26.7 MB/s eta 0:00:01\r\u001b[K     |███████████████████▉            | 327 kB 26.7 MB/s eta 0:00:01\r\u001b[K     |████████████████████▍           | 337 kB 26.7 MB/s eta 0:00:01\r\u001b[K     |█████████████████████           | 348 kB 26.7 MB/s eta 0:00:01\r\u001b[K     |█████████████████████▋          | 358 kB 26.7 MB/s eta 0:00:01\r\u001b[K     |██████████████████████▎         | 368 kB 26.7 MB/s eta 0:00:01\r\u001b[K     |███████████████████████         | 378 kB 26.7 MB/s eta 0:00:01\r\u001b[K     |███████████████████████▌        | 389 kB 26.7 MB/s eta 0:00:01\r\u001b[K     |████████████████████████▏       | 399 kB 26.7 MB/s eta 0:00:01\r\u001b[K     |████████████████████████▊       | 409 kB 26.7 MB/s eta 0:00:01\r\u001b[K     |█████████████████████████▍      | 419 kB 26.7 MB/s eta 0:00:01\r\u001b[K     |██████████████████████████      | 430 kB 26.7 MB/s eta 0:00:01\r\u001b[K     |██████████████████████████▋     | 440 kB 26.7 MB/s eta 0:00:01\r\u001b[K     |███████████████████████████▏    | 450 kB 26.7 MB/s eta 0:00:01\r\u001b[K     |███████████████████████████▉    | 460 kB 26.7 MB/s eta 0:00:01\r\u001b[K     |████████████████████████████▌   | 471 kB 26.7 MB/s eta 0:00:01\r\u001b[K     |█████████████████████████████   | 481 kB 26.7 MB/s eta 0:00:01\r\u001b[K     |█████████████████████████████▊  | 491 kB 26.7 MB/s eta 0:00:01\r\u001b[K     |██████████████████████████████▎ | 501 kB 26.7 MB/s eta 0:00:01\r\u001b[K     |███████████████████████████████ | 512 kB 26.7 MB/s eta 0:00:01\r\u001b[K     |███████████████████████████████▌| 522 kB 26.7 MB/s eta 0:00:01\r\u001b[K     |████████████████████████████████| 529 kB 26.7 MB/s \n",
            "\u001b[?25hRequirement already satisfied: packaging in /usr/local/lib/python3.7/dist-packages (from torchmetrics) (21.3)\n",
            "Requirement already satisfied: numpy>=1.17.2 in /usr/local/lib/python3.7/dist-packages (from torchmetrics) (1.21.6)\n",
            "Requirement already satisfied: torch>=1.3.1 in /usr/local/lib/python3.7/dist-packages (from torchmetrics) (1.12.1+cu113)\n",
            "Requirement already satisfied: typing-extensions in /usr/local/lib/python3.7/dist-packages (from torchmetrics) (4.1.1)\n",
            "Requirement already satisfied: pyparsing!=3.0.5,>=2.0.2 in /usr/local/lib/python3.7/dist-packages (from packaging->torchmetrics) (3.0.9)\n",
            "Installing collected packages: torchmetrics\n",
            "Successfully installed torchmetrics-0.10.2\n"
          ]
        }
      ],
      "source": [
        "!pip install torchmetrics"
      ]
    },
    {
      "cell_type": "code",
      "execution_count": 12,
      "metadata": {
        "id": "_xH5RmU9su9W"
      },
      "outputs": [],
      "source": [
        "import torch\n",
        "import torchvision.transforms as transforms\n",
        "import torchvision.datasets as datasets\n",
        "import torch.utils.data as td\n",
        "import numpy as np\n",
        "import matplotlib.pyplot as plt\n",
        "import torch.nn as nn\n",
        "import torch.nn.functional as F\n",
        "from matplotlib import image\n",
        "from matplotlib import pyplot\n",
        "import time\n",
        "import os\n",
        "from google.colab import drive\n",
        "\n",
        "import cv2\n",
        "from torchmetrics import F1Score"
      ]
    },
    {
      "cell_type": "code",
      "execution_count": 2,
      "metadata": {
        "colab": {
          "base_uri": "https://localhost:8080/"
        },
        "id": "o01h9AVJdAur",
        "outputId": "123e06c7-f2a2-4128-a89e-5bf7c4ef19ac"
      },
      "outputs": [
        {
          "name": "stdout",
          "output_type": "stream",
          "text": [
            "Mounted at /content/drive\n"
          ]
        }
      ],
      "source": [
        "drive.mount('/content/drive')"
      ]
    },
    {
      "cell_type": "code",
      "execution_count": 3,
      "metadata": {
        "colab": {
          "base_uri": "https://localhost:8080/"
        },
        "id": "NEZ-iCxjdDJf",
        "outputId": "d00cac94-1d21-4deb-d2d6-e2030d249d0c"
      },
      "outputs": [
        {
          "name": "stdout",
          "output_type": "stream",
          "text": [
            "['Indian Traffic Signs Prediction(85 classes)', 'Persian Traffic Sign Dataset (PTSD)', 'Traffic Signs (GTSRB plus 162 custom classes)']\n"
          ]
        }
      ],
      "source": [
        "path='/content/drive/My Drive/6721 Project dataset/'\n",
        "path_save = '/content/drive/My Drive/6721 Dataset/6721 Project dataset/'\n",
        "print(os.listdir(path))"
      ]
    },
    {
      "cell_type": "code",
      "execution_count": 4,
      "metadata": {
        "id": "ud-55TXwjopF"
      },
      "outputs": [],
      "source": [
        "path_dataset1 = path+\"Indian Traffic Signs Prediction(85 classes)/\"\n",
        "path_dataset2 = path+\"Persian Traffic Sign Dataset (PTSD)/\"\n",
        "path_dataset3 = path+\"Traffic Signs (GTSRB plus 162 custom classes)/Data_images/\""
      ]
    },
    {
      "cell_type": "markdown",
      "metadata": {
        "id": "lOYP1i7G-HCb"
      },
      "source": [
        "**Exploratory Data Analysis**\n",
        "\n",
        "---\n",
        "\n"
      ]
    },
    {
      "cell_type": "code",
      "execution_count": null,
      "metadata": {
        "id": "MpAT6DmNCaRI"
      },
      "outputs": [],
      "source": [
        "# gather original number of classes in each dataset"
      ]
    },
    {
      "cell_type": "code",
      "execution_count": 16,
      "metadata": {
        "id": "b6a-CdLjG4FV"
      },
      "outputs": [],
      "source": [
        "def get_image_size_dist(path):\n",
        "    t1 = time.time()\n",
        "\n",
        "    folders = os.listdir(path)\n",
        "    total = 0\n",
        "\n",
        "    for folder in folders:\n",
        "\n",
        "        img_x=[]\n",
        "        img_y=[]\n",
        "\n",
        "        samples = os.listdir(path+folder)\n",
        "\n",
        "        # for sample in samples:\n",
        "            # img = cv2.imread(path+folder+\"/\"+sample)\n",
        "\n",
        "            # img_x.append(img.shape[0])\n",
        "            # img_y.append(img.shape[1])\n",
        "\n",
        "        print(\"Class: {} has samples: {} \".format(folder,len(samples)))\n",
        "        total+=len(samples)\n",
        "        # plt.scatter(img_x, img_y)\n",
        "        # plt.show()\n",
        "\n",
        "    print(\"\\nTotal number of samples: \",total)\n",
        "\n",
        "    print(\"\\nTime taken: {}\".format(time.time()-t1))"
      ]
    },
    {
      "cell_type": "markdown",
      "metadata": {
        "id": "rSXVxfBDBLoa"
      },
      "source": [
        "Dataset 1: Indian Traffic Signs Prediction(85 classes)"
      ]
    },
    {
      "cell_type": "code",
      "execution_count": 14,
      "metadata": {
        "id": "GkEmNBhn-K7v"
      },
      "outputs": [],
      "source": [
        "train_path = path_dataset1+\"train/\"\n",
        "test_path = path_dataset1+\"test/\""
      ]
    },
    {
      "cell_type": "code",
      "execution_count": 17,
      "metadata": {
        "colab": {
          "base_uri": "https://localhost:8080/"
        },
        "id": "7pXpkORWHVMb",
        "outputId": "902e7db6-be4a-47f5-ae29-cfd52bc99477"
      },
      "outputs": [
        {
          "name": "stdout",
          "output_type": "stream",
          "text": [
            "Class: CROSS_ROAD has samples: 140 \n",
            "Class: GAP_IN_MEDIAN has samples: 180 \n",
            "Class: COMPULSARY_KEEP_RIGHT has samples: 223 \n",
            "Class: HORN_PROHIBITED has samples: 160 \n",
            "Class: HUMP_OR_ROUGH_ROAD has samples: 101 \n",
            "Class: LEFT_TURN_PROHIBITED has samples: 126 \n",
            "Class: NO_ENTRY has samples: 174 \n",
            "Class: NO_STOPPING_OR_STANDING has samples: 242 \n",
            "Class: PEDESTRIAN_CROSSING has samples: 121 \n",
            "Class: SPEED_LIMIT_40 has samples: 170 \n",
            "Class: SPEED_LIMIT_80 has samples: 192 \n",
            "Class: SPEED_LIMIT_30 has samples: 238 \n",
            "Class: SPEED_LIMIT_50 has samples: 200 \n",
            "Class: SPEED_LIMIT_60 has samples: 190 \n",
            "Class: SPEED_LIMIT_70 has samples: 160 \n",
            "\n",
            "Total number of samples:  2617\n",
            "\n",
            "Time taken: 0.046918630599975586\n"
          ]
        }
      ],
      "source": [
        "get_image_size_dist(train_path)"
      ]
    },
    {
      "cell_type": "code",
      "execution_count": null,
      "metadata": {
        "id": "YdojIO8xHVCf"
      },
      "outputs": [],
      "source": [
        "get_image_size_dist(test_path)"
      ]
    },
    {
      "cell_type": "markdown",
      "metadata": {
        "id": "coCbrEWaBSpD"
      },
      "source": [
        "Dataset 2: Persian Traffic Sign Dataset (PTSD)"
      ]
    },
    {
      "cell_type": "code",
      "execution_count": 18,
      "metadata": {
        "id": "M1WRPcW3-K4P"
      },
      "outputs": [],
      "source": [
        "train_path = path_dataset2+\"train/\"\n",
        "test_path = path_dataset2+\"test/\""
      ]
    },
    {
      "cell_type": "code",
      "execution_count": 19,
      "metadata": {
        "colab": {
          "base_uri": "https://localhost:8080/"
        },
        "id": "9Jvu64RhHonP",
        "outputId": "ae19114d-0c82-4e67-c511-40d1060bbc45"
      },
      "outputs": [
        {
          "name": "stdout",
          "output_type": "stream",
          "text": [
            "Class: Compulsory Keep BothSide has samples: 573 \n",
            "Class: Compulsory Keep Left has samples: 369 \n",
            "Class: Compulsory Keep Right has samples: 703 \n",
            "Class: Cycle crossing has samples: 662 \n",
            "Class: Danger has samples: 399 \n",
            "Class: Give Way has samples: 384 \n",
            "Class: Maximum Speed 30 has samples: 477 \n",
            "Class: Pedestrain has samples: 1014 \n",
            "Class: Right Turn Prohibited has samples: 436 \n",
            "Class: NO Stopping has samples: 1075 \n",
            "Class: Roundabouts has samples: 497 \n",
            "Class: No Entry has samples: 930 \n",
            "Class: Left Margin has samples: 392 \n",
            "Class: Right Margin has samples: 506 \n",
            "Class: One way Traffic has samples: 684 \n",
            "\n",
            "Total number of samples:  9101\n",
            "\n",
            "Time taken: 19.169580936431885\n"
          ]
        }
      ],
      "source": [
        "get_image_size_dist(train_path)"
      ]
    },
    {
      "cell_type": "code",
      "execution_count": null,
      "metadata": {
        "id": "8rBmCzwiHogB"
      },
      "outputs": [],
      "source": [
        "get_image_size_dist(test_path)"
      ]
    },
    {
      "cell_type": "markdown",
      "metadata": {
        "id": "hnpr15miBWfY"
      },
      "source": [
        "Dataset 3: Traffic Signs (GTSRB plus 162 custom classes)"
      ]
    },
    {
      "cell_type": "code",
      "execution_count": 20,
      "metadata": {
        "id": "d0Xt8GP7-KmT"
      },
      "outputs": [],
      "source": [
        "train_path = path_dataset3+\"Train/\"\n",
        "test_path = path_dataset3+\"Test/\""
      ]
    },
    {
      "cell_type": "code",
      "execution_count": 21,
      "metadata": {
        "colab": {
          "base_uri": "https://localhost:8080/"
        },
        "id": "cY3sLPQnBaZb",
        "outputId": "f3781e53-b8e0-473b-bb5a-5cfea0f78d75"
      },
      "outputs": [
        {
          "name": "stdout",
          "output_type": "stream",
          "text": [
            "Class: 10 has samples: 2003 \n",
            "Class: 13 has samples: 2153 \n",
            "Class: 130 has samples: 1541 \n",
            "Class: 1 has samples: 2213 \n",
            "Class: 12 has samples: 2093 \n",
            "Class: 5 has samples: 1853 \n",
            "Class: 25 has samples: 1997 \n",
            "Class: 7 has samples: 1433 \n",
            "Class: 2 has samples: 2243 \n",
            "Class: 38 has samples: 2083 \n",
            "Class: 3 has samples: 1413 \n",
            "Class: 4 has samples: 1973 \n",
            "Class: 9 has samples: 1463 \n",
            "Class: 190 has samples: 1397 \n",
            "Class: 8 has samples: 1403 \n",
            "\n",
            "Total number of samples:  27261\n",
            "\n",
            "Time taken: 37.03169536590576\n"
          ]
        }
      ],
      "source": [
        "get_image_size_dist(train_path)"
      ]
    },
    {
      "cell_type": "code",
      "execution_count": null,
      "metadata": {
        "id": "RUjDmWM_HuMm"
      },
      "outputs": [],
      "source": [
        "get_image_size_dist(test_path)"
      ]
    },
    {
      "cell_type": "markdown",
      "metadata": {
        "id": "IbmXHVFl-LrR"
      },
      "source": [
        "**Data Loaders**\n",
        "\n",
        "---\n",
        "\n"
      ]
    },
    {
      "cell_type": "code",
      "execution_count": 5,
      "metadata": {
        "id": "nAjOrIQaaACu"
      },
      "outputs": [],
      "source": [
        "def load_data(path_train, val_split, path_test, batch_size, input_size):\n",
        "  \n",
        "    normalize = transforms.Normalize(mean=[0.485, 0.456, 0.406],\n",
        "                                     std=[0.229, 0.224, 0.225])\n",
        "\n",
        "    transform_train= transforms.Compose([transforms.Resize(input_size),\n",
        "                                          transforms.ColorJitter(brightness=(0,0.3), contrast=0, saturation=0, hue=0),\n",
        "                                          transforms.ToTensor(),\n",
        "                                          normalize\n",
        "                                          ])\n",
        "\n",
        "    transform_test = transforms.Compose([transforms.Resize(input_size),\n",
        "                                         transforms.ToTensor(), \n",
        "                                         normalize])\n",
        "\n",
        "    data_train = datasets.ImageFolder(root=path_train, transform=transform_train)\n",
        "    data_test = datasets.ImageFolder(root=path_test, transform=transform_test)\n",
        "    \n",
        "    val_size = int(len(data_train)*val_split)\n",
        "    train_size = len(data_train) - val_size\n",
        "\n",
        "    train_dataset, val_dataset = td.random_split(data_train, [train_size, val_size])\n",
        "    \n",
        "    class_weights = []\n",
        "    for root, subdir, files in os.walk(path_train):\n",
        "        if len(files) > 0:\n",
        "            class_weights.append(1/len(files))\n",
        "\n",
        "    sample_weights = [0] * len(data_train)\n",
        "\n",
        "    for idx, (data, label) in enumerate(data_train):\n",
        "        class_weight = class_weights[label]\n",
        "        sample_weights[idx] = class_weight\n",
        "\n",
        "    sampler = td.WeightedRandomSampler(sample_weights, num_samples=\n",
        "                                    len(sample_weights), replacement=True)\n",
        "    \n",
        "    data_loader_train = td.DataLoader(train_dataset,\n",
        "                                      batch_size=batch_size,\n",
        "                                      shuffle=True,\n",
        "                                      drop_last=False,\n",
        "                                      num_workers=0,       \n",
        "                                      pin_memory=True,\n",
        "                                      sampler=sampler) \n",
        "     \n",
        "    data_loader_val = td.DataLoader(val_dataset,\n",
        "                                    batch_size=batch_size,\n",
        "                                    shuffle=True,\n",
        "                                    drop_last=False,\n",
        "                                    num_workers=0,\n",
        "                                    sampler=sampler)  \n",
        "      \n",
        "    data_loader_test = td.DataLoader(data_test,\n",
        "                                   batch_size=batch_size,\n",
        "                                   shuffle=True,\n",
        "                                   drop_last=False,\n",
        "                                   num_workers=0)\n",
        "    \n",
        "    return data_loader_train, data_loader_test, data_loader_val"
      ]
    },
    {
      "cell_type": "markdown",
      "metadata": {
        "id": "-ystywhe-rXn"
      },
      "source": [
        "Training Setup\n",
        "\n",
        "---\n",
        "\n"
      ]
    },
    {
      "cell_type": "code",
      "execution_count": 6,
      "metadata": {
        "id": "K4b2ZJVX_KEq"
      },
      "outputs": [],
      "source": [
        "nclasses=15"
      ]
    },
    {
      "cell_type": "code",
      "execution_count": 7,
      "metadata": {
        "id": "Zz46kldS13If"
      },
      "outputs": [],
      "source": [
        "criterion = nn.CrossEntropyLoss()\n",
        "\n",
        "learning_rate = 0.001\n",
        "num_epochs = 15"
      ]
    },
    {
      "cell_type": "code",
      "execution_count": null,
      "metadata": {
        "id": "s9lpiTqe-y49"
      },
      "outputs": [],
      "source": [
        "def train_model(model, num_epochs, train_loader, criterion, optimizer, savepath):\n",
        "\n",
        "      device = torch.device(\"cuda:0\" if torch.cuda.is_available() else \"cpu\")\n",
        "      print(\"Device: {}\".format(device))\n",
        "      model.to(device)\n",
        "\n",
        "      total_steps = len(train_loader)\n",
        "\n",
        "      t1 = time.time()\n",
        "\n",
        "      for epoch in range(num_epochs):\n",
        "          for i, data in enumerate(train_loader):\n",
        "              \n",
        "              images, labels = data[0].to(device), data[1].to(device)\n",
        "              \n",
        "              model.train()\n",
        "\n",
        "              # Forward pass\n",
        "              outputs = model(images)\n",
        "              loss = criterion(outputs, labels)\n",
        "              \n",
        "              # Backprop and optimisation\n",
        "              optimizer.zero_grad()\n",
        "              loss.backward()\n",
        "              optimizer.step()\n",
        "              \n",
        "              # Train accuracy\n",
        "              total = labels.size(0)\n",
        "              _, predicted = torch.max(outputs.data, 1)\n",
        "              correct = (predicted == labels).sum().item()\n",
        "              \n",
        "              if (i + 1) % 10 == 0:\n",
        "                  model.eval() \n",
        "                  with torch.no_grad(): \n",
        "                      correctv = 0\n",
        "                      totalv = 0\n",
        "                      for datav in val_loader:\n",
        "                          imagesv, labelsv = datav[0].to(device), datav[1].to(device)\n",
        "                          outputsv = model(imagesv)\n",
        "                          _, predictedv = torch.max(outputsv.data, 1)\n",
        "                          totalv += labelsv.size(0)\n",
        "                          correctv += (predictedv == labelsv).sum().item()\n",
        "                          \n",
        "                      print('Epoch [{}/{}], Step [{}/{}], Loss: {:.4f}, Accuracy: {:.2f}%, Validation Accuracy: {:.2f}%'\n",
        "                      .format(epoch + 1, num_epochs, i + 1, total_steps, loss.item(),\n",
        "                          (correct / total) * 100,\n",
        "                          (correctv / totalv) * 100))\n",
        "                      \n",
        "                  \n",
        "      print(\"######## Training Finished in {} seconds ###########\".format(time.time()-t1))\n",
        "\n",
        "      print(\"/n/n Saving model at: \",savepath)\n",
        "      torch.save(model.state_dict(), savepath)\n",
        "\n",
        "      return model, device"
      ]
    },
    {
      "cell_type": "code",
      "execution_count": null,
      "metadata": {
        "id": "_mHsQq5I-yyu"
      },
      "outputs": [],
      "source": [
        "def evaluate_model(model, test_loader, device):\n",
        "   \n",
        "    model.eval() \n",
        "\n",
        "    Y=[]\n",
        "    y=[]\n",
        "\n",
        "    with torch.no_grad(): \n",
        "        correct = 0\n",
        "        total = 0\n",
        "        for data in test_loader:\n",
        "            images, labels = data[0].to(device), data[1].to(device)\n",
        "            outputs = model(images)\n",
        "            _, predicted = torch.max(outputs.data, 1)\n",
        "            total += labels.size(0)\n",
        "            correct += (predicted == labels).sum().item()\n",
        "\n",
        "            Y.extend(labels)\n",
        "            y.extend(predicted)\n",
        "\n",
        "        acc = (correct / total) * 100\n",
        "        f1 = F1Score(num_classes=nclasses)\n",
        "        f1score = f1(y, Y)\n",
        "\n",
        "        print('Model Evaluation Results on {} test samples'.format(total))\n",
        "        print('Test Accuracy: ', acc)\n",
        "        print('Test F1 Score: ',f1score)\n",
        "        "
      ]
    },
    {
      "cell_type": "markdown",
      "metadata": {
        "id": "jbDH531X-anJ"
      },
      "source": [
        "Architecture 1: AlexNet"
      ]
    },
    {
      "cell_type": "markdown",
      "metadata": {
        "id": "_53CBsNT7_Ds"
      },
      "source": [
        "On dataset 1:"
      ]
    },
    {
      "cell_type": "code",
      "execution_count": null,
      "metadata": {
        "colab": {
          "base_uri": "https://localhost:8080/"
        },
        "id": "j0C0mVSFA81I",
        "outputId": "c5193785-0b42-427d-9827-29d6fc373ab5"
      },
      "outputs": [
        {
          "name": "stderr",
          "output_type": "stream",
          "text": [
            "Using cache found in /root/.cache/torch/hub/pytorch_vision_v0.6.0\n",
            "/usr/local/lib/python3.7/dist-packages/torchvision/models/_utils.py:209: UserWarning: The parameter 'pretrained' is deprecated since 0.13 and will be removed in 0.15, please use 'weights' instead.\n",
            "  f\"The parameter '{pretrained_param}' is deprecated since 0.13 and will be removed in 0.15, \"\n",
            "/usr/local/lib/python3.7/dist-packages/torchvision/models/_utils.py:223: UserWarning: Arguments other than a weight enum or `None` for 'weights' are deprecated since 0.13 and will be removed in 0.15. The current behavior is equivalent to passing `weights=None`.\n",
            "  warnings.warn(msg)\n"
          ]
        }
      ],
      "source": [
        "AlexNet_model = torch.hub.load('pytorch/vision:v0.6.0', 'alexnet', weights=None)"
      ]
    },
    {
      "cell_type": "code",
      "execution_count": null,
      "metadata": {
        "id": "gUhYh2APBCmT"
      },
      "outputs": [],
      "source": [
        "prev_out = AlexNet_model.classifier[4].out_features\n",
        "AlexNet_model.classifier[6] = nn.Linear( prev_out, nclasses)"
      ]
    },
    {
      "cell_type": "code",
      "execution_count": null,
      "metadata": {
        "colab": {
          "base_uri": "https://localhost:8080/"
        },
        "id": "rTMSRbBQBF4h",
        "outputId": "3ae7977c-9395-4947-a741-d7910a5ba090"
      },
      "outputs": [
        {
          "data": {
            "text/plain": [
              "AlexNet(\n",
              "  (features): Sequential(\n",
              "    (0): Conv2d(3, 64, kernel_size=(11, 11), stride=(4, 4), padding=(2, 2))\n",
              "    (1): ReLU(inplace=True)\n",
              "    (2): MaxPool2d(kernel_size=3, stride=2, padding=0, dilation=1, ceil_mode=False)\n",
              "    (3): Conv2d(64, 192, kernel_size=(5, 5), stride=(1, 1), padding=(2, 2))\n",
              "    (4): ReLU(inplace=True)\n",
              "    (5): MaxPool2d(kernel_size=3, stride=2, padding=0, dilation=1, ceil_mode=False)\n",
              "    (6): Conv2d(192, 384, kernel_size=(3, 3), stride=(1, 1), padding=(1, 1))\n",
              "    (7): ReLU(inplace=True)\n",
              "    (8): Conv2d(384, 256, kernel_size=(3, 3), stride=(1, 1), padding=(1, 1))\n",
              "    (9): ReLU(inplace=True)\n",
              "    (10): Conv2d(256, 256, kernel_size=(3, 3), stride=(1, 1), padding=(1, 1))\n",
              "    (11): ReLU(inplace=True)\n",
              "    (12): MaxPool2d(kernel_size=3, stride=2, padding=0, dilation=1, ceil_mode=False)\n",
              "  )\n",
              "  (avgpool): AdaptiveAvgPool2d(output_size=(6, 6))\n",
              "  (classifier): Sequential(\n",
              "    (0): Dropout(p=0.5, inplace=False)\n",
              "    (1): Linear(in_features=9216, out_features=4096, bias=True)\n",
              "    (2): ReLU(inplace=True)\n",
              "    (3): Dropout(p=0.5, inplace=False)\n",
              "    (4): Linear(in_features=4096, out_features=4096, bias=True)\n",
              "    (5): ReLU(inplace=True)\n",
              "    (6): Linear(in_features=4096, out_features=15, bias=True)\n",
              "  )\n",
              ")"
            ]
          },
          "execution_count": 24,
          "metadata": {},
          "output_type": "execute_result"
        }
      ],
      "source": [
        "AlexNet_model.eval()"
      ]
    },
    {
      "cell_type": "code",
      "execution_count": null,
      "metadata": {
        "id": "yKGRy1ztBL28"
      },
      "outputs": [],
      "source": [
        "optimizer = torch.optim.Adam(AlexNet_model.parameters(), lr=learning_rate) "
      ]
    },
    {
      "cell_type": "code",
      "execution_count": 9,
      "metadata": {
        "colab": {
          "base_uri": "https://localhost:8080/"
        },
        "id": "dnyRBBLrs23v",
        "outputId": "9e5b9e13-3cc0-4ea5-94e2-7440b7250449"
      },
      "outputs": [
        {
          "name": "stdout",
          "output_type": "stream",
          "text": [
            "[0.007142857142857143, 0.005555555555555556, 0.004484304932735426, 0.00625, 0.009900990099009901, 0.007936507936507936, 0.005747126436781609, 0.004132231404958678, 0.008264462809917356, 0.0058823529411764705, 0.005208333333333333, 0.004201680672268907, 0.005, 0.005263157894736842, 0.00625]\n",
            "[0.007142857142857143, 0.007142857142857143, 0.007142857142857143, 0.007142857142857143, 0.007142857142857143, 0.007142857142857143, 0.007142857142857143, 0.007142857142857143, 0.007142857142857143, 0.007142857142857143, 0.007142857142857143, 0.007142857142857143, 0.007142857142857143, 0.007142857142857143, 0.007142857142857143, 0.007142857142857143, 0.007142857142857143, 0.007142857142857143, 0.007142857142857143, 0.007142857142857143, 0.007142857142857143, 0.007142857142857143, 0.007142857142857143, 0.007142857142857143, 0.007142857142857143, 0.007142857142857143, 0.007142857142857143, 0.007142857142857143, 0.007142857142857143, 0.007142857142857143, 0.007142857142857143, 0.007142857142857143, 0.007142857142857143, 0.007142857142857143, 0.007142857142857143, 0.007142857142857143, 0.007142857142857143, 0.007142857142857143, 0.007142857142857143, 0.007142857142857143, 0.007142857142857143, 0.007142857142857143, 0.007142857142857143, 0.007142857142857143, 0.007142857142857143, 0.007142857142857143, 0.007142857142857143, 0.007142857142857143, 0.007142857142857143, 0.007142857142857143, 0.007142857142857143, 0.007142857142857143, 0.007142857142857143, 0.007142857142857143, 0.007142857142857143, 0.007142857142857143, 0.007142857142857143, 0.007142857142857143, 0.007142857142857143, 0.007142857142857143, 0.007142857142857143, 0.007142857142857143, 0.007142857142857143, 0.007142857142857143, 0.007142857142857143, 0.007142857142857143, 0.007142857142857143, 0.007142857142857143, 0.007142857142857143, 0.007142857142857143, 0.007142857142857143, 0.007142857142857143, 0.007142857142857143, 0.007142857142857143, 0.007142857142857143, 0.007142857142857143, 0.007142857142857143, 0.007142857142857143, 0.007142857142857143, 0.007142857142857143, 0.007142857142857143, 0.007142857142857143, 0.007142857142857143, 0.007142857142857143, 0.007142857142857143, 0.007142857142857143, 0.007142857142857143, 0.007142857142857143, 0.007142857142857143, 0.007142857142857143, 0.007142857142857143, 0.007142857142857143, 0.007142857142857143, 0.007142857142857143, 0.007142857142857143, 0.007142857142857143, 0.007142857142857143, 0.007142857142857143, 0.007142857142857143, 0.007142857142857143, 0.007142857142857143, 0.007142857142857143, 0.007142857142857143, 0.007142857142857143, 0.007142857142857143, 0.007142857142857143, 0.007142857142857143, 0.007142857142857143, 0.007142857142857143, 0.007142857142857143, 0.007142857142857143, 0.007142857142857143, 0.007142857142857143, 0.007142857142857143, 0.007142857142857143, 0.007142857142857143, 0.007142857142857143, 0.007142857142857143, 0.007142857142857143, 0.007142857142857143, 0.007142857142857143, 0.007142857142857143, 0.007142857142857143, 0.007142857142857143, 0.007142857142857143, 0.007142857142857143, 0.007142857142857143, 0.007142857142857143, 0.007142857142857143, 0.007142857142857143, 0.007142857142857143, 0.007142857142857143, 0.007142857142857143, 0.007142857142857143, 0.007142857142857143, 0.007142857142857143, 0.007142857142857143, 0.007142857142857143, 0.007142857142857143, 0.007142857142857143, 0.007142857142857143, 0.007142857142857143, 0.007142857142857143, 0.007142857142857143, 0.007142857142857143, 0.007142857142857143, 0.007142857142857143, 0.007142857142857143, 0.007142857142857143, 0.007142857142857143, 0.007142857142857143, 0.007142857142857143, 0.007142857142857143, 0.007142857142857143, 0.007142857142857143, 0.007142857142857143, 0.007142857142857143, 0.007142857142857143, 0.007142857142857143, 0.007142857142857143, 0.007142857142857143, 0.007142857142857143, 0.007142857142857143, 0.007142857142857143, 0.007142857142857143, 0.007142857142857143, 0.007142857142857143, 0.007142857142857143, 0.007142857142857143, 0.007142857142857143, 0.007142857142857143, 0.007142857142857143, 0.007142857142857143, 0.007142857142857143, 0.007142857142857143, 0.007142857142857143, 0.007142857142857143, 0.007142857142857143, 0.007142857142857143, 0.007142857142857143, 0.007142857142857143, 0.007142857142857143, 0.007142857142857143, 0.007142857142857143, 0.007142857142857143, 0.007142857142857143, 0.007142857142857143, 0.007142857142857143, 0.007142857142857143, 0.007142857142857143, 0.007142857142857143, 0.007142857142857143, 0.007142857142857143, 0.007142857142857143, 0.007142857142857143, 0.007142857142857143, 0.007142857142857143, 0.007142857142857143, 0.007142857142857143, 0.007142857142857143, 0.007142857142857143, 0.007142857142857143, 0.007142857142857143, 0.007142857142857143, 0.007142857142857143, 0.007142857142857143, 0.007142857142857143, 0.007142857142857143, 0.007142857142857143, 0.007142857142857143, 0.007142857142857143, 0.007142857142857143, 0.007142857142857143, 0.007142857142857143, 0.007142857142857143, 0.007142857142857143, 0.007142857142857143, 0.007142857142857143, 0.007142857142857143, 0.007142857142857143, 0.007142857142857143, 0.007142857142857143, 0.007142857142857143, 0.005555555555555556, 0.005555555555555556, 0.005555555555555556, 0.005555555555555556, 0.005555555555555556, 0.005555555555555556, 0.005555555555555556, 0.005555555555555556, 0.005555555555555556, 0.005555555555555556, 0.005555555555555556, 0.005555555555555556, 0.005555555555555556, 0.005555555555555556, 0.005555555555555556, 0.005555555555555556, 0.005555555555555556, 0.005555555555555556, 0.005555555555555556, 0.005555555555555556, 0.005555555555555556, 0.005555555555555556, 0.005555555555555556, 0.005555555555555556, 0.005555555555555556, 0.005555555555555556, 0.005555555555555556, 0.005555555555555556, 0.005555555555555556, 0.005555555555555556, 0.005555555555555556, 0.005555555555555556, 0.005555555555555556, 0.005555555555555556, 0.005555555555555556, 0.005555555555555556, 0.005555555555555556, 0.005555555555555556, 0.005555555555555556, 0.005555555555555556, 0.005555555555555556, 0.005555555555555556, 0.005555555555555556, 0.005555555555555556, 0.005555555555555556, 0.005555555555555556, 0.005555555555555556, 0.005555555555555556, 0.005555555555555556, 0.005555555555555556, 0.005555555555555556, 0.005555555555555556, 0.005555555555555556, 0.005555555555555556, 0.005555555555555556, 0.005555555555555556, 0.005555555555555556, 0.005555555555555556, 0.005555555555555556, 0.005555555555555556, 0.005555555555555556, 0.005555555555555556, 0.005555555555555556, 0.005555555555555556, 0.005555555555555556, 0.005555555555555556, 0.005555555555555556, 0.005555555555555556, 0.005555555555555556, 0.005555555555555556, 0.005555555555555556, 0.005555555555555556, 0.005555555555555556, 0.005555555555555556, 0.005555555555555556, 0.005555555555555556, 0.005555555555555556, 0.005555555555555556, 0.005555555555555556, 0.005555555555555556, 0.005555555555555556, 0.005555555555555556, 0.005555555555555556, 0.005555555555555556, 0.005555555555555556, 0.005555555555555556, 0.005555555555555556, 0.005555555555555556, 0.005555555555555556, 0.005555555555555556, 0.005555555555555556, 0.005555555555555556, 0.005555555555555556, 0.005555555555555556, 0.005555555555555556, 0.005555555555555556, 0.005555555555555556, 0.005555555555555556, 0.005555555555555556, 0.005555555555555556, 0.005555555555555556, 0.005555555555555556, 0.005555555555555556, 0.005555555555555556, 0.005555555555555556, 0.005555555555555556, 0.005555555555555556, 0.005555555555555556, 0.005555555555555556, 0.005555555555555556, 0.005555555555555556, 0.005555555555555556, 0.005555555555555556, 0.005555555555555556, 0.005555555555555556, 0.005555555555555556, 0.005555555555555556, 0.005555555555555556, 0.005555555555555556, 0.005555555555555556, 0.005555555555555556, 0.005555555555555556, 0.005555555555555556, 0.005555555555555556, 0.005555555555555556, 0.005555555555555556, 0.005555555555555556, 0.005555555555555556, 0.005555555555555556, 0.005555555555555556, 0.005555555555555556, 0.005555555555555556, 0.005555555555555556, 0.005555555555555556, 0.005555555555555556, 0.005555555555555556, 0.005555555555555556, 0.005555555555555556, 0.005555555555555556, 0.005555555555555556, 0.004484304932735426, 0.004484304932735426, 0.004484304932735426, 0.004484304932735426, 0.004484304932735426, 0.004484304932735426, 0.004484304932735426, 0.004484304932735426, 0.004484304932735426, 0.004484304932735426, 0.004484304932735426, 0.004484304932735426, 0.004484304932735426, 0.004484304932735426, 0.004484304932735426, 0.004484304932735426, 0.004484304932735426, 0.004484304932735426, 0.004484304932735426, 0.004484304932735426, 0.004484304932735426, 0.004484304932735426, 0.004484304932735426, 0.004484304932735426, 0.004484304932735426, 0.004484304932735426, 0.004484304932735426, 0.004484304932735426, 0.004484304932735426, 0.004484304932735426, 0.004484304932735426, 0.004484304932735426, 0.004484304932735426, 0.004484304932735426, 0.004484304932735426, 0.004484304932735426, 0.004484304932735426, 0.004484304932735426, 0.004484304932735426, 0.004484304932735426, 0.004484304932735426, 0.004484304932735426, 0.004484304932735426, 0.004484304932735426, 0.004484304932735426, 0.004484304932735426, 0.004484304932735426, 0.004484304932735426, 0.004484304932735426, 0.004484304932735426, 0.004484304932735426, 0.004484304932735426, 0.004484304932735426, 0.004484304932735426, 0.004484304932735426, 0.004484304932735426, 0.004484304932735426, 0.004484304932735426, 0.004484304932735426, 0.004484304932735426, 0.004484304932735426, 0.004484304932735426, 0.004484304932735426, 0.004484304932735426, 0.004484304932735426, 0.004484304932735426, 0.004484304932735426, 0.004484304932735426, 0.004484304932735426, 0.004484304932735426, 0.004484304932735426, 0.004484304932735426, 0.004484304932735426, 0.004484304932735426, 0.004484304932735426, 0.004484304932735426, 0.004484304932735426, 0.004484304932735426, 0.004484304932735426, 0.004484304932735426, 0.004484304932735426, 0.004484304932735426, 0.004484304932735426, 0.004484304932735426, 0.004484304932735426, 0.004484304932735426, 0.004484304932735426, 0.004484304932735426, 0.004484304932735426, 0.004484304932735426, 0.004484304932735426, 0.004484304932735426, 0.004484304932735426, 0.004484304932735426, 0.004484304932735426, 0.004484304932735426, 0.004484304932735426, 0.004484304932735426, 0.004484304932735426, 0.004484304932735426, 0.004484304932735426, 0.004484304932735426, 0.004484304932735426, 0.004484304932735426, 0.004484304932735426, 0.004484304932735426, 0.004484304932735426, 0.004484304932735426, 0.004484304932735426, 0.004484304932735426, 0.004484304932735426, 0.004484304932735426, 0.004484304932735426, 0.004484304932735426, 0.004484304932735426, 0.004484304932735426, 0.004484304932735426, 0.004484304932735426, 0.004484304932735426, 0.004484304932735426, 0.004484304932735426, 0.004484304932735426, 0.004484304932735426, 0.004484304932735426, 0.004484304932735426, 0.004484304932735426, 0.004484304932735426, 0.004484304932735426, 0.004484304932735426, 0.004484304932735426, 0.004484304932735426, 0.004484304932735426, 0.004484304932735426, 0.004484304932735426, 0.004484304932735426, 0.004484304932735426, 0.004484304932735426, 0.004484304932735426, 0.004484304932735426, 0.004484304932735426, 0.004484304932735426, 0.004484304932735426, 0.004484304932735426, 0.004484304932735426, 0.004484304932735426, 0.004484304932735426, 0.004484304932735426, 0.004484304932735426, 0.004484304932735426, 0.004484304932735426, 0.004484304932735426, 0.004484304932735426, 0.004484304932735426, 0.004484304932735426, 0.004484304932735426, 0.004484304932735426, 0.004484304932735426, 0.004484304932735426, 0.004484304932735426, 0.004484304932735426, 0.004484304932735426, 0.004484304932735426, 0.004484304932735426, 0.004484304932735426, 0.004484304932735426, 0.004484304932735426, 0.004484304932735426, 0.004484304932735426, 0.004484304932735426, 0.004484304932735426, 0.004484304932735426, 0.004484304932735426, 0.004484304932735426, 0.004484304932735426, 0.004484304932735426, 0.004484304932735426, 0.004484304932735426, 0.004484304932735426, 0.004484304932735426, 0.004484304932735426, 0.00625, 0.00625, 0.00625, 0.00625, 0.00625, 0.00625, 0.00625, 0.00625, 0.00625, 0.00625, 0.00625, 0.00625, 0.00625, 0.00625, 0.00625, 0.00625, 0.00625, 0.00625, 0.00625, 0.00625, 0.00625, 0.00625, 0.00625, 0.00625, 0.00625, 0.00625, 0.00625, 0.00625, 0.00625, 0.00625, 0.00625, 0.00625, 0.00625, 0.00625, 0.00625, 0.00625, 0.00625, 0.00625, 0.00625, 0.00625, 0.00625, 0.00625, 0.00625, 0.00625, 0.00625, 0.00625, 0.00625, 0.00625, 0.00625, 0.00625, 0.00625, 0.00625, 0.00625, 0.00625, 0.00625, 0.00625, 0.00625, 0.00625, 0.00625, 0.00625, 0.00625, 0.00625, 0.00625, 0.00625, 0.00625, 0.00625, 0.00625, 0.00625, 0.00625, 0.00625, 0.00625, 0.00625, 0.00625, 0.00625, 0.00625, 0.00625, 0.00625, 0.00625, 0.00625, 0.00625, 0.00625, 0.00625, 0.00625, 0.00625, 0.00625, 0.00625, 0.00625, 0.00625, 0.00625, 0.00625, 0.00625, 0.00625, 0.00625, 0.00625, 0.00625, 0.00625, 0.00625, 0.00625, 0.00625, 0.00625, 0.00625, 0.00625, 0.00625, 0.00625, 0.00625, 0.00625, 0.00625, 0.00625, 0.00625, 0.00625, 0.00625, 0.00625, 0.00625, 0.00625, 0.00625, 0.00625, 0.00625, 0.00625, 0.00625, 0.00625, 0.00625, 0.00625, 0.00625, 0.00625, 0.00625, 0.00625, 0.00625, 0.00625, 0.00625, 0.00625, 0.00625, 0.00625, 0.00625, 0.00625, 0.00625, 0.00625, 0.00625, 0.00625, 0.00625, 0.00625, 0.00625, 0.00625, 0.00625, 0.00625, 0.00625, 0.00625, 0.00625, 0.00625, 0.00625, 0.00625, 0.00625, 0.00625, 0.00625, 0.00625, 0.00625, 0.00625, 0.00625, 0.00625, 0.00625, 0.00625, 0.009900990099009901, 0.009900990099009901, 0.009900990099009901, 0.009900990099009901, 0.009900990099009901, 0.009900990099009901, 0.009900990099009901, 0.009900990099009901, 0.009900990099009901, 0.009900990099009901, 0.009900990099009901, 0.009900990099009901, 0.009900990099009901, 0.009900990099009901, 0.009900990099009901, 0.009900990099009901, 0.009900990099009901, 0.009900990099009901, 0.009900990099009901, 0.009900990099009901, 0.009900990099009901, 0.009900990099009901, 0.009900990099009901, 0.009900990099009901, 0.009900990099009901, 0.009900990099009901, 0.009900990099009901, 0.009900990099009901, 0.009900990099009901, 0.009900990099009901, 0.009900990099009901, 0.009900990099009901, 0.009900990099009901, 0.009900990099009901, 0.009900990099009901, 0.009900990099009901, 0.009900990099009901, 0.009900990099009901, 0.009900990099009901, 0.009900990099009901, 0.009900990099009901, 0.009900990099009901, 0.009900990099009901, 0.009900990099009901, 0.009900990099009901, 0.009900990099009901, 0.009900990099009901, 0.009900990099009901, 0.009900990099009901, 0.009900990099009901, 0.009900990099009901, 0.009900990099009901, 0.009900990099009901, 0.009900990099009901, 0.009900990099009901, 0.009900990099009901, 0.009900990099009901, 0.009900990099009901, 0.009900990099009901, 0.009900990099009901, 0.009900990099009901, 0.009900990099009901, 0.009900990099009901, 0.009900990099009901, 0.009900990099009901, 0.009900990099009901, 0.009900990099009901, 0.009900990099009901, 0.009900990099009901, 0.009900990099009901, 0.009900990099009901, 0.009900990099009901, 0.009900990099009901, 0.009900990099009901, 0.009900990099009901, 0.009900990099009901, 0.009900990099009901, 0.009900990099009901, 0.009900990099009901, 0.009900990099009901, 0.009900990099009901, 0.009900990099009901, 0.009900990099009901, 0.009900990099009901, 0.009900990099009901, 0.009900990099009901, 0.009900990099009901, 0.009900990099009901, 0.009900990099009901, 0.009900990099009901, 0.009900990099009901, 0.009900990099009901, 0.009900990099009901, 0.009900990099009901, 0.009900990099009901, 0.009900990099009901, 0.009900990099009901, 0.009900990099009901, 0.009900990099009901, 0.009900990099009901, 0.009900990099009901, 0.007936507936507936, 0.007936507936507936, 0.007936507936507936, 0.007936507936507936, 0.007936507936507936, 0.007936507936507936, 0.007936507936507936, 0.007936507936507936, 0.007936507936507936, 0.007936507936507936, 0.007936507936507936, 0.007936507936507936, 0.007936507936507936, 0.007936507936507936, 0.007936507936507936, 0.007936507936507936, 0.007936507936507936, 0.007936507936507936, 0.007936507936507936, 0.007936507936507936, 0.007936507936507936, 0.007936507936507936, 0.007936507936507936, 0.007936507936507936, 0.007936507936507936, 0.007936507936507936, 0.007936507936507936, 0.007936507936507936, 0.007936507936507936, 0.007936507936507936, 0.007936507936507936, 0.007936507936507936, 0.007936507936507936, 0.007936507936507936, 0.007936507936507936, 0.007936507936507936, 0.007936507936507936, 0.007936507936507936, 0.007936507936507936, 0.007936507936507936, 0.007936507936507936, 0.007936507936507936, 0.007936507936507936, 0.007936507936507936, 0.007936507936507936, 0.007936507936507936, 0.007936507936507936, 0.007936507936507936, 0.007936507936507936, 0.007936507936507936, 0.007936507936507936, 0.007936507936507936, 0.007936507936507936, 0.007936507936507936, 0.007936507936507936, 0.007936507936507936, 0.007936507936507936, 0.007936507936507936, 0.007936507936507936, 0.007936507936507936, 0.007936507936507936, 0.007936507936507936, 0.007936507936507936, 0.007936507936507936, 0.007936507936507936, 0.007936507936507936, 0.007936507936507936, 0.007936507936507936, 0.007936507936507936, 0.007936507936507936, 0.007936507936507936, 0.007936507936507936, 0.007936507936507936, 0.007936507936507936, 0.007936507936507936, 0.007936507936507936, 0.007936507936507936, 0.007936507936507936, 0.007936507936507936, 0.007936507936507936, 0.007936507936507936, 0.007936507936507936, 0.007936507936507936, 0.007936507936507936, 0.007936507936507936, 0.007936507936507936, 0.007936507936507936, 0.007936507936507936, 0.007936507936507936, 0.007936507936507936, 0.007936507936507936, 0.007936507936507936, 0.007936507936507936, 0.007936507936507936, 0.007936507936507936, 0.007936507936507936, 0.007936507936507936, 0.007936507936507936, 0.007936507936507936, 0.007936507936507936, 0.007936507936507936, 0.007936507936507936, 0.007936507936507936, 0.007936507936507936, 0.007936507936507936, 0.007936507936507936, 0.007936507936507936, 0.007936507936507936, 0.007936507936507936, 0.007936507936507936, 0.007936507936507936, 0.007936507936507936, 0.007936507936507936, 0.007936507936507936, 0.007936507936507936, 0.007936507936507936, 0.007936507936507936, 0.007936507936507936, 0.007936507936507936, 0.007936507936507936, 0.007936507936507936, 0.007936507936507936, 0.007936507936507936, 0.007936507936507936, 0.007936507936507936, 0.007936507936507936, 0.005747126436781609, 0.005747126436781609, 0.005747126436781609, 0.005747126436781609, 0.005747126436781609, 0.005747126436781609, 0.005747126436781609, 0.005747126436781609, 0.005747126436781609, 0.005747126436781609, 0.005747126436781609, 0.005747126436781609, 0.005747126436781609, 0.005747126436781609, 0.005747126436781609, 0.005747126436781609, 0.005747126436781609, 0.005747126436781609, 0.005747126436781609, 0.005747126436781609, 0.005747126436781609, 0.005747126436781609, 0.005747126436781609, 0.005747126436781609, 0.005747126436781609, 0.005747126436781609, 0.005747126436781609, 0.005747126436781609, 0.005747126436781609, 0.005747126436781609, 0.005747126436781609, 0.005747126436781609, 0.005747126436781609, 0.005747126436781609, 0.005747126436781609, 0.005747126436781609, 0.005747126436781609, 0.005747126436781609, 0.005747126436781609, 0.005747126436781609, 0.005747126436781609, 0.005747126436781609, 0.005747126436781609, 0.005747126436781609, 0.005747126436781609, 0.005747126436781609, 0.005747126436781609, 0.005747126436781609, 0.005747126436781609, 0.005747126436781609, 0.005747126436781609, 0.005747126436781609, 0.005747126436781609, 0.005747126436781609, 0.005747126436781609, 0.005747126436781609, 0.005747126436781609, 0.005747126436781609, 0.005747126436781609, 0.005747126436781609, 0.005747126436781609, 0.005747126436781609, 0.005747126436781609, 0.005747126436781609, 0.005747126436781609, 0.005747126436781609, 0.005747126436781609, 0.005747126436781609, 0.005747126436781609, 0.005747126436781609, 0.005747126436781609, 0.005747126436781609, 0.005747126436781609, 0.005747126436781609, 0.005747126436781609, 0.005747126436781609, 0.005747126436781609, 0.005747126436781609, 0.005747126436781609, 0.005747126436781609, 0.005747126436781609, 0.005747126436781609, 0.005747126436781609, 0.005747126436781609, 0.005747126436781609, 0.005747126436781609, 0.005747126436781609, 0.005747126436781609, 0.005747126436781609, 0.005747126436781609, 0.005747126436781609, 0.005747126436781609, 0.005747126436781609, 0.005747126436781609, 0.005747126436781609, 0.005747126436781609, 0.005747126436781609, 0.005747126436781609, 0.005747126436781609, 0.005747126436781609, 0.005747126436781609, 0.005747126436781609, 0.005747126436781609, 0.005747126436781609, 0.005747126436781609, 0.005747126436781609, 0.005747126436781609, 0.005747126436781609, 0.005747126436781609, 0.005747126436781609, 0.005747126436781609, 0.005747126436781609, 0.005747126436781609, 0.005747126436781609, 0.005747126436781609, 0.005747126436781609, 0.005747126436781609, 0.005747126436781609, 0.005747126436781609, 0.005747126436781609, 0.005747126436781609, 0.005747126436781609, 0.005747126436781609, 0.005747126436781609, 0.005747126436781609, 0.005747126436781609, 0.005747126436781609, 0.005747126436781609, 0.005747126436781609, 0.005747126436781609, 0.005747126436781609, 0.005747126436781609, 0.005747126436781609, 0.005747126436781609, 0.005747126436781609, 0.005747126436781609, 0.005747126436781609, 0.005747126436781609, 0.005747126436781609, 0.005747126436781609, 0.005747126436781609, 0.005747126436781609, 0.005747126436781609, 0.005747126436781609, 0.005747126436781609, 0.005747126436781609, 0.005747126436781609, 0.005747126436781609, 0.005747126436781609, 0.005747126436781609, 0.005747126436781609, 0.005747126436781609, 0.005747126436781609, 0.005747126436781609, 0.005747126436781609, 0.005747126436781609, 0.005747126436781609, 0.005747126436781609, 0.005747126436781609, 0.005747126436781609, 0.005747126436781609, 0.005747126436781609, 0.005747126436781609, 0.005747126436781609, 0.005747126436781609, 0.005747126436781609, 0.005747126436781609, 0.005747126436781609, 0.005747126436781609, 0.005747126436781609, 0.005747126436781609, 0.005747126436781609, 0.005747126436781609, 0.005747126436781609, 0.004132231404958678, 0.004132231404958678, 0.004132231404958678, 0.004132231404958678, 0.004132231404958678, 0.004132231404958678, 0.004132231404958678, 0.004132231404958678, 0.004132231404958678, 0.004132231404958678, 0.004132231404958678, 0.004132231404958678, 0.004132231404958678, 0.004132231404958678, 0.004132231404958678, 0.004132231404958678, 0.004132231404958678, 0.004132231404958678, 0.004132231404958678, 0.004132231404958678, 0.004132231404958678, 0.004132231404958678, 0.004132231404958678, 0.004132231404958678, 0.004132231404958678, 0.004132231404958678, 0.004132231404958678, 0.004132231404958678, 0.004132231404958678, 0.004132231404958678, 0.004132231404958678, 0.004132231404958678, 0.004132231404958678, 0.004132231404958678, 0.004132231404958678, 0.004132231404958678, 0.004132231404958678, 0.004132231404958678, 0.004132231404958678, 0.004132231404958678, 0.004132231404958678, 0.004132231404958678, 0.004132231404958678, 0.004132231404958678, 0.004132231404958678, 0.004132231404958678, 0.004132231404958678, 0.004132231404958678, 0.004132231404958678, 0.004132231404958678, 0.004132231404958678, 0.004132231404958678, 0.004132231404958678, 0.004132231404958678, 0.004132231404958678, 0.004132231404958678, 0.004132231404958678, 0.004132231404958678, 0.004132231404958678, 0.004132231404958678, 0.004132231404958678, 0.004132231404958678, 0.004132231404958678, 0.004132231404958678, 0.004132231404958678, 0.004132231404958678, 0.004132231404958678, 0.004132231404958678, 0.004132231404958678, 0.004132231404958678, 0.004132231404958678, 0.004132231404958678, 0.004132231404958678, 0.004132231404958678, 0.004132231404958678, 0.004132231404958678, 0.004132231404958678, 0.004132231404958678, 0.004132231404958678, 0.004132231404958678, 0.004132231404958678, 0.004132231404958678, 0.004132231404958678, 0.004132231404958678, 0.004132231404958678, 0.004132231404958678, 0.004132231404958678, 0.004132231404958678, 0.004132231404958678, 0.004132231404958678, 0.004132231404958678, 0.004132231404958678, 0.004132231404958678, 0.004132231404958678, 0.004132231404958678, 0.004132231404958678, 0.004132231404958678, 0.004132231404958678, 0.004132231404958678, 0.004132231404958678, 0.004132231404958678, 0.004132231404958678, 0.004132231404958678, 0.004132231404958678, 0.004132231404958678, 0.004132231404958678, 0.004132231404958678, 0.004132231404958678, 0.004132231404958678, 0.004132231404958678, 0.004132231404958678, 0.004132231404958678, 0.004132231404958678, 0.004132231404958678, 0.004132231404958678, 0.004132231404958678, 0.004132231404958678, 0.004132231404958678, 0.004132231404958678, 0.004132231404958678, 0.004132231404958678, 0.004132231404958678, 0.004132231404958678, 0.004132231404958678, 0.004132231404958678, 0.004132231404958678, 0.004132231404958678, 0.004132231404958678, 0.004132231404958678, 0.004132231404958678, 0.004132231404958678, 0.004132231404958678, 0.004132231404958678, 0.004132231404958678, 0.004132231404958678, 0.004132231404958678, 0.004132231404958678, 0.004132231404958678, 0.004132231404958678, 0.004132231404958678, 0.004132231404958678, 0.004132231404958678, 0.004132231404958678, 0.004132231404958678, 0.004132231404958678, 0.004132231404958678, 0.004132231404958678, 0.004132231404958678, 0.004132231404958678, 0.004132231404958678, 0.004132231404958678, 0.004132231404958678, 0.004132231404958678, 0.004132231404958678, 0.004132231404958678, 0.004132231404958678, 0.004132231404958678, 0.004132231404958678, 0.004132231404958678, 0.004132231404958678, 0.004132231404958678, 0.004132231404958678, 0.004132231404958678, 0.004132231404958678, 0.004132231404958678, 0.004132231404958678, 0.004132231404958678, 0.004132231404958678, 0.004132231404958678, 0.004132231404958678, 0.004132231404958678, 0.004132231404958678, 0.004132231404958678, 0.004132231404958678, 0.004132231404958678, 0.004132231404958678, 0.004132231404958678, 0.004132231404958678, 0.004132231404958678, 0.004132231404958678, 0.004132231404958678, 0.004132231404958678, 0.004132231404958678, 0.004132231404958678, 0.004132231404958678, 0.004132231404958678, 0.004132231404958678, 0.004132231404958678, 0.004132231404958678, 0.004132231404958678, 0.004132231404958678, 0.004132231404958678, 0.004132231404958678, 0.004132231404958678, 0.004132231404958678, 0.004132231404958678, 0.004132231404958678, 0.004132231404958678, 0.004132231404958678, 0.004132231404958678, 0.004132231404958678, 0.004132231404958678, 0.004132231404958678, 0.004132231404958678, 0.004132231404958678, 0.004132231404958678, 0.004132231404958678, 0.004132231404958678, 0.004132231404958678, 0.004132231404958678, 0.004132231404958678, 0.004132231404958678, 0.004132231404958678, 0.004132231404958678, 0.004132231404958678, 0.004132231404958678, 0.004132231404958678, 0.004132231404958678, 0.004132231404958678, 0.004132231404958678, 0.004132231404958678, 0.004132231404958678, 0.004132231404958678, 0.004132231404958678, 0.004132231404958678, 0.004132231404958678, 0.004132231404958678, 0.004132231404958678, 0.004132231404958678, 0.004132231404958678, 0.004132231404958678, 0.004132231404958678, 0.004132231404958678, 0.004132231404958678, 0.004132231404958678, 0.004132231404958678, 0.004132231404958678, 0.004132231404958678, 0.004132231404958678, 0.004132231404958678, 0.004132231404958678, 0.004132231404958678, 0.008264462809917356, 0.008264462809917356, 0.008264462809917356, 0.008264462809917356, 0.008264462809917356, 0.008264462809917356, 0.008264462809917356, 0.008264462809917356, 0.008264462809917356, 0.008264462809917356, 0.008264462809917356, 0.008264462809917356, 0.008264462809917356, 0.008264462809917356, 0.008264462809917356, 0.008264462809917356, 0.008264462809917356, 0.008264462809917356, 0.008264462809917356, 0.008264462809917356, 0.008264462809917356, 0.008264462809917356, 0.008264462809917356, 0.008264462809917356, 0.008264462809917356, 0.008264462809917356, 0.008264462809917356, 0.008264462809917356, 0.008264462809917356, 0.008264462809917356, 0.008264462809917356, 0.008264462809917356, 0.008264462809917356, 0.008264462809917356, 0.008264462809917356, 0.008264462809917356, 0.008264462809917356, 0.008264462809917356, 0.008264462809917356, 0.008264462809917356, 0.008264462809917356, 0.008264462809917356, 0.008264462809917356, 0.008264462809917356, 0.008264462809917356, 0.008264462809917356, 0.008264462809917356, 0.008264462809917356, 0.008264462809917356, 0.008264462809917356, 0.008264462809917356, 0.008264462809917356, 0.008264462809917356, 0.008264462809917356, 0.008264462809917356, 0.008264462809917356, 0.008264462809917356, 0.008264462809917356, 0.008264462809917356, 0.008264462809917356, 0.008264462809917356, 0.008264462809917356, 0.008264462809917356, 0.008264462809917356, 0.008264462809917356, 0.008264462809917356, 0.008264462809917356, 0.008264462809917356, 0.008264462809917356, 0.008264462809917356, 0.008264462809917356, 0.008264462809917356, 0.008264462809917356, 0.008264462809917356, 0.008264462809917356, 0.008264462809917356, 0.008264462809917356, 0.008264462809917356, 0.008264462809917356, 0.008264462809917356, 0.008264462809917356, 0.008264462809917356, 0.008264462809917356, 0.008264462809917356, 0.008264462809917356, 0.008264462809917356, 0.008264462809917356, 0.008264462809917356, 0.008264462809917356, 0.008264462809917356, 0.008264462809917356, 0.008264462809917356, 0.008264462809917356, 0.008264462809917356, 0.008264462809917356, 0.008264462809917356, 0.008264462809917356, 0.008264462809917356, 0.008264462809917356, 0.008264462809917356, 0.008264462809917356, 0.008264462809917356, 0.008264462809917356, 0.008264462809917356, 0.008264462809917356, 0.008264462809917356, 0.008264462809917356, 0.008264462809917356, 0.008264462809917356, 0.008264462809917356, 0.008264462809917356, 0.008264462809917356, 0.008264462809917356, 0.008264462809917356, 0.008264462809917356, 0.008264462809917356, 0.008264462809917356, 0.008264462809917356, 0.008264462809917356, 0.008264462809917356, 0.008264462809917356, 0.0058823529411764705, 0.0058823529411764705, 0.0058823529411764705, 0.0058823529411764705, 0.0058823529411764705, 0.0058823529411764705, 0.0058823529411764705, 0.0058823529411764705, 0.0058823529411764705, 0.0058823529411764705, 0.0058823529411764705, 0.0058823529411764705, 0.0058823529411764705, 0.0058823529411764705, 0.0058823529411764705, 0.0058823529411764705, 0.0058823529411764705, 0.0058823529411764705, 0.0058823529411764705, 0.0058823529411764705, 0.0058823529411764705, 0.0058823529411764705, 0.0058823529411764705, 0.0058823529411764705, 0.0058823529411764705, 0.0058823529411764705, 0.0058823529411764705, 0.0058823529411764705, 0.0058823529411764705, 0.0058823529411764705, 0.0058823529411764705, 0.0058823529411764705, 0.0058823529411764705, 0.0058823529411764705, 0.0058823529411764705, 0.0058823529411764705, 0.0058823529411764705, 0.0058823529411764705, 0.0058823529411764705, 0.0058823529411764705, 0.0058823529411764705, 0.0058823529411764705, 0.0058823529411764705, 0.0058823529411764705, 0.0058823529411764705, 0.0058823529411764705, 0.0058823529411764705, 0.0058823529411764705, 0.0058823529411764705, 0.0058823529411764705, 0.0058823529411764705, 0.0058823529411764705, 0.0058823529411764705, 0.0058823529411764705, 0.0058823529411764705, 0.0058823529411764705, 0.0058823529411764705, 0.0058823529411764705, 0.0058823529411764705, 0.0058823529411764705, 0.0058823529411764705, 0.0058823529411764705, 0.0058823529411764705, 0.0058823529411764705, 0.0058823529411764705, 0.0058823529411764705, 0.0058823529411764705, 0.0058823529411764705, 0.0058823529411764705, 0.0058823529411764705, 0.0058823529411764705, 0.0058823529411764705, 0.0058823529411764705, 0.0058823529411764705, 0.0058823529411764705, 0.0058823529411764705, 0.0058823529411764705, 0.0058823529411764705, 0.0058823529411764705, 0.0058823529411764705, 0.0058823529411764705, 0.0058823529411764705, 0.0058823529411764705, 0.0058823529411764705, 0.0058823529411764705, 0.0058823529411764705, 0.0058823529411764705, 0.0058823529411764705, 0.0058823529411764705, 0.0058823529411764705, 0.0058823529411764705, 0.0058823529411764705, 0.0058823529411764705, 0.0058823529411764705, 0.0058823529411764705, 0.0058823529411764705, 0.0058823529411764705, 0.0058823529411764705, 0.0058823529411764705, 0.0058823529411764705, 0.0058823529411764705, 0.0058823529411764705, 0.0058823529411764705, 0.0058823529411764705, 0.0058823529411764705, 0.0058823529411764705, 0.0058823529411764705, 0.0058823529411764705, 0.0058823529411764705, 0.0058823529411764705, 0.0058823529411764705, 0.0058823529411764705, 0.0058823529411764705, 0.0058823529411764705, 0.0058823529411764705, 0.0058823529411764705, 0.0058823529411764705, 0.0058823529411764705, 0.0058823529411764705, 0.0058823529411764705, 0.0058823529411764705, 0.0058823529411764705, 0.0058823529411764705, 0.0058823529411764705, 0.0058823529411764705, 0.0058823529411764705, 0.0058823529411764705, 0.0058823529411764705, 0.0058823529411764705, 0.0058823529411764705, 0.0058823529411764705, 0.0058823529411764705, 0.0058823529411764705, 0.0058823529411764705, 0.0058823529411764705, 0.0058823529411764705, 0.0058823529411764705, 0.0058823529411764705, 0.0058823529411764705, 0.0058823529411764705, 0.0058823529411764705, 0.0058823529411764705, 0.0058823529411764705, 0.0058823529411764705, 0.0058823529411764705, 0.0058823529411764705, 0.0058823529411764705, 0.0058823529411764705, 0.0058823529411764705, 0.0058823529411764705, 0.0058823529411764705, 0.0058823529411764705, 0.0058823529411764705, 0.0058823529411764705, 0.0058823529411764705, 0.0058823529411764705, 0.0058823529411764705, 0.0058823529411764705, 0.0058823529411764705, 0.0058823529411764705, 0.0058823529411764705, 0.0058823529411764705, 0.0058823529411764705, 0.0058823529411764705, 0.0058823529411764705, 0.0058823529411764705, 0.0058823529411764705, 0.0058823529411764705, 0.0058823529411764705, 0.0058823529411764705, 0.0058823529411764705, 0.0058823529411764705, 0.0058823529411764705, 0.0058823529411764705, 0.0058823529411764705, 0.0058823529411764705, 0.0058823529411764705, 0.0058823529411764705, 0.0058823529411764705, 0.0058823529411764705, 0.0058823529411764705, 0.0058823529411764705, 0.0058823529411764705, 0.0058823529411764705, 0.0058823529411764705, 0.0058823529411764705, 0.0058823529411764705, 0.0058823529411764705, 0.0058823529411764705, 0.0058823529411764705, 0.0058823529411764705, 0.0058823529411764705, 0.0058823529411764705, 0.0058823529411764705, 0.0058823529411764705, 0.0058823529411764705, 0.0058823529411764705, 0.0058823529411764705, 0.0058823529411764705, 0.0058823529411764705, 0.0058823529411764705, 0.0058823529411764705, 0.0058823529411764705, 0.0058823529411764705, 0.0058823529411764705, 0.0058823529411764705, 0.0058823529411764705, 0.0058823529411764705, 0.0058823529411764705, 0.0058823529411764705, 0.0058823529411764705, 0.0058823529411764705, 0.0058823529411764705, 0.0058823529411764705, 0.0058823529411764705, 0.0058823529411764705, 0.0058823529411764705, 0.0058823529411764705, 0.0058823529411764705, 0.0058823529411764705, 0.0058823529411764705, 0.0058823529411764705, 0.0058823529411764705, 0.0058823529411764705, 0.0058823529411764705, 0.0058823529411764705, 0.0058823529411764705, 0.0058823529411764705, 0.0058823529411764705, 0.0058823529411764705, 0.0058823529411764705, 0.0058823529411764705, 0.0058823529411764705, 0.0058823529411764705, 0.0058823529411764705, 0.0058823529411764705, 0.0058823529411764705, 0.0058823529411764705, 0.005208333333333333, 0.005208333333333333, 0.005208333333333333, 0.005208333333333333, 0.005208333333333333, 0.005208333333333333, 0.005208333333333333, 0.005208333333333333, 0.005208333333333333, 0.005208333333333333, 0.005208333333333333, 0.005208333333333333, 0.005208333333333333, 0.005208333333333333, 0.005208333333333333, 0.005208333333333333, 0.005208333333333333, 0.005208333333333333, 0.005208333333333333, 0.005208333333333333, 0.005208333333333333, 0.005208333333333333, 0.005208333333333333, 0.005208333333333333, 0.005208333333333333, 0.005208333333333333, 0.005208333333333333, 0.005208333333333333, 0.005208333333333333, 0.005208333333333333, 0.005208333333333333, 0.005208333333333333, 0.005208333333333333, 0.005208333333333333, 0.005208333333333333, 0.005208333333333333, 0.005208333333333333, 0.005208333333333333, 0.005208333333333333, 0.005208333333333333, 0.005208333333333333, 0.005208333333333333, 0.005208333333333333, 0.005208333333333333, 0.005208333333333333, 0.005208333333333333, 0.005208333333333333, 0.005208333333333333, 0.005208333333333333, 0.005208333333333333, 0.005208333333333333, 0.005208333333333333, 0.005208333333333333, 0.005208333333333333, 0.005208333333333333, 0.005208333333333333, 0.005208333333333333, 0.005208333333333333, 0.005208333333333333, 0.005208333333333333, 0.005208333333333333, 0.005208333333333333, 0.005208333333333333, 0.005208333333333333, 0.005208333333333333, 0.005208333333333333, 0.005208333333333333, 0.005208333333333333, 0.005208333333333333, 0.005208333333333333, 0.005208333333333333, 0.005208333333333333, 0.005208333333333333, 0.005208333333333333, 0.005208333333333333, 0.005208333333333333, 0.005208333333333333, 0.005208333333333333, 0.005208333333333333, 0.005208333333333333, 0.005208333333333333, 0.005208333333333333, 0.005208333333333333, 0.005208333333333333, 0.005208333333333333, 0.005208333333333333, 0.005208333333333333, 0.005208333333333333, 0.005208333333333333, 0.005208333333333333, 0.005208333333333333, 0.005208333333333333, 0.005208333333333333, 0.005208333333333333, 0.005208333333333333, 0.005208333333333333, 0.005208333333333333, 0.005208333333333333, 0.005208333333333333, 0.005208333333333333, 0.005208333333333333, 0.005208333333333333, 0.005208333333333333, 0.005208333333333333, 0.005208333333333333, 0.005208333333333333, 0.005208333333333333, 0.005208333333333333, 0.005208333333333333, 0.005208333333333333, 0.005208333333333333, 0.005208333333333333, 0.005208333333333333, 0.005208333333333333, 0.005208333333333333, 0.005208333333333333, 0.005208333333333333, 0.005208333333333333, 0.005208333333333333, 0.005208333333333333, 0.005208333333333333, 0.005208333333333333, 0.005208333333333333, 0.005208333333333333, 0.005208333333333333, 0.005208333333333333, 0.005208333333333333, 0.005208333333333333, 0.005208333333333333, 0.005208333333333333, 0.005208333333333333, 0.005208333333333333, 0.005208333333333333, 0.005208333333333333, 0.005208333333333333, 0.005208333333333333, 0.005208333333333333, 0.005208333333333333, 0.005208333333333333, 0.005208333333333333, 0.005208333333333333, 0.005208333333333333, 0.005208333333333333, 0.005208333333333333, 0.005208333333333333, 0.005208333333333333, 0.005208333333333333, 0.005208333333333333, 0.005208333333333333, 0.005208333333333333, 0.005208333333333333, 0.005208333333333333, 0.005208333333333333, 0.005208333333333333, 0.005208333333333333, 0.005208333333333333, 0.005208333333333333, 0.005208333333333333, 0.005208333333333333, 0.005208333333333333, 0.005208333333333333, 0.005208333333333333, 0.005208333333333333, 0.005208333333333333, 0.005208333333333333, 0.005208333333333333, 0.005208333333333333, 0.005208333333333333, 0.005208333333333333, 0.005208333333333333, 0.004201680672268907, 0.004201680672268907, 0.004201680672268907, 0.004201680672268907, 0.004201680672268907, 0.004201680672268907, 0.004201680672268907, 0.004201680672268907, 0.004201680672268907, 0.004201680672268907, 0.004201680672268907, 0.004201680672268907, 0.004201680672268907, 0.004201680672268907, 0.004201680672268907, 0.004201680672268907, 0.004201680672268907, 0.004201680672268907, 0.004201680672268907, 0.004201680672268907, 0.004201680672268907, 0.004201680672268907, 0.004201680672268907, 0.004201680672268907, 0.004201680672268907, 0.004201680672268907, 0.004201680672268907, 0.004201680672268907, 0.004201680672268907, 0.004201680672268907, 0.004201680672268907, 0.004201680672268907, 0.004201680672268907, 0.004201680672268907, 0.004201680672268907, 0.004201680672268907, 0.004201680672268907, 0.004201680672268907, 0.004201680672268907, 0.004201680672268907, 0.004201680672268907, 0.004201680672268907, 0.004201680672268907, 0.004201680672268907, 0.004201680672268907, 0.004201680672268907, 0.004201680672268907, 0.004201680672268907, 0.004201680672268907, 0.004201680672268907, 0.004201680672268907, 0.004201680672268907, 0.004201680672268907, 0.004201680672268907, 0.004201680672268907, 0.004201680672268907, 0.004201680672268907, 0.004201680672268907, 0.004201680672268907, 0.004201680672268907, 0.004201680672268907, 0.004201680672268907, 0.004201680672268907, 0.004201680672268907, 0.004201680672268907, 0.004201680672268907, 0.004201680672268907, 0.004201680672268907, 0.004201680672268907, 0.004201680672268907, 0.004201680672268907, 0.004201680672268907, 0.004201680672268907, 0.004201680672268907, 0.004201680672268907, 0.004201680672268907, 0.004201680672268907, 0.004201680672268907, 0.004201680672268907, 0.004201680672268907, 0.004201680672268907, 0.004201680672268907, 0.004201680672268907, 0.004201680672268907, 0.004201680672268907, 0.004201680672268907, 0.004201680672268907, 0.004201680672268907, 0.004201680672268907, 0.004201680672268907, 0.004201680672268907, 0.004201680672268907, 0.004201680672268907, 0.004201680672268907, 0.004201680672268907, 0.004201680672268907, 0.004201680672268907, 0.004201680672268907, 0.004201680672268907, 0.004201680672268907, 0.004201680672268907, 0.004201680672268907, 0.004201680672268907, 0.004201680672268907, 0.004201680672268907, 0.004201680672268907, 0.004201680672268907, 0.004201680672268907, 0.004201680672268907, 0.004201680672268907, 0.004201680672268907, 0.004201680672268907, 0.004201680672268907, 0.004201680672268907, 0.004201680672268907, 0.004201680672268907, 0.004201680672268907, 0.004201680672268907, 0.004201680672268907, 0.004201680672268907, 0.004201680672268907, 0.004201680672268907, 0.004201680672268907, 0.004201680672268907, 0.004201680672268907, 0.004201680672268907, 0.004201680672268907, 0.004201680672268907, 0.004201680672268907, 0.004201680672268907, 0.004201680672268907, 0.004201680672268907, 0.004201680672268907, 0.004201680672268907, 0.004201680672268907, 0.004201680672268907, 0.004201680672268907, 0.004201680672268907, 0.004201680672268907, 0.004201680672268907, 0.004201680672268907, 0.004201680672268907, 0.004201680672268907, 0.004201680672268907, 0.004201680672268907, 0.004201680672268907, 0.004201680672268907, 0.004201680672268907, 0.004201680672268907, 0.004201680672268907, 0.004201680672268907, 0.004201680672268907, 0.004201680672268907, 0.004201680672268907, 0.004201680672268907, 0.004201680672268907, 0.004201680672268907, 0.004201680672268907, 0.004201680672268907, 0.004201680672268907, 0.004201680672268907, 0.004201680672268907, 0.004201680672268907, 0.004201680672268907, 0.004201680672268907, 0.004201680672268907, 0.004201680672268907, 0.004201680672268907, 0.004201680672268907, 0.004201680672268907, 0.004201680672268907, 0.004201680672268907, 0.004201680672268907, 0.004201680672268907, 0.004201680672268907, 0.004201680672268907, 0.004201680672268907, 0.004201680672268907, 0.004201680672268907, 0.004201680672268907, 0.004201680672268907, 0.004201680672268907, 0.004201680672268907, 0.004201680672268907, 0.004201680672268907, 0.004201680672268907, 0.004201680672268907, 0.004201680672268907, 0.004201680672268907, 0.004201680672268907, 0.004201680672268907, 0.004201680672268907, 0.004201680672268907, 0.004201680672268907, 0.004201680672268907, 0.004201680672268907, 0.004201680672268907, 0.004201680672268907, 0.004201680672268907, 0.004201680672268907, 0.005, 0.005, 0.005, 0.005, 0.005, 0.005, 0.005, 0.005, 0.005, 0.005, 0.005, 0.005, 0.005, 0.005, 0.005, 0.005, 0.005, 0.005, 0.005, 0.005, 0.005, 0.005, 0.005, 0.005, 0.005, 0.005, 0.005, 0.005, 0.005, 0.005, 0.005, 0.005, 0.005, 0.005, 0.005, 0.005, 0.005, 0.005, 0.005, 0.005, 0.005, 0.005, 0.005, 0.005, 0.005, 0.005, 0.005, 0.005, 0.005, 0.005, 0.005, 0.005, 0.005, 0.005, 0.005, 0.005, 0.005, 0.005, 0.005, 0.005, 0.005, 0.005, 0.005, 0.005, 0.005, 0.005, 0.005, 0.005, 0.005, 0.005, 0.005, 0.005, 0.005, 0.005, 0.005, 0.005, 0.005, 0.005, 0.005, 0.005, 0.005, 0.005, 0.005, 0.005, 0.005, 0.005, 0.005, 0.005, 0.005, 0.005, 0.005, 0.005, 0.005, 0.005, 0.005, 0.005, 0.005, 0.005, 0.005, 0.005, 0.005, 0.005, 0.005, 0.005, 0.005, 0.005, 0.005, 0.005, 0.005, 0.005, 0.005, 0.005, 0.005, 0.005, 0.005, 0.005, 0.005, 0.005, 0.005, 0.005, 0.005, 0.005, 0.005, 0.005, 0.005, 0.005, 0.005, 0.005, 0.005, 0.005, 0.005, 0.005, 0.005, 0.005, 0.005, 0.005, 0.005, 0.005, 0.005, 0.005, 0.005, 0.005, 0.005, 0.005, 0.005, 0.005, 0.005, 0.005, 0.005, 0.005, 0.005, 0.005, 0.005, 0.005, 0.005, 0.005, 0.005, 0.005, 0.005, 0.005, 0.005, 0.005, 0.005, 0.005, 0.005, 0.005, 0.005, 0.005, 0.005, 0.005, 0.005, 0.005, 0.005, 0.005, 0.005, 0.005, 0.005, 0.005, 0.005, 0.005, 0.005, 0.005, 0.005, 0.005, 0.005, 0.005, 0.005, 0.005, 0.005, 0.005, 0.005263157894736842, 0.005263157894736842, 0.005263157894736842, 0.005263157894736842, 0.005263157894736842, 0.005263157894736842, 0.005263157894736842, 0.005263157894736842, 0.005263157894736842, 0.005263157894736842, 0.005263157894736842, 0.005263157894736842, 0.005263157894736842, 0.005263157894736842, 0.005263157894736842, 0.005263157894736842, 0.005263157894736842, 0.005263157894736842, 0.005263157894736842, 0.005263157894736842, 0.005263157894736842, 0.005263157894736842, 0.005263157894736842, 0.005263157894736842, 0.005263157894736842, 0.005263157894736842, 0.005263157894736842, 0.005263157894736842, 0.005263157894736842, 0.005263157894736842, 0.005263157894736842, 0.005263157894736842, 0.005263157894736842, 0.005263157894736842, 0.005263157894736842, 0.005263157894736842, 0.005263157894736842, 0.005263157894736842, 0.005263157894736842, 0.005263157894736842, 0.005263157894736842, 0.005263157894736842, 0.005263157894736842, 0.005263157894736842, 0.005263157894736842, 0.005263157894736842, 0.005263157894736842, 0.005263157894736842, 0.005263157894736842, 0.005263157894736842, 0.005263157894736842, 0.005263157894736842, 0.005263157894736842, 0.005263157894736842, 0.005263157894736842, 0.005263157894736842, 0.005263157894736842, 0.005263157894736842, 0.005263157894736842, 0.005263157894736842, 0.005263157894736842, 0.005263157894736842, 0.005263157894736842, 0.005263157894736842, 0.005263157894736842, 0.005263157894736842, 0.005263157894736842, 0.005263157894736842, 0.005263157894736842, 0.005263157894736842, 0.005263157894736842, 0.005263157894736842, 0.005263157894736842, 0.005263157894736842, 0.005263157894736842, 0.005263157894736842, 0.005263157894736842, 0.005263157894736842, 0.005263157894736842, 0.005263157894736842, 0.005263157894736842, 0.005263157894736842, 0.005263157894736842, 0.005263157894736842, 0.005263157894736842, 0.005263157894736842, 0.005263157894736842, 0.005263157894736842, 0.005263157894736842, 0.005263157894736842, 0.005263157894736842, 0.005263157894736842, 0.005263157894736842, 0.005263157894736842, 0.005263157894736842, 0.005263157894736842, 0.005263157894736842, 0.005263157894736842, 0.005263157894736842, 0.005263157894736842, 0.005263157894736842, 0.005263157894736842, 0.005263157894736842, 0.005263157894736842, 0.005263157894736842, 0.005263157894736842, 0.005263157894736842, 0.005263157894736842, 0.005263157894736842, 0.005263157894736842, 0.005263157894736842, 0.005263157894736842, 0.005263157894736842, 0.005263157894736842, 0.005263157894736842, 0.005263157894736842, 0.005263157894736842, 0.005263157894736842, 0.005263157894736842, 0.005263157894736842, 0.005263157894736842, 0.005263157894736842, 0.005263157894736842, 0.005263157894736842, 0.005263157894736842, 0.005263157894736842, 0.005263157894736842, 0.005263157894736842, 0.005263157894736842, 0.005263157894736842, 0.005263157894736842, 0.005263157894736842, 0.005263157894736842, 0.005263157894736842, 0.005263157894736842, 0.005263157894736842, 0.005263157894736842, 0.005263157894736842, 0.005263157894736842, 0.005263157894736842, 0.005263157894736842, 0.005263157894736842, 0.005263157894736842, 0.005263157894736842, 0.005263157894736842, 0.005263157894736842, 0.005263157894736842, 0.005263157894736842, 0.005263157894736842, 0.005263157894736842, 0.005263157894736842, 0.005263157894736842, 0.005263157894736842, 0.005263157894736842, 0.005263157894736842, 0.005263157894736842, 0.005263157894736842, 0.005263157894736842, 0.005263157894736842, 0.005263157894736842, 0.00625, 0.00625, 0.00625, 0.00625, 0.00625, 0.00625, 0.00625, 0.00625, 0.00625, 0.00625, 0.00625, 0.00625, 0.00625, 0.00625, 0.00625, 0.00625, 0.00625, 0.00625, 0.00625, 0.00625, 0.00625, 0.00625, 0.00625, 0.00625, 0.00625, 0.00625, 0.00625, 0.00625, 0.00625, 0.00625, 0.00625, 0.00625, 0.00625, 0.00625, 0.00625, 0.00625, 0.00625, 0.00625, 0.00625, 0.00625, 0.00625, 0.00625, 0.00625, 0.00625, 0.00625, 0.00625, 0.00625, 0.00625, 0.00625, 0.00625, 0.00625, 0.00625, 0.00625, 0.00625, 0.00625, 0.00625, 0.00625, 0.00625, 0.00625, 0.00625, 0.00625, 0.00625, 0.00625, 0.00625, 0.00625, 0.00625, 0.00625, 0.00625, 0.00625, 0.00625, 0.00625, 0.00625, 0.00625, 0.00625, 0.00625, 0.00625, 0.00625, 0.00625, 0.00625, 0.00625, 0.00625, 0.00625, 0.00625, 0.00625, 0.00625, 0.00625, 0.00625, 0.00625, 0.00625, 0.00625, 0.00625, 0.00625, 0.00625, 0.00625, 0.00625, 0.00625, 0.00625, 0.00625, 0.00625, 0.00625, 0.00625, 0.00625, 0.00625, 0.00625, 0.00625, 0.00625, 0.00625, 0.00625, 0.00625, 0.00625, 0.00625, 0.00625, 0.00625, 0.00625, 0.00625, 0.00625, 0.00625, 0.00625, 0.00625, 0.00625, 0.00625, 0.00625, 0.00625, 0.00625, 0.00625, 0.00625, 0.00625, 0.00625, 0.00625, 0.00625, 0.00625, 0.00625, 0.00625, 0.00625, 0.00625, 0.00625, 0.00625, 0.00625, 0.00625, 0.00625, 0.00625, 0.00625, 0.00625, 0.00625, 0.00625, 0.00625, 0.00625, 0.00625, 0.00625, 0.00625, 0.00625, 0.00625, 0.00625, 0.00625, 0.00625, 0.00625, 0.00625, 0.00625, 0.00625, 0.00625, 0.00625, 0.00625, 0.00625, 0.00625, 0.00625, 0.00625, 0.00625, 0.00625, 0.00625, 0.00625, 0.00625, 0.00625, 0.00625, 0.00625, 0.00625, 0.00625, 0.00625, 0.00625, 0.00625, 0.00625, 0.00625, 0.00625, 0.00625, 0.00625, 0.00625, 0.00625, 0.00625, 0.00625, 0.00625, 0.00625, 0.00625, 0.00625]\n",
            "Time taken\n"
          ]
        }
      ],
      "source": [
        "path_train = path_dataset1+\"train\"\n",
        "path_test = path_dataset1+\"test\"\n",
        "val_split = 0.2\n",
        "batch_size = 128\n",
        "input_size = (224,224)\n",
        "\n",
        "train_loader, test_loader, val_loader = load_data(path_train, val_split, path_test, batch_size, input_size)"
      ]
    },
    {
      "cell_type": "code",
      "execution_count": null,
      "metadata": {
        "colab": {
          "base_uri": "https://localhost:8080/"
        },
        "id": "pzxEFoxxs26O",
        "outputId": "260ac207-57cc-470f-f9b4-b6699a0cc698"
      },
      "outputs": [
        {
          "name": "stdout",
          "output_type": "stream",
          "text": [
            "Device: cuda:0\n",
            "Epoch [1/1], Step [10/66], Loss: 2.7568, Accuracy: 0.00%, Validation Accuracy: 10.33%\n",
            "Epoch [1/1], Step [20/66], Loss: 2.6704, Accuracy: 0.00%, Validation Accuracy: 10.33%\n",
            "Epoch [1/1], Step [30/66], Loss: 2.6873, Accuracy: 9.38%, Validation Accuracy: 9.18%\n",
            "Epoch [1/1], Step [40/66], Loss: 2.6864, Accuracy: 15.62%, Validation Accuracy: 9.18%\n",
            "Epoch [1/1], Step [50/66], Loss: 2.6760, Accuracy: 3.12%, Validation Accuracy: 9.18%\n",
            "Epoch [1/1], Step [60/66], Loss: 2.5726, Accuracy: 15.62%, Validation Accuracy: 15.30%\n",
            "######## Training Finished in 235.3470482826233 seconds ###########\n"
          ]
        }
      ],
      "source": [
        "savepath = path_save+\"alexnetmodel_d1.pt\"\n",
        "\n",
        "trained_AlexNet_model, device = train_model(AlexNet_model, num_epochs, train_loader, criterion, optimizer, savepath)"
      ]
    },
    {
      "cell_type": "code",
      "execution_count": null,
      "metadata": {
        "id": "lBVfPGxuqTaY"
      },
      "outputs": [],
      "source": [
        "# for loading model\n",
        "# trained_AlexNet_model.load_state_dict(torch.load(path+\"alexnetmodel.pt\"))"
      ]
    },
    {
      "cell_type": "code",
      "execution_count": null,
      "metadata": {
        "colab": {
          "base_uri": "https://localhost:8080/"
        },
        "id": "qnfIndd2s29e",
        "outputId": "3e4bbc6c-d292-48f7-ab90-c65c149acd2f"
      },
      "outputs": [
        {
          "name": "stdout",
          "output_type": "stream",
          "text": [
            "Test Accuracy of the model on the 710 test images: 19.859154929577468 %\n"
          ]
        }
      ],
      "source": [
        "evaluate_model(trained_AlexNet_model, test_loader, device)"
      ]
    },
    {
      "cell_type": "code",
      "execution_count": null,
      "metadata": {
        "id": "tUru4h3JFq2b"
      },
      "outputs": [],
      "source": []
    },
    {
      "cell_type": "markdown",
      "metadata": {
        "id": "vEqLQu1V8O9v"
      },
      "source": [
        "On dataset 2:"
      ]
    },
    {
      "cell_type": "code",
      "execution_count": null,
      "metadata": {
        "colab": {
          "base_uri": "https://localhost:8080/"
        },
        "id": "I2j6kffT8O9v",
        "outputId": "c5193785-0b42-427d-9827-29d6fc373ab5"
      },
      "outputs": [
        {
          "name": "stderr",
          "output_type": "stream",
          "text": [
            "Using cache found in /root/.cache/torch/hub/pytorch_vision_v0.6.0\n",
            "/usr/local/lib/python3.7/dist-packages/torchvision/models/_utils.py:209: UserWarning: The parameter 'pretrained' is deprecated since 0.13 and will be removed in 0.15, please use 'weights' instead.\n",
            "  f\"The parameter '{pretrained_param}' is deprecated since 0.13 and will be removed in 0.15, \"\n",
            "/usr/local/lib/python3.7/dist-packages/torchvision/models/_utils.py:223: UserWarning: Arguments other than a weight enum or `None` for 'weights' are deprecated since 0.13 and will be removed in 0.15. The current behavior is equivalent to passing `weights=None`.\n",
            "  warnings.warn(msg)\n"
          ]
        }
      ],
      "source": [
        "AlexNet_model = torch.hub.load('pytorch/vision:v0.6.0', 'alexnet', weights=None)"
      ]
    },
    {
      "cell_type": "code",
      "execution_count": null,
      "metadata": {
        "id": "NrZajJzb8O9v"
      },
      "outputs": [],
      "source": [
        "prev_out = AlexNet_model.classifier[4].out_features\n",
        "AlexNet_model.classifier[6] = nn.Linear( prev_out, nclasses)"
      ]
    },
    {
      "cell_type": "code",
      "execution_count": null,
      "metadata": {
        "id": "mLV6Cd7r8O9w"
      },
      "outputs": [],
      "source": [
        "optimizer = torch.optim.Adam(AlexNet_model.parameters(), lr=learning_rate) "
      ]
    },
    {
      "cell_type": "code",
      "execution_count": null,
      "metadata": {
        "colab": {
          "base_uri": "https://localhost:8080/"
        },
        "id": "1xjiDwAq8O9w",
        "outputId": "9e5b9e13-3cc0-4ea5-94e2-7440b7250449"
      },
      "outputs": [
        {
          "name": "stdout",
          "output_type": "stream",
          "text": [
            "[0.007142857142857143, 0.005555555555555556, 0.004484304932735426, 0.00625, 0.009900990099009901, 0.007936507936507936, 0.005747126436781609, 0.004132231404958678, 0.008264462809917356, 0.0058823529411764705, 0.005208333333333333, 0.004201680672268907, 0.005, 0.005263157894736842, 0.00625]\n",
            "[0.007142857142857143, 0.007142857142857143, 0.007142857142857143, 0.007142857142857143, 0.007142857142857143, 0.007142857142857143, 0.007142857142857143, 0.007142857142857143, 0.007142857142857143, 0.007142857142857143, 0.007142857142857143, 0.007142857142857143, 0.007142857142857143, 0.007142857142857143, 0.007142857142857143, 0.007142857142857143, 0.007142857142857143, 0.007142857142857143, 0.007142857142857143, 0.007142857142857143, 0.007142857142857143, 0.007142857142857143, 0.007142857142857143, 0.007142857142857143, 0.007142857142857143, 0.007142857142857143, 0.007142857142857143, 0.007142857142857143, 0.007142857142857143, 0.007142857142857143, 0.007142857142857143, 0.007142857142857143, 0.007142857142857143, 0.007142857142857143, 0.007142857142857143, 0.007142857142857143, 0.007142857142857143, 0.007142857142857143, 0.007142857142857143, 0.007142857142857143, 0.007142857142857143, 0.007142857142857143, 0.007142857142857143, 0.007142857142857143, 0.007142857142857143, 0.007142857142857143, 0.007142857142857143, 0.007142857142857143, 0.007142857142857143, 0.007142857142857143, 0.007142857142857143, 0.007142857142857143, 0.007142857142857143, 0.007142857142857143, 0.007142857142857143, 0.007142857142857143, 0.007142857142857143, 0.007142857142857143, 0.007142857142857143, 0.007142857142857143, 0.007142857142857143, 0.007142857142857143, 0.007142857142857143, 0.007142857142857143, 0.007142857142857143, 0.007142857142857143, 0.007142857142857143, 0.007142857142857143, 0.007142857142857143, 0.007142857142857143, 0.007142857142857143, 0.007142857142857143, 0.007142857142857143, 0.007142857142857143, 0.007142857142857143, 0.007142857142857143, 0.007142857142857143, 0.007142857142857143, 0.007142857142857143, 0.007142857142857143, 0.007142857142857143, 0.007142857142857143, 0.007142857142857143, 0.007142857142857143, 0.007142857142857143, 0.007142857142857143, 0.007142857142857143, 0.007142857142857143, 0.007142857142857143, 0.007142857142857143, 0.007142857142857143, 0.007142857142857143, 0.007142857142857143, 0.007142857142857143, 0.007142857142857143, 0.007142857142857143, 0.007142857142857143, 0.007142857142857143, 0.007142857142857143, 0.007142857142857143, 0.007142857142857143, 0.007142857142857143, 0.007142857142857143, 0.007142857142857143, 0.007142857142857143, 0.007142857142857143, 0.007142857142857143, 0.007142857142857143, 0.007142857142857143, 0.007142857142857143, 0.007142857142857143, 0.007142857142857143, 0.007142857142857143, 0.007142857142857143, 0.007142857142857143, 0.007142857142857143, 0.007142857142857143, 0.007142857142857143, 0.007142857142857143, 0.007142857142857143, 0.007142857142857143, 0.007142857142857143, 0.007142857142857143, 0.007142857142857143, 0.007142857142857143, 0.007142857142857143, 0.007142857142857143, 0.007142857142857143, 0.007142857142857143, 0.007142857142857143, 0.007142857142857143, 0.007142857142857143, 0.007142857142857143, 0.007142857142857143, 0.007142857142857143, 0.007142857142857143, 0.007142857142857143, 0.007142857142857143, 0.007142857142857143, 0.007142857142857143, 0.007142857142857143, 0.007142857142857143, 0.007142857142857143, 0.007142857142857143, 0.007142857142857143, 0.007142857142857143, 0.007142857142857143, 0.007142857142857143, 0.007142857142857143, 0.007142857142857143, 0.007142857142857143, 0.007142857142857143, 0.007142857142857143, 0.007142857142857143, 0.007142857142857143, 0.007142857142857143, 0.007142857142857143, 0.007142857142857143, 0.007142857142857143, 0.007142857142857143, 0.007142857142857143, 0.007142857142857143, 0.007142857142857143, 0.007142857142857143, 0.007142857142857143, 0.007142857142857143, 0.007142857142857143, 0.007142857142857143, 0.007142857142857143, 0.007142857142857143, 0.007142857142857143, 0.007142857142857143, 0.007142857142857143, 0.007142857142857143, 0.007142857142857143, 0.007142857142857143, 0.007142857142857143, 0.007142857142857143, 0.007142857142857143, 0.007142857142857143, 0.007142857142857143, 0.007142857142857143, 0.007142857142857143, 0.007142857142857143, 0.007142857142857143, 0.007142857142857143, 0.007142857142857143, 0.007142857142857143, 0.007142857142857143, 0.007142857142857143, 0.007142857142857143, 0.007142857142857143, 0.007142857142857143, 0.007142857142857143, 0.007142857142857143, 0.007142857142857143, 0.007142857142857143, 0.007142857142857143, 0.007142857142857143, 0.007142857142857143, 0.007142857142857143, 0.007142857142857143, 0.007142857142857143, 0.007142857142857143, 0.007142857142857143, 0.007142857142857143, 0.007142857142857143, 0.007142857142857143, 0.007142857142857143, 0.007142857142857143, 0.007142857142857143, 0.007142857142857143, 0.007142857142857143, 0.007142857142857143, 0.007142857142857143, 0.007142857142857143, 0.007142857142857143, 0.007142857142857143, 0.007142857142857143, 0.007142857142857143, 0.007142857142857143, 0.007142857142857143, 0.007142857142857143, 0.005555555555555556, 0.005555555555555556, 0.005555555555555556, 0.005555555555555556, 0.005555555555555556, 0.005555555555555556, 0.005555555555555556, 0.005555555555555556, 0.005555555555555556, 0.005555555555555556, 0.005555555555555556, 0.005555555555555556, 0.005555555555555556, 0.005555555555555556, 0.005555555555555556, 0.005555555555555556, 0.005555555555555556, 0.005555555555555556, 0.005555555555555556, 0.005555555555555556, 0.005555555555555556, 0.005555555555555556, 0.005555555555555556, 0.005555555555555556, 0.005555555555555556, 0.005555555555555556, 0.005555555555555556, 0.005555555555555556, 0.005555555555555556, 0.005555555555555556, 0.005555555555555556, 0.005555555555555556, 0.005555555555555556, 0.005555555555555556, 0.005555555555555556, 0.005555555555555556, 0.005555555555555556, 0.005555555555555556, 0.005555555555555556, 0.005555555555555556, 0.005555555555555556, 0.005555555555555556, 0.005555555555555556, 0.005555555555555556, 0.005555555555555556, 0.005555555555555556, 0.005555555555555556, 0.005555555555555556, 0.005555555555555556, 0.005555555555555556, 0.005555555555555556, 0.005555555555555556, 0.005555555555555556, 0.005555555555555556, 0.005555555555555556, 0.005555555555555556, 0.005555555555555556, 0.005555555555555556, 0.005555555555555556, 0.005555555555555556, 0.005555555555555556, 0.005555555555555556, 0.005555555555555556, 0.005555555555555556, 0.005555555555555556, 0.005555555555555556, 0.005555555555555556, 0.005555555555555556, 0.005555555555555556, 0.005555555555555556, 0.005555555555555556, 0.005555555555555556, 0.005555555555555556, 0.005555555555555556, 0.005555555555555556, 0.005555555555555556, 0.005555555555555556, 0.005555555555555556, 0.005555555555555556, 0.005555555555555556, 0.005555555555555556, 0.005555555555555556, 0.005555555555555556, 0.005555555555555556, 0.005555555555555556, 0.005555555555555556, 0.005555555555555556, 0.005555555555555556, 0.005555555555555556, 0.005555555555555556, 0.005555555555555556, 0.005555555555555556, 0.005555555555555556, 0.005555555555555556, 0.005555555555555556, 0.005555555555555556, 0.005555555555555556, 0.005555555555555556, 0.005555555555555556, 0.005555555555555556, 0.005555555555555556, 0.005555555555555556, 0.005555555555555556, 0.005555555555555556, 0.005555555555555556, 0.005555555555555556, 0.005555555555555556, 0.005555555555555556, 0.005555555555555556, 0.005555555555555556, 0.005555555555555556, 0.005555555555555556, 0.005555555555555556, 0.005555555555555556, 0.005555555555555556, 0.005555555555555556, 0.005555555555555556, 0.005555555555555556, 0.005555555555555556, 0.005555555555555556, 0.005555555555555556, 0.005555555555555556, 0.005555555555555556, 0.005555555555555556, 0.005555555555555556, 0.005555555555555556, 0.005555555555555556, 0.005555555555555556, 0.005555555555555556, 0.005555555555555556, 0.005555555555555556, 0.005555555555555556, 0.005555555555555556, 0.005555555555555556, 0.005555555555555556, 0.005555555555555556, 0.005555555555555556, 0.005555555555555556, 0.005555555555555556, 0.005555555555555556, 0.004484304932735426, 0.004484304932735426, 0.004484304932735426, 0.004484304932735426, 0.004484304932735426, 0.004484304932735426, 0.004484304932735426, 0.004484304932735426, 0.004484304932735426, 0.004484304932735426, 0.004484304932735426, 0.004484304932735426, 0.004484304932735426, 0.004484304932735426, 0.004484304932735426, 0.004484304932735426, 0.004484304932735426, 0.004484304932735426, 0.004484304932735426, 0.004484304932735426, 0.004484304932735426, 0.004484304932735426, 0.004484304932735426, 0.004484304932735426, 0.004484304932735426, 0.004484304932735426, 0.004484304932735426, 0.004484304932735426, 0.004484304932735426, 0.004484304932735426, 0.004484304932735426, 0.004484304932735426, 0.004484304932735426, 0.004484304932735426, 0.004484304932735426, 0.004484304932735426, 0.004484304932735426, 0.004484304932735426, 0.004484304932735426, 0.004484304932735426, 0.004484304932735426, 0.004484304932735426, 0.004484304932735426, 0.004484304932735426, 0.004484304932735426, 0.004484304932735426, 0.004484304932735426, 0.004484304932735426, 0.004484304932735426, 0.004484304932735426, 0.004484304932735426, 0.004484304932735426, 0.004484304932735426, 0.004484304932735426, 0.004484304932735426, 0.004484304932735426, 0.004484304932735426, 0.004484304932735426, 0.004484304932735426, 0.004484304932735426, 0.004484304932735426, 0.004484304932735426, 0.004484304932735426, 0.004484304932735426, 0.004484304932735426, 0.004484304932735426, 0.004484304932735426, 0.004484304932735426, 0.004484304932735426, 0.004484304932735426, 0.004484304932735426, 0.004484304932735426, 0.004484304932735426, 0.004484304932735426, 0.004484304932735426, 0.004484304932735426, 0.004484304932735426, 0.004484304932735426, 0.004484304932735426, 0.004484304932735426, 0.004484304932735426, 0.004484304932735426, 0.004484304932735426, 0.004484304932735426, 0.004484304932735426, 0.004484304932735426, 0.004484304932735426, 0.004484304932735426, 0.004484304932735426, 0.004484304932735426, 0.004484304932735426, 0.004484304932735426, 0.004484304932735426, 0.004484304932735426, 0.004484304932735426, 0.004484304932735426, 0.004484304932735426, 0.004484304932735426, 0.004484304932735426, 0.004484304932735426, 0.004484304932735426, 0.004484304932735426, 0.004484304932735426, 0.004484304932735426, 0.004484304932735426, 0.004484304932735426, 0.004484304932735426, 0.004484304932735426, 0.004484304932735426, 0.004484304932735426, 0.004484304932735426, 0.004484304932735426, 0.004484304932735426, 0.004484304932735426, 0.004484304932735426, 0.004484304932735426, 0.004484304932735426, 0.004484304932735426, 0.004484304932735426, 0.004484304932735426, 0.004484304932735426, 0.004484304932735426, 0.004484304932735426, 0.004484304932735426, 0.004484304932735426, 0.004484304932735426, 0.004484304932735426, 0.004484304932735426, 0.004484304932735426, 0.004484304932735426, 0.004484304932735426, 0.004484304932735426, 0.004484304932735426, 0.004484304932735426, 0.004484304932735426, 0.004484304932735426, 0.004484304932735426, 0.004484304932735426, 0.004484304932735426, 0.004484304932735426, 0.004484304932735426, 0.004484304932735426, 0.004484304932735426, 0.004484304932735426, 0.004484304932735426, 0.004484304932735426, 0.004484304932735426, 0.004484304932735426, 0.004484304932735426, 0.004484304932735426, 0.004484304932735426, 0.004484304932735426, 0.004484304932735426, 0.004484304932735426, 0.004484304932735426, 0.004484304932735426, 0.004484304932735426, 0.004484304932735426, 0.004484304932735426, 0.004484304932735426, 0.004484304932735426, 0.004484304932735426, 0.004484304932735426, 0.004484304932735426, 0.004484304932735426, 0.004484304932735426, 0.004484304932735426, 0.004484304932735426, 0.004484304932735426, 0.004484304932735426, 0.004484304932735426, 0.004484304932735426, 0.004484304932735426, 0.004484304932735426, 0.004484304932735426, 0.004484304932735426, 0.004484304932735426, 0.004484304932735426, 0.004484304932735426, 0.004484304932735426, 0.00625, 0.00625, 0.00625, 0.00625, 0.00625, 0.00625, 0.00625, 0.00625, 0.00625, 0.00625, 0.00625, 0.00625, 0.00625, 0.00625, 0.00625, 0.00625, 0.00625, 0.00625, 0.00625, 0.00625, 0.00625, 0.00625, 0.00625, 0.00625, 0.00625, 0.00625, 0.00625, 0.00625, 0.00625, 0.00625, 0.00625, 0.00625, 0.00625, 0.00625, 0.00625, 0.00625, 0.00625, 0.00625, 0.00625, 0.00625, 0.00625, 0.00625, 0.00625, 0.00625, 0.00625, 0.00625, 0.00625, 0.00625, 0.00625, 0.00625, 0.00625, 0.00625, 0.00625, 0.00625, 0.00625, 0.00625, 0.00625, 0.00625, 0.00625, 0.00625, 0.00625, 0.00625, 0.00625, 0.00625, 0.00625, 0.00625, 0.00625, 0.00625, 0.00625, 0.00625, 0.00625, 0.00625, 0.00625, 0.00625, 0.00625, 0.00625, 0.00625, 0.00625, 0.00625, 0.00625, 0.00625, 0.00625, 0.00625, 0.00625, 0.00625, 0.00625, 0.00625, 0.00625, 0.00625, 0.00625, 0.00625, 0.00625, 0.00625, 0.00625, 0.00625, 0.00625, 0.00625, 0.00625, 0.00625, 0.00625, 0.00625, 0.00625, 0.00625, 0.00625, 0.00625, 0.00625, 0.00625, 0.00625, 0.00625, 0.00625, 0.00625, 0.00625, 0.00625, 0.00625, 0.00625, 0.00625, 0.00625, 0.00625, 0.00625, 0.00625, 0.00625, 0.00625, 0.00625, 0.00625, 0.00625, 0.00625, 0.00625, 0.00625, 0.00625, 0.00625, 0.00625, 0.00625, 0.00625, 0.00625, 0.00625, 0.00625, 0.00625, 0.00625, 0.00625, 0.00625, 0.00625, 0.00625, 0.00625, 0.00625, 0.00625, 0.00625, 0.00625, 0.00625, 0.00625, 0.00625, 0.00625, 0.00625, 0.00625, 0.00625, 0.00625, 0.00625, 0.00625, 0.00625, 0.00625, 0.00625, 0.009900990099009901, 0.009900990099009901, 0.009900990099009901, 0.009900990099009901, 0.009900990099009901, 0.009900990099009901, 0.009900990099009901, 0.009900990099009901, 0.009900990099009901, 0.009900990099009901, 0.009900990099009901, 0.009900990099009901, 0.009900990099009901, 0.009900990099009901, 0.009900990099009901, 0.009900990099009901, 0.009900990099009901, 0.009900990099009901, 0.009900990099009901, 0.009900990099009901, 0.009900990099009901, 0.009900990099009901, 0.009900990099009901, 0.009900990099009901, 0.009900990099009901, 0.009900990099009901, 0.009900990099009901, 0.009900990099009901, 0.009900990099009901, 0.009900990099009901, 0.009900990099009901, 0.009900990099009901, 0.009900990099009901, 0.009900990099009901, 0.009900990099009901, 0.009900990099009901, 0.009900990099009901, 0.009900990099009901, 0.009900990099009901, 0.009900990099009901, 0.009900990099009901, 0.009900990099009901, 0.009900990099009901, 0.009900990099009901, 0.009900990099009901, 0.009900990099009901, 0.009900990099009901, 0.009900990099009901, 0.009900990099009901, 0.009900990099009901, 0.009900990099009901, 0.009900990099009901, 0.009900990099009901, 0.009900990099009901, 0.009900990099009901, 0.009900990099009901, 0.009900990099009901, 0.009900990099009901, 0.009900990099009901, 0.009900990099009901, 0.009900990099009901, 0.009900990099009901, 0.009900990099009901, 0.009900990099009901, 0.009900990099009901, 0.009900990099009901, 0.009900990099009901, 0.009900990099009901, 0.009900990099009901, 0.009900990099009901, 0.009900990099009901, 0.009900990099009901, 0.009900990099009901, 0.009900990099009901, 0.009900990099009901, 0.009900990099009901, 0.009900990099009901, 0.009900990099009901, 0.009900990099009901, 0.009900990099009901, 0.009900990099009901, 0.009900990099009901, 0.009900990099009901, 0.009900990099009901, 0.009900990099009901, 0.009900990099009901, 0.009900990099009901, 0.009900990099009901, 0.009900990099009901, 0.009900990099009901, 0.009900990099009901, 0.009900990099009901, 0.009900990099009901, 0.009900990099009901, 0.009900990099009901, 0.009900990099009901, 0.009900990099009901, 0.009900990099009901, 0.009900990099009901, 0.009900990099009901, 0.009900990099009901, 0.007936507936507936, 0.007936507936507936, 0.007936507936507936, 0.007936507936507936, 0.007936507936507936, 0.007936507936507936, 0.007936507936507936, 0.007936507936507936, 0.007936507936507936, 0.007936507936507936, 0.007936507936507936, 0.007936507936507936, 0.007936507936507936, 0.007936507936507936, 0.007936507936507936, 0.007936507936507936, 0.007936507936507936, 0.007936507936507936, 0.007936507936507936, 0.007936507936507936, 0.007936507936507936, 0.007936507936507936, 0.007936507936507936, 0.007936507936507936, 0.007936507936507936, 0.007936507936507936, 0.007936507936507936, 0.007936507936507936, 0.007936507936507936, 0.007936507936507936, 0.007936507936507936, 0.007936507936507936, 0.007936507936507936, 0.007936507936507936, 0.007936507936507936, 0.007936507936507936, 0.007936507936507936, 0.007936507936507936, 0.007936507936507936, 0.007936507936507936, 0.007936507936507936, 0.007936507936507936, 0.007936507936507936, 0.007936507936507936, 0.007936507936507936, 0.007936507936507936, 0.007936507936507936, 0.007936507936507936, 0.007936507936507936, 0.007936507936507936, 0.007936507936507936, 0.007936507936507936, 0.007936507936507936, 0.007936507936507936, 0.007936507936507936, 0.007936507936507936, 0.007936507936507936, 0.007936507936507936, 0.007936507936507936, 0.007936507936507936, 0.007936507936507936, 0.007936507936507936, 0.007936507936507936, 0.007936507936507936, 0.007936507936507936, 0.007936507936507936, 0.007936507936507936, 0.007936507936507936, 0.007936507936507936, 0.007936507936507936, 0.007936507936507936, 0.007936507936507936, 0.007936507936507936, 0.007936507936507936, 0.007936507936507936, 0.007936507936507936, 0.007936507936507936, 0.007936507936507936, 0.007936507936507936, 0.007936507936507936, 0.007936507936507936, 0.007936507936507936, 0.007936507936507936, 0.007936507936507936, 0.007936507936507936, 0.007936507936507936, 0.007936507936507936, 0.007936507936507936, 0.007936507936507936, 0.007936507936507936, 0.007936507936507936, 0.007936507936507936, 0.007936507936507936, 0.007936507936507936, 0.007936507936507936, 0.007936507936507936, 0.007936507936507936, 0.007936507936507936, 0.007936507936507936, 0.007936507936507936, 0.007936507936507936, 0.007936507936507936, 0.007936507936507936, 0.007936507936507936, 0.007936507936507936, 0.007936507936507936, 0.007936507936507936, 0.007936507936507936, 0.007936507936507936, 0.007936507936507936, 0.007936507936507936, 0.007936507936507936, 0.007936507936507936, 0.007936507936507936, 0.007936507936507936, 0.007936507936507936, 0.007936507936507936, 0.007936507936507936, 0.007936507936507936, 0.007936507936507936, 0.007936507936507936, 0.007936507936507936, 0.007936507936507936, 0.007936507936507936, 0.007936507936507936, 0.007936507936507936, 0.005747126436781609, 0.005747126436781609, 0.005747126436781609, 0.005747126436781609, 0.005747126436781609, 0.005747126436781609, 0.005747126436781609, 0.005747126436781609, 0.005747126436781609, 0.005747126436781609, 0.005747126436781609, 0.005747126436781609, 0.005747126436781609, 0.005747126436781609, 0.005747126436781609, 0.005747126436781609, 0.005747126436781609, 0.005747126436781609, 0.005747126436781609, 0.005747126436781609, 0.005747126436781609, 0.005747126436781609, 0.005747126436781609, 0.005747126436781609, 0.005747126436781609, 0.005747126436781609, 0.005747126436781609, 0.005747126436781609, 0.005747126436781609, 0.005747126436781609, 0.005747126436781609, 0.005747126436781609, 0.005747126436781609, 0.005747126436781609, 0.005747126436781609, 0.005747126436781609, 0.005747126436781609, 0.005747126436781609, 0.005747126436781609, 0.005747126436781609, 0.005747126436781609, 0.005747126436781609, 0.005747126436781609, 0.005747126436781609, 0.005747126436781609, 0.005747126436781609, 0.005747126436781609, 0.005747126436781609, 0.005747126436781609, 0.005747126436781609, 0.005747126436781609, 0.005747126436781609, 0.005747126436781609, 0.005747126436781609, 0.005747126436781609, 0.005747126436781609, 0.005747126436781609, 0.005747126436781609, 0.005747126436781609, 0.005747126436781609, 0.005747126436781609, 0.005747126436781609, 0.005747126436781609, 0.005747126436781609, 0.005747126436781609, 0.005747126436781609, 0.005747126436781609, 0.005747126436781609, 0.005747126436781609, 0.005747126436781609, 0.005747126436781609, 0.005747126436781609, 0.005747126436781609, 0.005747126436781609, 0.005747126436781609, 0.005747126436781609, 0.005747126436781609, 0.005747126436781609, 0.005747126436781609, 0.005747126436781609, 0.005747126436781609, 0.005747126436781609, 0.005747126436781609, 0.005747126436781609, 0.005747126436781609, 0.005747126436781609, 0.005747126436781609, 0.005747126436781609, 0.005747126436781609, 0.005747126436781609, 0.005747126436781609, 0.005747126436781609, 0.005747126436781609, 0.005747126436781609, 0.005747126436781609, 0.005747126436781609, 0.005747126436781609, 0.005747126436781609, 0.005747126436781609, 0.005747126436781609, 0.005747126436781609, 0.005747126436781609, 0.005747126436781609, 0.005747126436781609, 0.005747126436781609, 0.005747126436781609, 0.005747126436781609, 0.005747126436781609, 0.005747126436781609, 0.005747126436781609, 0.005747126436781609, 0.005747126436781609, 0.005747126436781609, 0.005747126436781609, 0.005747126436781609, 0.005747126436781609, 0.005747126436781609, 0.005747126436781609, 0.005747126436781609, 0.005747126436781609, 0.005747126436781609, 0.005747126436781609, 0.005747126436781609, 0.005747126436781609, 0.005747126436781609, 0.005747126436781609, 0.005747126436781609, 0.005747126436781609, 0.005747126436781609, 0.005747126436781609, 0.005747126436781609, 0.005747126436781609, 0.005747126436781609, 0.005747126436781609, 0.005747126436781609, 0.005747126436781609, 0.005747126436781609, 0.005747126436781609, 0.005747126436781609, 0.005747126436781609, 0.005747126436781609, 0.005747126436781609, 0.005747126436781609, 0.005747126436781609, 0.005747126436781609, 0.005747126436781609, 0.005747126436781609, 0.005747126436781609, 0.005747126436781609, 0.005747126436781609, 0.005747126436781609, 0.005747126436781609, 0.005747126436781609, 0.005747126436781609, 0.005747126436781609, 0.005747126436781609, 0.005747126436781609, 0.005747126436781609, 0.005747126436781609, 0.005747126436781609, 0.005747126436781609, 0.005747126436781609, 0.005747126436781609, 0.005747126436781609, 0.005747126436781609, 0.005747126436781609, 0.005747126436781609, 0.005747126436781609, 0.005747126436781609, 0.005747126436781609, 0.005747126436781609, 0.005747126436781609, 0.005747126436781609, 0.005747126436781609, 0.004132231404958678, 0.004132231404958678, 0.004132231404958678, 0.004132231404958678, 0.004132231404958678, 0.004132231404958678, 0.004132231404958678, 0.004132231404958678, 0.004132231404958678, 0.004132231404958678, 0.004132231404958678, 0.004132231404958678, 0.004132231404958678, 0.004132231404958678, 0.004132231404958678, 0.004132231404958678, 0.004132231404958678, 0.004132231404958678, 0.004132231404958678, 0.004132231404958678, 0.004132231404958678, 0.004132231404958678, 0.004132231404958678, 0.004132231404958678, 0.004132231404958678, 0.004132231404958678, 0.004132231404958678, 0.004132231404958678, 0.004132231404958678, 0.004132231404958678, 0.004132231404958678, 0.004132231404958678, 0.004132231404958678, 0.004132231404958678, 0.004132231404958678, 0.004132231404958678, 0.004132231404958678, 0.004132231404958678, 0.004132231404958678, 0.004132231404958678, 0.004132231404958678, 0.004132231404958678, 0.004132231404958678, 0.004132231404958678, 0.004132231404958678, 0.004132231404958678, 0.004132231404958678, 0.004132231404958678, 0.004132231404958678, 0.004132231404958678, 0.004132231404958678, 0.004132231404958678, 0.004132231404958678, 0.004132231404958678, 0.004132231404958678, 0.004132231404958678, 0.004132231404958678, 0.004132231404958678, 0.004132231404958678, 0.004132231404958678, 0.004132231404958678, 0.004132231404958678, 0.004132231404958678, 0.004132231404958678, 0.004132231404958678, 0.004132231404958678, 0.004132231404958678, 0.004132231404958678, 0.004132231404958678, 0.004132231404958678, 0.004132231404958678, 0.004132231404958678, 0.004132231404958678, 0.004132231404958678, 0.004132231404958678, 0.004132231404958678, 0.004132231404958678, 0.004132231404958678, 0.004132231404958678, 0.004132231404958678, 0.004132231404958678, 0.004132231404958678, 0.004132231404958678, 0.004132231404958678, 0.004132231404958678, 0.004132231404958678, 0.004132231404958678, 0.004132231404958678, 0.004132231404958678, 0.004132231404958678, 0.004132231404958678, 0.004132231404958678, 0.004132231404958678, 0.004132231404958678, 0.004132231404958678, 0.004132231404958678, 0.004132231404958678, 0.004132231404958678, 0.004132231404958678, 0.004132231404958678, 0.004132231404958678, 0.004132231404958678, 0.004132231404958678, 0.004132231404958678, 0.004132231404958678, 0.004132231404958678, 0.004132231404958678, 0.004132231404958678, 0.004132231404958678, 0.004132231404958678, 0.004132231404958678, 0.004132231404958678, 0.004132231404958678, 0.004132231404958678, 0.004132231404958678, 0.004132231404958678, 0.004132231404958678, 0.004132231404958678, 0.004132231404958678, 0.004132231404958678, 0.004132231404958678, 0.004132231404958678, 0.004132231404958678, 0.004132231404958678, 0.004132231404958678, 0.004132231404958678, 0.004132231404958678, 0.004132231404958678, 0.004132231404958678, 0.004132231404958678, 0.004132231404958678, 0.004132231404958678, 0.004132231404958678, 0.004132231404958678, 0.004132231404958678, 0.004132231404958678, 0.004132231404958678, 0.004132231404958678, 0.004132231404958678, 0.004132231404958678, 0.004132231404958678, 0.004132231404958678, 0.004132231404958678, 0.004132231404958678, 0.004132231404958678, 0.004132231404958678, 0.004132231404958678, 0.004132231404958678, 0.004132231404958678, 0.004132231404958678, 0.004132231404958678, 0.004132231404958678, 0.004132231404958678, 0.004132231404958678, 0.004132231404958678, 0.004132231404958678, 0.004132231404958678, 0.004132231404958678, 0.004132231404958678, 0.004132231404958678, 0.004132231404958678, 0.004132231404958678, 0.004132231404958678, 0.004132231404958678, 0.004132231404958678, 0.004132231404958678, 0.004132231404958678, 0.004132231404958678, 0.004132231404958678, 0.004132231404958678, 0.004132231404958678, 0.004132231404958678, 0.004132231404958678, 0.004132231404958678, 0.004132231404958678, 0.004132231404958678, 0.004132231404958678, 0.004132231404958678, 0.004132231404958678, 0.004132231404958678, 0.004132231404958678, 0.004132231404958678, 0.004132231404958678, 0.004132231404958678, 0.004132231404958678, 0.004132231404958678, 0.004132231404958678, 0.004132231404958678, 0.004132231404958678, 0.004132231404958678, 0.004132231404958678, 0.004132231404958678, 0.004132231404958678, 0.004132231404958678, 0.004132231404958678, 0.004132231404958678, 0.004132231404958678, 0.004132231404958678, 0.004132231404958678, 0.004132231404958678, 0.004132231404958678, 0.004132231404958678, 0.004132231404958678, 0.004132231404958678, 0.004132231404958678, 0.004132231404958678, 0.004132231404958678, 0.004132231404958678, 0.004132231404958678, 0.004132231404958678, 0.004132231404958678, 0.004132231404958678, 0.004132231404958678, 0.004132231404958678, 0.004132231404958678, 0.004132231404958678, 0.004132231404958678, 0.004132231404958678, 0.004132231404958678, 0.004132231404958678, 0.004132231404958678, 0.004132231404958678, 0.004132231404958678, 0.004132231404958678, 0.004132231404958678, 0.004132231404958678, 0.004132231404958678, 0.004132231404958678, 0.004132231404958678, 0.004132231404958678, 0.004132231404958678, 0.004132231404958678, 0.004132231404958678, 0.004132231404958678, 0.004132231404958678, 0.004132231404958678, 0.004132231404958678, 0.004132231404958678, 0.004132231404958678, 0.004132231404958678, 0.004132231404958678, 0.004132231404958678, 0.008264462809917356, 0.008264462809917356, 0.008264462809917356, 0.008264462809917356, 0.008264462809917356, 0.008264462809917356, 0.008264462809917356, 0.008264462809917356, 0.008264462809917356, 0.008264462809917356, 0.008264462809917356, 0.008264462809917356, 0.008264462809917356, 0.008264462809917356, 0.008264462809917356, 0.008264462809917356, 0.008264462809917356, 0.008264462809917356, 0.008264462809917356, 0.008264462809917356, 0.008264462809917356, 0.008264462809917356, 0.008264462809917356, 0.008264462809917356, 0.008264462809917356, 0.008264462809917356, 0.008264462809917356, 0.008264462809917356, 0.008264462809917356, 0.008264462809917356, 0.008264462809917356, 0.008264462809917356, 0.008264462809917356, 0.008264462809917356, 0.008264462809917356, 0.008264462809917356, 0.008264462809917356, 0.008264462809917356, 0.008264462809917356, 0.008264462809917356, 0.008264462809917356, 0.008264462809917356, 0.008264462809917356, 0.008264462809917356, 0.008264462809917356, 0.008264462809917356, 0.008264462809917356, 0.008264462809917356, 0.008264462809917356, 0.008264462809917356, 0.008264462809917356, 0.008264462809917356, 0.008264462809917356, 0.008264462809917356, 0.008264462809917356, 0.008264462809917356, 0.008264462809917356, 0.008264462809917356, 0.008264462809917356, 0.008264462809917356, 0.008264462809917356, 0.008264462809917356, 0.008264462809917356, 0.008264462809917356, 0.008264462809917356, 0.008264462809917356, 0.008264462809917356, 0.008264462809917356, 0.008264462809917356, 0.008264462809917356, 0.008264462809917356, 0.008264462809917356, 0.008264462809917356, 0.008264462809917356, 0.008264462809917356, 0.008264462809917356, 0.008264462809917356, 0.008264462809917356, 0.008264462809917356, 0.008264462809917356, 0.008264462809917356, 0.008264462809917356, 0.008264462809917356, 0.008264462809917356, 0.008264462809917356, 0.008264462809917356, 0.008264462809917356, 0.008264462809917356, 0.008264462809917356, 0.008264462809917356, 0.008264462809917356, 0.008264462809917356, 0.008264462809917356, 0.008264462809917356, 0.008264462809917356, 0.008264462809917356, 0.008264462809917356, 0.008264462809917356, 0.008264462809917356, 0.008264462809917356, 0.008264462809917356, 0.008264462809917356, 0.008264462809917356, 0.008264462809917356, 0.008264462809917356, 0.008264462809917356, 0.008264462809917356, 0.008264462809917356, 0.008264462809917356, 0.008264462809917356, 0.008264462809917356, 0.008264462809917356, 0.008264462809917356, 0.008264462809917356, 0.008264462809917356, 0.008264462809917356, 0.008264462809917356, 0.008264462809917356, 0.008264462809917356, 0.008264462809917356, 0.008264462809917356, 0.0058823529411764705, 0.0058823529411764705, 0.0058823529411764705, 0.0058823529411764705, 0.0058823529411764705, 0.0058823529411764705, 0.0058823529411764705, 0.0058823529411764705, 0.0058823529411764705, 0.0058823529411764705, 0.0058823529411764705, 0.0058823529411764705, 0.0058823529411764705, 0.0058823529411764705, 0.0058823529411764705, 0.0058823529411764705, 0.0058823529411764705, 0.0058823529411764705, 0.0058823529411764705, 0.0058823529411764705, 0.0058823529411764705, 0.0058823529411764705, 0.0058823529411764705, 0.0058823529411764705, 0.0058823529411764705, 0.0058823529411764705, 0.0058823529411764705, 0.0058823529411764705, 0.0058823529411764705, 0.0058823529411764705, 0.0058823529411764705, 0.0058823529411764705, 0.0058823529411764705, 0.0058823529411764705, 0.0058823529411764705, 0.0058823529411764705, 0.0058823529411764705, 0.0058823529411764705, 0.0058823529411764705, 0.0058823529411764705, 0.0058823529411764705, 0.0058823529411764705, 0.0058823529411764705, 0.0058823529411764705, 0.0058823529411764705, 0.0058823529411764705, 0.0058823529411764705, 0.0058823529411764705, 0.0058823529411764705, 0.0058823529411764705, 0.0058823529411764705, 0.0058823529411764705, 0.0058823529411764705, 0.0058823529411764705, 0.0058823529411764705, 0.0058823529411764705, 0.0058823529411764705, 0.0058823529411764705, 0.0058823529411764705, 0.0058823529411764705, 0.0058823529411764705, 0.0058823529411764705, 0.0058823529411764705, 0.0058823529411764705, 0.0058823529411764705, 0.0058823529411764705, 0.0058823529411764705, 0.0058823529411764705, 0.0058823529411764705, 0.0058823529411764705, 0.0058823529411764705, 0.0058823529411764705, 0.0058823529411764705, 0.0058823529411764705, 0.0058823529411764705, 0.0058823529411764705, 0.0058823529411764705, 0.0058823529411764705, 0.0058823529411764705, 0.0058823529411764705, 0.0058823529411764705, 0.0058823529411764705, 0.0058823529411764705, 0.0058823529411764705, 0.0058823529411764705, 0.0058823529411764705, 0.0058823529411764705, 0.0058823529411764705, 0.0058823529411764705, 0.0058823529411764705, 0.0058823529411764705, 0.0058823529411764705, 0.0058823529411764705, 0.0058823529411764705, 0.0058823529411764705, 0.0058823529411764705, 0.0058823529411764705, 0.0058823529411764705, 0.0058823529411764705, 0.0058823529411764705, 0.0058823529411764705, 0.0058823529411764705, 0.0058823529411764705, 0.0058823529411764705, 0.0058823529411764705, 0.0058823529411764705, 0.0058823529411764705, 0.0058823529411764705, 0.0058823529411764705, 0.0058823529411764705, 0.0058823529411764705, 0.0058823529411764705, 0.0058823529411764705, 0.0058823529411764705, 0.0058823529411764705, 0.0058823529411764705, 0.0058823529411764705, 0.0058823529411764705, 0.0058823529411764705, 0.0058823529411764705, 0.0058823529411764705, 0.0058823529411764705, 0.0058823529411764705, 0.0058823529411764705, 0.0058823529411764705, 0.0058823529411764705, 0.0058823529411764705, 0.0058823529411764705, 0.0058823529411764705, 0.0058823529411764705, 0.0058823529411764705, 0.0058823529411764705, 0.0058823529411764705, 0.0058823529411764705, 0.0058823529411764705, 0.0058823529411764705, 0.0058823529411764705, 0.0058823529411764705, 0.0058823529411764705, 0.0058823529411764705, 0.0058823529411764705, 0.0058823529411764705, 0.0058823529411764705, 0.0058823529411764705, 0.0058823529411764705, 0.0058823529411764705, 0.0058823529411764705, 0.0058823529411764705, 0.0058823529411764705, 0.0058823529411764705, 0.0058823529411764705, 0.0058823529411764705, 0.0058823529411764705, 0.0058823529411764705, 0.0058823529411764705, 0.0058823529411764705, 0.0058823529411764705, 0.0058823529411764705, 0.0058823529411764705, 0.0058823529411764705, 0.0058823529411764705, 0.0058823529411764705, 0.0058823529411764705, 0.0058823529411764705, 0.0058823529411764705, 0.0058823529411764705, 0.0058823529411764705, 0.0058823529411764705, 0.0058823529411764705, 0.0058823529411764705, 0.0058823529411764705, 0.0058823529411764705, 0.0058823529411764705, 0.0058823529411764705, 0.0058823529411764705, 0.0058823529411764705, 0.0058823529411764705, 0.0058823529411764705, 0.0058823529411764705, 0.0058823529411764705, 0.0058823529411764705, 0.0058823529411764705, 0.0058823529411764705, 0.0058823529411764705, 0.0058823529411764705, 0.0058823529411764705, 0.0058823529411764705, 0.0058823529411764705, 0.0058823529411764705, 0.0058823529411764705, 0.0058823529411764705, 0.0058823529411764705, 0.0058823529411764705, 0.0058823529411764705, 0.0058823529411764705, 0.0058823529411764705, 0.0058823529411764705, 0.0058823529411764705, 0.0058823529411764705, 0.0058823529411764705, 0.0058823529411764705, 0.0058823529411764705, 0.0058823529411764705, 0.0058823529411764705, 0.0058823529411764705, 0.0058823529411764705, 0.0058823529411764705, 0.0058823529411764705, 0.0058823529411764705, 0.0058823529411764705, 0.0058823529411764705, 0.0058823529411764705, 0.0058823529411764705, 0.0058823529411764705, 0.0058823529411764705, 0.0058823529411764705, 0.0058823529411764705, 0.0058823529411764705, 0.0058823529411764705, 0.0058823529411764705, 0.0058823529411764705, 0.0058823529411764705, 0.0058823529411764705, 0.0058823529411764705, 0.0058823529411764705, 0.0058823529411764705, 0.0058823529411764705, 0.0058823529411764705, 0.0058823529411764705, 0.0058823529411764705, 0.0058823529411764705, 0.0058823529411764705, 0.0058823529411764705, 0.0058823529411764705, 0.0058823529411764705, 0.0058823529411764705, 0.0058823529411764705, 0.0058823529411764705, 0.005208333333333333, 0.005208333333333333, 0.005208333333333333, 0.005208333333333333, 0.005208333333333333, 0.005208333333333333, 0.005208333333333333, 0.005208333333333333, 0.005208333333333333, 0.005208333333333333, 0.005208333333333333, 0.005208333333333333, 0.005208333333333333, 0.005208333333333333, 0.005208333333333333, 0.005208333333333333, 0.005208333333333333, 0.005208333333333333, 0.005208333333333333, 0.005208333333333333, 0.005208333333333333, 0.005208333333333333, 0.005208333333333333, 0.005208333333333333, 0.005208333333333333, 0.005208333333333333, 0.005208333333333333, 0.005208333333333333, 0.005208333333333333, 0.005208333333333333, 0.005208333333333333, 0.005208333333333333, 0.005208333333333333, 0.005208333333333333, 0.005208333333333333, 0.005208333333333333, 0.005208333333333333, 0.005208333333333333, 0.005208333333333333, 0.005208333333333333, 0.005208333333333333, 0.005208333333333333, 0.005208333333333333, 0.005208333333333333, 0.005208333333333333, 0.005208333333333333, 0.005208333333333333, 0.005208333333333333, 0.005208333333333333, 0.005208333333333333, 0.005208333333333333, 0.005208333333333333, 0.005208333333333333, 0.005208333333333333, 0.005208333333333333, 0.005208333333333333, 0.005208333333333333, 0.005208333333333333, 0.005208333333333333, 0.005208333333333333, 0.005208333333333333, 0.005208333333333333, 0.005208333333333333, 0.005208333333333333, 0.005208333333333333, 0.005208333333333333, 0.005208333333333333, 0.005208333333333333, 0.005208333333333333, 0.005208333333333333, 0.005208333333333333, 0.005208333333333333, 0.005208333333333333, 0.005208333333333333, 0.005208333333333333, 0.005208333333333333, 0.005208333333333333, 0.005208333333333333, 0.005208333333333333, 0.005208333333333333, 0.005208333333333333, 0.005208333333333333, 0.005208333333333333, 0.005208333333333333, 0.005208333333333333, 0.005208333333333333, 0.005208333333333333, 0.005208333333333333, 0.005208333333333333, 0.005208333333333333, 0.005208333333333333, 0.005208333333333333, 0.005208333333333333, 0.005208333333333333, 0.005208333333333333, 0.005208333333333333, 0.005208333333333333, 0.005208333333333333, 0.005208333333333333, 0.005208333333333333, 0.005208333333333333, 0.005208333333333333, 0.005208333333333333, 0.005208333333333333, 0.005208333333333333, 0.005208333333333333, 0.005208333333333333, 0.005208333333333333, 0.005208333333333333, 0.005208333333333333, 0.005208333333333333, 0.005208333333333333, 0.005208333333333333, 0.005208333333333333, 0.005208333333333333, 0.005208333333333333, 0.005208333333333333, 0.005208333333333333, 0.005208333333333333, 0.005208333333333333, 0.005208333333333333, 0.005208333333333333, 0.005208333333333333, 0.005208333333333333, 0.005208333333333333, 0.005208333333333333, 0.005208333333333333, 0.005208333333333333, 0.005208333333333333, 0.005208333333333333, 0.005208333333333333, 0.005208333333333333, 0.005208333333333333, 0.005208333333333333, 0.005208333333333333, 0.005208333333333333, 0.005208333333333333, 0.005208333333333333, 0.005208333333333333, 0.005208333333333333, 0.005208333333333333, 0.005208333333333333, 0.005208333333333333, 0.005208333333333333, 0.005208333333333333, 0.005208333333333333, 0.005208333333333333, 0.005208333333333333, 0.005208333333333333, 0.005208333333333333, 0.005208333333333333, 0.005208333333333333, 0.005208333333333333, 0.005208333333333333, 0.005208333333333333, 0.005208333333333333, 0.005208333333333333, 0.005208333333333333, 0.005208333333333333, 0.005208333333333333, 0.005208333333333333, 0.005208333333333333, 0.005208333333333333, 0.005208333333333333, 0.005208333333333333, 0.005208333333333333, 0.005208333333333333, 0.005208333333333333, 0.005208333333333333, 0.005208333333333333, 0.004201680672268907, 0.004201680672268907, 0.004201680672268907, 0.004201680672268907, 0.004201680672268907, 0.004201680672268907, 0.004201680672268907, 0.004201680672268907, 0.004201680672268907, 0.004201680672268907, 0.004201680672268907, 0.004201680672268907, 0.004201680672268907, 0.004201680672268907, 0.004201680672268907, 0.004201680672268907, 0.004201680672268907, 0.004201680672268907, 0.004201680672268907, 0.004201680672268907, 0.004201680672268907, 0.004201680672268907, 0.004201680672268907, 0.004201680672268907, 0.004201680672268907, 0.004201680672268907, 0.004201680672268907, 0.004201680672268907, 0.004201680672268907, 0.004201680672268907, 0.004201680672268907, 0.004201680672268907, 0.004201680672268907, 0.004201680672268907, 0.004201680672268907, 0.004201680672268907, 0.004201680672268907, 0.004201680672268907, 0.004201680672268907, 0.004201680672268907, 0.004201680672268907, 0.004201680672268907, 0.004201680672268907, 0.004201680672268907, 0.004201680672268907, 0.004201680672268907, 0.004201680672268907, 0.004201680672268907, 0.004201680672268907, 0.004201680672268907, 0.004201680672268907, 0.004201680672268907, 0.004201680672268907, 0.004201680672268907, 0.004201680672268907, 0.004201680672268907, 0.004201680672268907, 0.004201680672268907, 0.004201680672268907, 0.004201680672268907, 0.004201680672268907, 0.004201680672268907, 0.004201680672268907, 0.004201680672268907, 0.004201680672268907, 0.004201680672268907, 0.004201680672268907, 0.004201680672268907, 0.004201680672268907, 0.004201680672268907, 0.004201680672268907, 0.004201680672268907, 0.004201680672268907, 0.004201680672268907, 0.004201680672268907, 0.004201680672268907, 0.004201680672268907, 0.004201680672268907, 0.004201680672268907, 0.004201680672268907, 0.004201680672268907, 0.004201680672268907, 0.004201680672268907, 0.004201680672268907, 0.004201680672268907, 0.004201680672268907, 0.004201680672268907, 0.004201680672268907, 0.004201680672268907, 0.004201680672268907, 0.004201680672268907, 0.004201680672268907, 0.004201680672268907, 0.004201680672268907, 0.004201680672268907, 0.004201680672268907, 0.004201680672268907, 0.004201680672268907, 0.004201680672268907, 0.004201680672268907, 0.004201680672268907, 0.004201680672268907, 0.004201680672268907, 0.004201680672268907, 0.004201680672268907, 0.004201680672268907, 0.004201680672268907, 0.004201680672268907, 0.004201680672268907, 0.004201680672268907, 0.004201680672268907, 0.004201680672268907, 0.004201680672268907, 0.004201680672268907, 0.004201680672268907, 0.004201680672268907, 0.004201680672268907, 0.004201680672268907, 0.004201680672268907, 0.004201680672268907, 0.004201680672268907, 0.004201680672268907, 0.004201680672268907, 0.004201680672268907, 0.004201680672268907, 0.004201680672268907, 0.004201680672268907, 0.004201680672268907, 0.004201680672268907, 0.004201680672268907, 0.004201680672268907, 0.004201680672268907, 0.004201680672268907, 0.004201680672268907, 0.004201680672268907, 0.004201680672268907, 0.004201680672268907, 0.004201680672268907, 0.004201680672268907, 0.004201680672268907, 0.004201680672268907, 0.004201680672268907, 0.004201680672268907, 0.004201680672268907, 0.004201680672268907, 0.004201680672268907, 0.004201680672268907, 0.004201680672268907, 0.004201680672268907, 0.004201680672268907, 0.004201680672268907, 0.004201680672268907, 0.004201680672268907, 0.004201680672268907, 0.004201680672268907, 0.004201680672268907, 0.004201680672268907, 0.004201680672268907, 0.004201680672268907, 0.004201680672268907, 0.004201680672268907, 0.004201680672268907, 0.004201680672268907, 0.004201680672268907, 0.004201680672268907, 0.004201680672268907, 0.004201680672268907, 0.004201680672268907, 0.004201680672268907, 0.004201680672268907, 0.004201680672268907, 0.004201680672268907, 0.004201680672268907, 0.004201680672268907, 0.004201680672268907, 0.004201680672268907, 0.004201680672268907, 0.004201680672268907, 0.004201680672268907, 0.004201680672268907, 0.004201680672268907, 0.004201680672268907, 0.004201680672268907, 0.004201680672268907, 0.004201680672268907, 0.004201680672268907, 0.004201680672268907, 0.004201680672268907, 0.004201680672268907, 0.004201680672268907, 0.004201680672268907, 0.004201680672268907, 0.004201680672268907, 0.004201680672268907, 0.004201680672268907, 0.004201680672268907, 0.004201680672268907, 0.004201680672268907, 0.004201680672268907, 0.004201680672268907, 0.005, 0.005, 0.005, 0.005, 0.005, 0.005, 0.005, 0.005, 0.005, 0.005, 0.005, 0.005, 0.005, 0.005, 0.005, 0.005, 0.005, 0.005, 0.005, 0.005, 0.005, 0.005, 0.005, 0.005, 0.005, 0.005, 0.005, 0.005, 0.005, 0.005, 0.005, 0.005, 0.005, 0.005, 0.005, 0.005, 0.005, 0.005, 0.005, 0.005, 0.005, 0.005, 0.005, 0.005, 0.005, 0.005, 0.005, 0.005, 0.005, 0.005, 0.005, 0.005, 0.005, 0.005, 0.005, 0.005, 0.005, 0.005, 0.005, 0.005, 0.005, 0.005, 0.005, 0.005, 0.005, 0.005, 0.005, 0.005, 0.005, 0.005, 0.005, 0.005, 0.005, 0.005, 0.005, 0.005, 0.005, 0.005, 0.005, 0.005, 0.005, 0.005, 0.005, 0.005, 0.005, 0.005, 0.005, 0.005, 0.005, 0.005, 0.005, 0.005, 0.005, 0.005, 0.005, 0.005, 0.005, 0.005, 0.005, 0.005, 0.005, 0.005, 0.005, 0.005, 0.005, 0.005, 0.005, 0.005, 0.005, 0.005, 0.005, 0.005, 0.005, 0.005, 0.005, 0.005, 0.005, 0.005, 0.005, 0.005, 0.005, 0.005, 0.005, 0.005, 0.005, 0.005, 0.005, 0.005, 0.005, 0.005, 0.005, 0.005, 0.005, 0.005, 0.005, 0.005, 0.005, 0.005, 0.005, 0.005, 0.005, 0.005, 0.005, 0.005, 0.005, 0.005, 0.005, 0.005, 0.005, 0.005, 0.005, 0.005, 0.005, 0.005, 0.005, 0.005, 0.005, 0.005, 0.005, 0.005, 0.005, 0.005, 0.005, 0.005, 0.005, 0.005, 0.005, 0.005, 0.005, 0.005, 0.005, 0.005, 0.005, 0.005, 0.005, 0.005, 0.005, 0.005, 0.005, 0.005, 0.005, 0.005, 0.005, 0.005, 0.005, 0.005, 0.005, 0.005, 0.005, 0.005, 0.005263157894736842, 0.005263157894736842, 0.005263157894736842, 0.005263157894736842, 0.005263157894736842, 0.005263157894736842, 0.005263157894736842, 0.005263157894736842, 0.005263157894736842, 0.005263157894736842, 0.005263157894736842, 0.005263157894736842, 0.005263157894736842, 0.005263157894736842, 0.005263157894736842, 0.005263157894736842, 0.005263157894736842, 0.005263157894736842, 0.005263157894736842, 0.005263157894736842, 0.005263157894736842, 0.005263157894736842, 0.005263157894736842, 0.005263157894736842, 0.005263157894736842, 0.005263157894736842, 0.005263157894736842, 0.005263157894736842, 0.005263157894736842, 0.005263157894736842, 0.005263157894736842, 0.005263157894736842, 0.005263157894736842, 0.005263157894736842, 0.005263157894736842, 0.005263157894736842, 0.005263157894736842, 0.005263157894736842, 0.005263157894736842, 0.005263157894736842, 0.005263157894736842, 0.005263157894736842, 0.005263157894736842, 0.005263157894736842, 0.005263157894736842, 0.005263157894736842, 0.005263157894736842, 0.005263157894736842, 0.005263157894736842, 0.005263157894736842, 0.005263157894736842, 0.005263157894736842, 0.005263157894736842, 0.005263157894736842, 0.005263157894736842, 0.005263157894736842, 0.005263157894736842, 0.005263157894736842, 0.005263157894736842, 0.005263157894736842, 0.005263157894736842, 0.005263157894736842, 0.005263157894736842, 0.005263157894736842, 0.005263157894736842, 0.005263157894736842, 0.005263157894736842, 0.005263157894736842, 0.005263157894736842, 0.005263157894736842, 0.005263157894736842, 0.005263157894736842, 0.005263157894736842, 0.005263157894736842, 0.005263157894736842, 0.005263157894736842, 0.005263157894736842, 0.005263157894736842, 0.005263157894736842, 0.005263157894736842, 0.005263157894736842, 0.005263157894736842, 0.005263157894736842, 0.005263157894736842, 0.005263157894736842, 0.005263157894736842, 0.005263157894736842, 0.005263157894736842, 0.005263157894736842, 0.005263157894736842, 0.005263157894736842, 0.005263157894736842, 0.005263157894736842, 0.005263157894736842, 0.005263157894736842, 0.005263157894736842, 0.005263157894736842, 0.005263157894736842, 0.005263157894736842, 0.005263157894736842, 0.005263157894736842, 0.005263157894736842, 0.005263157894736842, 0.005263157894736842, 0.005263157894736842, 0.005263157894736842, 0.005263157894736842, 0.005263157894736842, 0.005263157894736842, 0.005263157894736842, 0.005263157894736842, 0.005263157894736842, 0.005263157894736842, 0.005263157894736842, 0.005263157894736842, 0.005263157894736842, 0.005263157894736842, 0.005263157894736842, 0.005263157894736842, 0.005263157894736842, 0.005263157894736842, 0.005263157894736842, 0.005263157894736842, 0.005263157894736842, 0.005263157894736842, 0.005263157894736842, 0.005263157894736842, 0.005263157894736842, 0.005263157894736842, 0.005263157894736842, 0.005263157894736842, 0.005263157894736842, 0.005263157894736842, 0.005263157894736842, 0.005263157894736842, 0.005263157894736842, 0.005263157894736842, 0.005263157894736842, 0.005263157894736842, 0.005263157894736842, 0.005263157894736842, 0.005263157894736842, 0.005263157894736842, 0.005263157894736842, 0.005263157894736842, 0.005263157894736842, 0.005263157894736842, 0.005263157894736842, 0.005263157894736842, 0.005263157894736842, 0.005263157894736842, 0.005263157894736842, 0.005263157894736842, 0.005263157894736842, 0.005263157894736842, 0.005263157894736842, 0.005263157894736842, 0.005263157894736842, 0.005263157894736842, 0.005263157894736842, 0.00625, 0.00625, 0.00625, 0.00625, 0.00625, 0.00625, 0.00625, 0.00625, 0.00625, 0.00625, 0.00625, 0.00625, 0.00625, 0.00625, 0.00625, 0.00625, 0.00625, 0.00625, 0.00625, 0.00625, 0.00625, 0.00625, 0.00625, 0.00625, 0.00625, 0.00625, 0.00625, 0.00625, 0.00625, 0.00625, 0.00625, 0.00625, 0.00625, 0.00625, 0.00625, 0.00625, 0.00625, 0.00625, 0.00625, 0.00625, 0.00625, 0.00625, 0.00625, 0.00625, 0.00625, 0.00625, 0.00625, 0.00625, 0.00625, 0.00625, 0.00625, 0.00625, 0.00625, 0.00625, 0.00625, 0.00625, 0.00625, 0.00625, 0.00625, 0.00625, 0.00625, 0.00625, 0.00625, 0.00625, 0.00625, 0.00625, 0.00625, 0.00625, 0.00625, 0.00625, 0.00625, 0.00625, 0.00625, 0.00625, 0.00625, 0.00625, 0.00625, 0.00625, 0.00625, 0.00625, 0.00625, 0.00625, 0.00625, 0.00625, 0.00625, 0.00625, 0.00625, 0.00625, 0.00625, 0.00625, 0.00625, 0.00625, 0.00625, 0.00625, 0.00625, 0.00625, 0.00625, 0.00625, 0.00625, 0.00625, 0.00625, 0.00625, 0.00625, 0.00625, 0.00625, 0.00625, 0.00625, 0.00625, 0.00625, 0.00625, 0.00625, 0.00625, 0.00625, 0.00625, 0.00625, 0.00625, 0.00625, 0.00625, 0.00625, 0.00625, 0.00625, 0.00625, 0.00625, 0.00625, 0.00625, 0.00625, 0.00625, 0.00625, 0.00625, 0.00625, 0.00625, 0.00625, 0.00625, 0.00625, 0.00625, 0.00625, 0.00625, 0.00625, 0.00625, 0.00625, 0.00625, 0.00625, 0.00625, 0.00625, 0.00625, 0.00625, 0.00625, 0.00625, 0.00625, 0.00625, 0.00625, 0.00625, 0.00625, 0.00625, 0.00625, 0.00625, 0.00625, 0.00625, 0.00625, 0.00625, 0.00625, 0.00625, 0.00625, 0.00625, 0.00625, 0.00625, 0.00625, 0.00625, 0.00625, 0.00625, 0.00625, 0.00625, 0.00625, 0.00625, 0.00625, 0.00625, 0.00625, 0.00625, 0.00625, 0.00625, 0.00625, 0.00625, 0.00625, 0.00625, 0.00625, 0.00625, 0.00625, 0.00625, 0.00625, 0.00625, 0.00625, 0.00625]\n",
            "Time taken\n"
          ]
        }
      ],
      "source": [
        "path_train = path_dataset2+\"train/\"\n",
        "path_test = path_dataset2+\"test/\"\n",
        "val_split = 0.2\n",
        "batch_size = 128\n",
        "input_size = (224,224)\n",
        "\n",
        "train_loader, test_loader, val_loader = load_data(path_train, val_split, path_test, batch_size, input_size)"
      ]
    },
    {
      "cell_type": "code",
      "execution_count": null,
      "metadata": {
        "colab": {
          "base_uri": "https://localhost:8080/"
        },
        "id": "uQGp2Bk38O9w",
        "outputId": "260ac207-57cc-470f-f9b4-b6699a0cc698"
      },
      "outputs": [
        {
          "name": "stdout",
          "output_type": "stream",
          "text": [
            "Device: cuda:0\n",
            "Epoch [1/1], Step [10/66], Loss: 2.7568, Accuracy: 0.00%, Validation Accuracy: 10.33%\n",
            "Epoch [1/1], Step [20/66], Loss: 2.6704, Accuracy: 0.00%, Validation Accuracy: 10.33%\n",
            "Epoch [1/1], Step [30/66], Loss: 2.6873, Accuracy: 9.38%, Validation Accuracy: 9.18%\n",
            "Epoch [1/1], Step [40/66], Loss: 2.6864, Accuracy: 15.62%, Validation Accuracy: 9.18%\n",
            "Epoch [1/1], Step [50/66], Loss: 2.6760, Accuracy: 3.12%, Validation Accuracy: 9.18%\n",
            "Epoch [1/1], Step [60/66], Loss: 2.5726, Accuracy: 15.62%, Validation Accuracy: 15.30%\n",
            "######## Training Finished in 235.3470482826233 seconds ###########\n"
          ]
        }
      ],
      "source": [
        "savepath = path_save+\"alexnetmodel_d2.pt\"\n",
        "\n",
        "trained_AlexNet_model, device = train_model(AlexNet_model, num_epochs, train_loader, criterion, optimizer, savepath)"
      ]
    },
    {
      "cell_type": "code",
      "execution_count": null,
      "metadata": {
        "id": "9qdjOT2K8O9w"
      },
      "outputs": [],
      "source": [
        "# for loading model\n",
        "# trained_AlexNet_model.load_state_dict(torch.load(path+\"alexnetmodel.pt\"))"
      ]
    },
    {
      "cell_type": "code",
      "execution_count": null,
      "metadata": {
        "colab": {
          "base_uri": "https://localhost:8080/"
        },
        "id": "3UEq0bPW8O9w",
        "outputId": "3e4bbc6c-d292-48f7-ab90-c65c149acd2f"
      },
      "outputs": [
        {
          "name": "stdout",
          "output_type": "stream",
          "text": [
            "Test Accuracy of the model on the 710 test images: 19.859154929577468 %\n"
          ]
        }
      ],
      "source": [
        "evaluate_model(trained_AlexNet_model, test_loader, device)"
      ]
    },
    {
      "cell_type": "code",
      "execution_count": null,
      "metadata": {
        "id": "zSLvQhsB9mz5"
      },
      "outputs": [],
      "source": []
    },
    {
      "cell_type": "markdown",
      "metadata": {
        "id": "Bvla9-oK9d45"
      },
      "source": [
        "On dataset 3:"
      ]
    },
    {
      "cell_type": "code",
      "execution_count": null,
      "metadata": {
        "colab": {
          "base_uri": "https://localhost:8080/"
        },
        "id": "sR81ilBI9d46",
        "outputId": "c5193785-0b42-427d-9827-29d6fc373ab5"
      },
      "outputs": [
        {
          "name": "stderr",
          "output_type": "stream",
          "text": [
            "Using cache found in /root/.cache/torch/hub/pytorch_vision_v0.6.0\n",
            "/usr/local/lib/python3.7/dist-packages/torchvision/models/_utils.py:209: UserWarning: The parameter 'pretrained' is deprecated since 0.13 and will be removed in 0.15, please use 'weights' instead.\n",
            "  f\"The parameter '{pretrained_param}' is deprecated since 0.13 and will be removed in 0.15, \"\n",
            "/usr/local/lib/python3.7/dist-packages/torchvision/models/_utils.py:223: UserWarning: Arguments other than a weight enum or `None` for 'weights' are deprecated since 0.13 and will be removed in 0.15. The current behavior is equivalent to passing `weights=None`.\n",
            "  warnings.warn(msg)\n"
          ]
        }
      ],
      "source": [
        "AlexNet_model = torch.hub.load('pytorch/vision:v0.6.0', 'alexnet', weights=None)"
      ]
    },
    {
      "cell_type": "code",
      "execution_count": null,
      "metadata": {
        "id": "239Iqf0a9d46"
      },
      "outputs": [],
      "source": [
        "prev_out = AlexNet_model.classifier[4].out_features\n",
        "AlexNet_model.classifier[6] = nn.Linear( prev_out, nclasses)"
      ]
    },
    {
      "cell_type": "code",
      "execution_count": null,
      "metadata": {
        "id": "Ji7tYYGa9d46"
      },
      "outputs": [],
      "source": [
        "optimizer = torch.optim.Adam(AlexNet_model.parameters(), lr=learning_rate) "
      ]
    },
    {
      "cell_type": "code",
      "execution_count": null,
      "metadata": {
        "colab": {
          "base_uri": "https://localhost:8080/"
        },
        "id": "0QAcirVL9d46",
        "outputId": "9e5b9e13-3cc0-4ea5-94e2-7440b7250449"
      },
      "outputs": [
        {
          "name": "stdout",
          "output_type": "stream",
          "text": [
            "[0.007142857142857143, 0.005555555555555556, 0.004484304932735426, 0.00625, 0.009900990099009901, 0.007936507936507936, 0.005747126436781609, 0.004132231404958678, 0.008264462809917356, 0.0058823529411764705, 0.005208333333333333, 0.004201680672268907, 0.005, 0.005263157894736842, 0.00625]\n",
            "[0.007142857142857143, 0.007142857142857143, 0.007142857142857143, 0.007142857142857143, 0.007142857142857143, 0.007142857142857143, 0.007142857142857143, 0.007142857142857143, 0.007142857142857143, 0.007142857142857143, 0.007142857142857143, 0.007142857142857143, 0.007142857142857143, 0.007142857142857143, 0.007142857142857143, 0.007142857142857143, 0.007142857142857143, 0.007142857142857143, 0.007142857142857143, 0.007142857142857143, 0.007142857142857143, 0.007142857142857143, 0.007142857142857143, 0.007142857142857143, 0.007142857142857143, 0.007142857142857143, 0.007142857142857143, 0.007142857142857143, 0.007142857142857143, 0.007142857142857143, 0.007142857142857143, 0.007142857142857143, 0.007142857142857143, 0.007142857142857143, 0.007142857142857143, 0.007142857142857143, 0.007142857142857143, 0.007142857142857143, 0.007142857142857143, 0.007142857142857143, 0.007142857142857143, 0.007142857142857143, 0.007142857142857143, 0.007142857142857143, 0.007142857142857143, 0.007142857142857143, 0.007142857142857143, 0.007142857142857143, 0.007142857142857143, 0.007142857142857143, 0.007142857142857143, 0.007142857142857143, 0.007142857142857143, 0.007142857142857143, 0.007142857142857143, 0.007142857142857143, 0.007142857142857143, 0.007142857142857143, 0.007142857142857143, 0.007142857142857143, 0.007142857142857143, 0.007142857142857143, 0.007142857142857143, 0.007142857142857143, 0.007142857142857143, 0.007142857142857143, 0.007142857142857143, 0.007142857142857143, 0.007142857142857143, 0.007142857142857143, 0.007142857142857143, 0.007142857142857143, 0.007142857142857143, 0.007142857142857143, 0.007142857142857143, 0.007142857142857143, 0.007142857142857143, 0.007142857142857143, 0.007142857142857143, 0.007142857142857143, 0.007142857142857143, 0.007142857142857143, 0.007142857142857143, 0.007142857142857143, 0.007142857142857143, 0.007142857142857143, 0.007142857142857143, 0.007142857142857143, 0.007142857142857143, 0.007142857142857143, 0.007142857142857143, 0.007142857142857143, 0.007142857142857143, 0.007142857142857143, 0.007142857142857143, 0.007142857142857143, 0.007142857142857143, 0.007142857142857143, 0.007142857142857143, 0.007142857142857143, 0.007142857142857143, 0.007142857142857143, 0.007142857142857143, 0.007142857142857143, 0.007142857142857143, 0.007142857142857143, 0.007142857142857143, 0.007142857142857143, 0.007142857142857143, 0.007142857142857143, 0.007142857142857143, 0.007142857142857143, 0.007142857142857143, 0.007142857142857143, 0.007142857142857143, 0.007142857142857143, 0.007142857142857143, 0.007142857142857143, 0.007142857142857143, 0.007142857142857143, 0.007142857142857143, 0.007142857142857143, 0.007142857142857143, 0.007142857142857143, 0.007142857142857143, 0.007142857142857143, 0.007142857142857143, 0.007142857142857143, 0.007142857142857143, 0.007142857142857143, 0.007142857142857143, 0.007142857142857143, 0.007142857142857143, 0.007142857142857143, 0.007142857142857143, 0.007142857142857143, 0.007142857142857143, 0.007142857142857143, 0.007142857142857143, 0.007142857142857143, 0.007142857142857143, 0.007142857142857143, 0.007142857142857143, 0.007142857142857143, 0.007142857142857143, 0.007142857142857143, 0.007142857142857143, 0.007142857142857143, 0.007142857142857143, 0.007142857142857143, 0.007142857142857143, 0.007142857142857143, 0.007142857142857143, 0.007142857142857143, 0.007142857142857143, 0.007142857142857143, 0.007142857142857143, 0.007142857142857143, 0.007142857142857143, 0.007142857142857143, 0.007142857142857143, 0.007142857142857143, 0.007142857142857143, 0.007142857142857143, 0.007142857142857143, 0.007142857142857143, 0.007142857142857143, 0.007142857142857143, 0.007142857142857143, 0.007142857142857143, 0.007142857142857143, 0.007142857142857143, 0.007142857142857143, 0.007142857142857143, 0.007142857142857143, 0.007142857142857143, 0.007142857142857143, 0.007142857142857143, 0.007142857142857143, 0.007142857142857143, 0.007142857142857143, 0.007142857142857143, 0.007142857142857143, 0.007142857142857143, 0.007142857142857143, 0.007142857142857143, 0.007142857142857143, 0.007142857142857143, 0.007142857142857143, 0.007142857142857143, 0.007142857142857143, 0.007142857142857143, 0.007142857142857143, 0.007142857142857143, 0.007142857142857143, 0.007142857142857143, 0.007142857142857143, 0.007142857142857143, 0.007142857142857143, 0.007142857142857143, 0.007142857142857143, 0.007142857142857143, 0.007142857142857143, 0.007142857142857143, 0.007142857142857143, 0.007142857142857143, 0.007142857142857143, 0.007142857142857143, 0.007142857142857143, 0.007142857142857143, 0.007142857142857143, 0.007142857142857143, 0.007142857142857143, 0.007142857142857143, 0.007142857142857143, 0.007142857142857143, 0.007142857142857143, 0.007142857142857143, 0.007142857142857143, 0.007142857142857143, 0.007142857142857143, 0.007142857142857143, 0.007142857142857143, 0.005555555555555556, 0.005555555555555556, 0.005555555555555556, 0.005555555555555556, 0.005555555555555556, 0.005555555555555556, 0.005555555555555556, 0.005555555555555556, 0.005555555555555556, 0.005555555555555556, 0.005555555555555556, 0.005555555555555556, 0.005555555555555556, 0.005555555555555556, 0.005555555555555556, 0.005555555555555556, 0.005555555555555556, 0.005555555555555556, 0.005555555555555556, 0.005555555555555556, 0.005555555555555556, 0.005555555555555556, 0.005555555555555556, 0.005555555555555556, 0.005555555555555556, 0.005555555555555556, 0.005555555555555556, 0.005555555555555556, 0.005555555555555556, 0.005555555555555556, 0.005555555555555556, 0.005555555555555556, 0.005555555555555556, 0.005555555555555556, 0.005555555555555556, 0.005555555555555556, 0.005555555555555556, 0.005555555555555556, 0.005555555555555556, 0.005555555555555556, 0.005555555555555556, 0.005555555555555556, 0.005555555555555556, 0.005555555555555556, 0.005555555555555556, 0.005555555555555556, 0.005555555555555556, 0.005555555555555556, 0.005555555555555556, 0.005555555555555556, 0.005555555555555556, 0.005555555555555556, 0.005555555555555556, 0.005555555555555556, 0.005555555555555556, 0.005555555555555556, 0.005555555555555556, 0.005555555555555556, 0.005555555555555556, 0.005555555555555556, 0.005555555555555556, 0.005555555555555556, 0.005555555555555556, 0.005555555555555556, 0.005555555555555556, 0.005555555555555556, 0.005555555555555556, 0.005555555555555556, 0.005555555555555556, 0.005555555555555556, 0.005555555555555556, 0.005555555555555556, 0.005555555555555556, 0.005555555555555556, 0.005555555555555556, 0.005555555555555556, 0.005555555555555556, 0.005555555555555556, 0.005555555555555556, 0.005555555555555556, 0.005555555555555556, 0.005555555555555556, 0.005555555555555556, 0.005555555555555556, 0.005555555555555556, 0.005555555555555556, 0.005555555555555556, 0.005555555555555556, 0.005555555555555556, 0.005555555555555556, 0.005555555555555556, 0.005555555555555556, 0.005555555555555556, 0.005555555555555556, 0.005555555555555556, 0.005555555555555556, 0.005555555555555556, 0.005555555555555556, 0.005555555555555556, 0.005555555555555556, 0.005555555555555556, 0.005555555555555556, 0.005555555555555556, 0.005555555555555556, 0.005555555555555556, 0.005555555555555556, 0.005555555555555556, 0.005555555555555556, 0.005555555555555556, 0.005555555555555556, 0.005555555555555556, 0.005555555555555556, 0.005555555555555556, 0.005555555555555556, 0.005555555555555556, 0.005555555555555556, 0.005555555555555556, 0.005555555555555556, 0.005555555555555556, 0.005555555555555556, 0.005555555555555556, 0.005555555555555556, 0.005555555555555556, 0.005555555555555556, 0.005555555555555556, 0.005555555555555556, 0.005555555555555556, 0.005555555555555556, 0.005555555555555556, 0.005555555555555556, 0.005555555555555556, 0.005555555555555556, 0.005555555555555556, 0.005555555555555556, 0.005555555555555556, 0.005555555555555556, 0.005555555555555556, 0.005555555555555556, 0.005555555555555556, 0.005555555555555556, 0.004484304932735426, 0.004484304932735426, 0.004484304932735426, 0.004484304932735426, 0.004484304932735426, 0.004484304932735426, 0.004484304932735426, 0.004484304932735426, 0.004484304932735426, 0.004484304932735426, 0.004484304932735426, 0.004484304932735426, 0.004484304932735426, 0.004484304932735426, 0.004484304932735426, 0.004484304932735426, 0.004484304932735426, 0.004484304932735426, 0.004484304932735426, 0.004484304932735426, 0.004484304932735426, 0.004484304932735426, 0.004484304932735426, 0.004484304932735426, 0.004484304932735426, 0.004484304932735426, 0.004484304932735426, 0.004484304932735426, 0.004484304932735426, 0.004484304932735426, 0.004484304932735426, 0.004484304932735426, 0.004484304932735426, 0.004484304932735426, 0.004484304932735426, 0.004484304932735426, 0.004484304932735426, 0.004484304932735426, 0.004484304932735426, 0.004484304932735426, 0.004484304932735426, 0.004484304932735426, 0.004484304932735426, 0.004484304932735426, 0.004484304932735426, 0.004484304932735426, 0.004484304932735426, 0.004484304932735426, 0.004484304932735426, 0.004484304932735426, 0.004484304932735426, 0.004484304932735426, 0.004484304932735426, 0.004484304932735426, 0.004484304932735426, 0.004484304932735426, 0.004484304932735426, 0.004484304932735426, 0.004484304932735426, 0.004484304932735426, 0.004484304932735426, 0.004484304932735426, 0.004484304932735426, 0.004484304932735426, 0.004484304932735426, 0.004484304932735426, 0.004484304932735426, 0.004484304932735426, 0.004484304932735426, 0.004484304932735426, 0.004484304932735426, 0.004484304932735426, 0.004484304932735426, 0.004484304932735426, 0.004484304932735426, 0.004484304932735426, 0.004484304932735426, 0.004484304932735426, 0.004484304932735426, 0.004484304932735426, 0.004484304932735426, 0.004484304932735426, 0.004484304932735426, 0.004484304932735426, 0.004484304932735426, 0.004484304932735426, 0.004484304932735426, 0.004484304932735426, 0.004484304932735426, 0.004484304932735426, 0.004484304932735426, 0.004484304932735426, 0.004484304932735426, 0.004484304932735426, 0.004484304932735426, 0.004484304932735426, 0.004484304932735426, 0.004484304932735426, 0.004484304932735426, 0.004484304932735426, 0.004484304932735426, 0.004484304932735426, 0.004484304932735426, 0.004484304932735426, 0.004484304932735426, 0.004484304932735426, 0.004484304932735426, 0.004484304932735426, 0.004484304932735426, 0.004484304932735426, 0.004484304932735426, 0.004484304932735426, 0.004484304932735426, 0.004484304932735426, 0.004484304932735426, 0.004484304932735426, 0.004484304932735426, 0.004484304932735426, 0.004484304932735426, 0.004484304932735426, 0.004484304932735426, 0.004484304932735426, 0.004484304932735426, 0.004484304932735426, 0.004484304932735426, 0.004484304932735426, 0.004484304932735426, 0.004484304932735426, 0.004484304932735426, 0.004484304932735426, 0.004484304932735426, 0.004484304932735426, 0.004484304932735426, 0.004484304932735426, 0.004484304932735426, 0.004484304932735426, 0.004484304932735426, 0.004484304932735426, 0.004484304932735426, 0.004484304932735426, 0.004484304932735426, 0.004484304932735426, 0.004484304932735426, 0.004484304932735426, 0.004484304932735426, 0.004484304932735426, 0.004484304932735426, 0.004484304932735426, 0.004484304932735426, 0.004484304932735426, 0.004484304932735426, 0.004484304932735426, 0.004484304932735426, 0.004484304932735426, 0.004484304932735426, 0.004484304932735426, 0.004484304932735426, 0.004484304932735426, 0.004484304932735426, 0.004484304932735426, 0.004484304932735426, 0.004484304932735426, 0.004484304932735426, 0.004484304932735426, 0.004484304932735426, 0.004484304932735426, 0.004484304932735426, 0.004484304932735426, 0.004484304932735426, 0.004484304932735426, 0.004484304932735426, 0.004484304932735426, 0.004484304932735426, 0.004484304932735426, 0.004484304932735426, 0.004484304932735426, 0.004484304932735426, 0.004484304932735426, 0.004484304932735426, 0.004484304932735426, 0.00625, 0.00625, 0.00625, 0.00625, 0.00625, 0.00625, 0.00625, 0.00625, 0.00625, 0.00625, 0.00625, 0.00625, 0.00625, 0.00625, 0.00625, 0.00625, 0.00625, 0.00625, 0.00625, 0.00625, 0.00625, 0.00625, 0.00625, 0.00625, 0.00625, 0.00625, 0.00625, 0.00625, 0.00625, 0.00625, 0.00625, 0.00625, 0.00625, 0.00625, 0.00625, 0.00625, 0.00625, 0.00625, 0.00625, 0.00625, 0.00625, 0.00625, 0.00625, 0.00625, 0.00625, 0.00625, 0.00625, 0.00625, 0.00625, 0.00625, 0.00625, 0.00625, 0.00625, 0.00625, 0.00625, 0.00625, 0.00625, 0.00625, 0.00625, 0.00625, 0.00625, 0.00625, 0.00625, 0.00625, 0.00625, 0.00625, 0.00625, 0.00625, 0.00625, 0.00625, 0.00625, 0.00625, 0.00625, 0.00625, 0.00625, 0.00625, 0.00625, 0.00625, 0.00625, 0.00625, 0.00625, 0.00625, 0.00625, 0.00625, 0.00625, 0.00625, 0.00625, 0.00625, 0.00625, 0.00625, 0.00625, 0.00625, 0.00625, 0.00625, 0.00625, 0.00625, 0.00625, 0.00625, 0.00625, 0.00625, 0.00625, 0.00625, 0.00625, 0.00625, 0.00625, 0.00625, 0.00625, 0.00625, 0.00625, 0.00625, 0.00625, 0.00625, 0.00625, 0.00625, 0.00625, 0.00625, 0.00625, 0.00625, 0.00625, 0.00625, 0.00625, 0.00625, 0.00625, 0.00625, 0.00625, 0.00625, 0.00625, 0.00625, 0.00625, 0.00625, 0.00625, 0.00625, 0.00625, 0.00625, 0.00625, 0.00625, 0.00625, 0.00625, 0.00625, 0.00625, 0.00625, 0.00625, 0.00625, 0.00625, 0.00625, 0.00625, 0.00625, 0.00625, 0.00625, 0.00625, 0.00625, 0.00625, 0.00625, 0.00625, 0.00625, 0.00625, 0.00625, 0.00625, 0.00625, 0.00625, 0.009900990099009901, 0.009900990099009901, 0.009900990099009901, 0.009900990099009901, 0.009900990099009901, 0.009900990099009901, 0.009900990099009901, 0.009900990099009901, 0.009900990099009901, 0.009900990099009901, 0.009900990099009901, 0.009900990099009901, 0.009900990099009901, 0.009900990099009901, 0.009900990099009901, 0.009900990099009901, 0.009900990099009901, 0.009900990099009901, 0.009900990099009901, 0.009900990099009901, 0.009900990099009901, 0.009900990099009901, 0.009900990099009901, 0.009900990099009901, 0.009900990099009901, 0.009900990099009901, 0.009900990099009901, 0.009900990099009901, 0.009900990099009901, 0.009900990099009901, 0.009900990099009901, 0.009900990099009901, 0.009900990099009901, 0.009900990099009901, 0.009900990099009901, 0.009900990099009901, 0.009900990099009901, 0.009900990099009901, 0.009900990099009901, 0.009900990099009901, 0.009900990099009901, 0.009900990099009901, 0.009900990099009901, 0.009900990099009901, 0.009900990099009901, 0.009900990099009901, 0.009900990099009901, 0.009900990099009901, 0.009900990099009901, 0.009900990099009901, 0.009900990099009901, 0.009900990099009901, 0.009900990099009901, 0.009900990099009901, 0.009900990099009901, 0.009900990099009901, 0.009900990099009901, 0.009900990099009901, 0.009900990099009901, 0.009900990099009901, 0.009900990099009901, 0.009900990099009901, 0.009900990099009901, 0.009900990099009901, 0.009900990099009901, 0.009900990099009901, 0.009900990099009901, 0.009900990099009901, 0.009900990099009901, 0.009900990099009901, 0.009900990099009901, 0.009900990099009901, 0.009900990099009901, 0.009900990099009901, 0.009900990099009901, 0.009900990099009901, 0.009900990099009901, 0.009900990099009901, 0.009900990099009901, 0.009900990099009901, 0.009900990099009901, 0.009900990099009901, 0.009900990099009901, 0.009900990099009901, 0.009900990099009901, 0.009900990099009901, 0.009900990099009901, 0.009900990099009901, 0.009900990099009901, 0.009900990099009901, 0.009900990099009901, 0.009900990099009901, 0.009900990099009901, 0.009900990099009901, 0.009900990099009901, 0.009900990099009901, 0.009900990099009901, 0.009900990099009901, 0.009900990099009901, 0.009900990099009901, 0.009900990099009901, 0.007936507936507936, 0.007936507936507936, 0.007936507936507936, 0.007936507936507936, 0.007936507936507936, 0.007936507936507936, 0.007936507936507936, 0.007936507936507936, 0.007936507936507936, 0.007936507936507936, 0.007936507936507936, 0.007936507936507936, 0.007936507936507936, 0.007936507936507936, 0.007936507936507936, 0.007936507936507936, 0.007936507936507936, 0.007936507936507936, 0.007936507936507936, 0.007936507936507936, 0.007936507936507936, 0.007936507936507936, 0.007936507936507936, 0.007936507936507936, 0.007936507936507936, 0.007936507936507936, 0.007936507936507936, 0.007936507936507936, 0.007936507936507936, 0.007936507936507936, 0.007936507936507936, 0.007936507936507936, 0.007936507936507936, 0.007936507936507936, 0.007936507936507936, 0.007936507936507936, 0.007936507936507936, 0.007936507936507936, 0.007936507936507936, 0.007936507936507936, 0.007936507936507936, 0.007936507936507936, 0.007936507936507936, 0.007936507936507936, 0.007936507936507936, 0.007936507936507936, 0.007936507936507936, 0.007936507936507936, 0.007936507936507936, 0.007936507936507936, 0.007936507936507936, 0.007936507936507936, 0.007936507936507936, 0.007936507936507936, 0.007936507936507936, 0.007936507936507936, 0.007936507936507936, 0.007936507936507936, 0.007936507936507936, 0.007936507936507936, 0.007936507936507936, 0.007936507936507936, 0.007936507936507936, 0.007936507936507936, 0.007936507936507936, 0.007936507936507936, 0.007936507936507936, 0.007936507936507936, 0.007936507936507936, 0.007936507936507936, 0.007936507936507936, 0.007936507936507936, 0.007936507936507936, 0.007936507936507936, 0.007936507936507936, 0.007936507936507936, 0.007936507936507936, 0.007936507936507936, 0.007936507936507936, 0.007936507936507936, 0.007936507936507936, 0.007936507936507936, 0.007936507936507936, 0.007936507936507936, 0.007936507936507936, 0.007936507936507936, 0.007936507936507936, 0.007936507936507936, 0.007936507936507936, 0.007936507936507936, 0.007936507936507936, 0.007936507936507936, 0.007936507936507936, 0.007936507936507936, 0.007936507936507936, 0.007936507936507936, 0.007936507936507936, 0.007936507936507936, 0.007936507936507936, 0.007936507936507936, 0.007936507936507936, 0.007936507936507936, 0.007936507936507936, 0.007936507936507936, 0.007936507936507936, 0.007936507936507936, 0.007936507936507936, 0.007936507936507936, 0.007936507936507936, 0.007936507936507936, 0.007936507936507936, 0.007936507936507936, 0.007936507936507936, 0.007936507936507936, 0.007936507936507936, 0.007936507936507936, 0.007936507936507936, 0.007936507936507936, 0.007936507936507936, 0.007936507936507936, 0.007936507936507936, 0.007936507936507936, 0.007936507936507936, 0.007936507936507936, 0.007936507936507936, 0.007936507936507936, 0.005747126436781609, 0.005747126436781609, 0.005747126436781609, 0.005747126436781609, 0.005747126436781609, 0.005747126436781609, 0.005747126436781609, 0.005747126436781609, 0.005747126436781609, 0.005747126436781609, 0.005747126436781609, 0.005747126436781609, 0.005747126436781609, 0.005747126436781609, 0.005747126436781609, 0.005747126436781609, 0.005747126436781609, 0.005747126436781609, 0.005747126436781609, 0.005747126436781609, 0.005747126436781609, 0.005747126436781609, 0.005747126436781609, 0.005747126436781609, 0.005747126436781609, 0.005747126436781609, 0.005747126436781609, 0.005747126436781609, 0.005747126436781609, 0.005747126436781609, 0.005747126436781609, 0.005747126436781609, 0.005747126436781609, 0.005747126436781609, 0.005747126436781609, 0.005747126436781609, 0.005747126436781609, 0.005747126436781609, 0.005747126436781609, 0.005747126436781609, 0.005747126436781609, 0.005747126436781609, 0.005747126436781609, 0.005747126436781609, 0.005747126436781609, 0.005747126436781609, 0.005747126436781609, 0.005747126436781609, 0.005747126436781609, 0.005747126436781609, 0.005747126436781609, 0.005747126436781609, 0.005747126436781609, 0.005747126436781609, 0.005747126436781609, 0.005747126436781609, 0.005747126436781609, 0.005747126436781609, 0.005747126436781609, 0.005747126436781609, 0.005747126436781609, 0.005747126436781609, 0.005747126436781609, 0.005747126436781609, 0.005747126436781609, 0.005747126436781609, 0.005747126436781609, 0.005747126436781609, 0.005747126436781609, 0.005747126436781609, 0.005747126436781609, 0.005747126436781609, 0.005747126436781609, 0.005747126436781609, 0.005747126436781609, 0.005747126436781609, 0.005747126436781609, 0.005747126436781609, 0.005747126436781609, 0.005747126436781609, 0.005747126436781609, 0.005747126436781609, 0.005747126436781609, 0.005747126436781609, 0.005747126436781609, 0.005747126436781609, 0.005747126436781609, 0.005747126436781609, 0.005747126436781609, 0.005747126436781609, 0.005747126436781609, 0.005747126436781609, 0.005747126436781609, 0.005747126436781609, 0.005747126436781609, 0.005747126436781609, 0.005747126436781609, 0.005747126436781609, 0.005747126436781609, 0.005747126436781609, 0.005747126436781609, 0.005747126436781609, 0.005747126436781609, 0.005747126436781609, 0.005747126436781609, 0.005747126436781609, 0.005747126436781609, 0.005747126436781609, 0.005747126436781609, 0.005747126436781609, 0.005747126436781609, 0.005747126436781609, 0.005747126436781609, 0.005747126436781609, 0.005747126436781609, 0.005747126436781609, 0.005747126436781609, 0.005747126436781609, 0.005747126436781609, 0.005747126436781609, 0.005747126436781609, 0.005747126436781609, 0.005747126436781609, 0.005747126436781609, 0.005747126436781609, 0.005747126436781609, 0.005747126436781609, 0.005747126436781609, 0.005747126436781609, 0.005747126436781609, 0.005747126436781609, 0.005747126436781609, 0.005747126436781609, 0.005747126436781609, 0.005747126436781609, 0.005747126436781609, 0.005747126436781609, 0.005747126436781609, 0.005747126436781609, 0.005747126436781609, 0.005747126436781609, 0.005747126436781609, 0.005747126436781609, 0.005747126436781609, 0.005747126436781609, 0.005747126436781609, 0.005747126436781609, 0.005747126436781609, 0.005747126436781609, 0.005747126436781609, 0.005747126436781609, 0.005747126436781609, 0.005747126436781609, 0.005747126436781609, 0.005747126436781609, 0.005747126436781609, 0.005747126436781609, 0.005747126436781609, 0.005747126436781609, 0.005747126436781609, 0.005747126436781609, 0.005747126436781609, 0.005747126436781609, 0.005747126436781609, 0.005747126436781609, 0.005747126436781609, 0.005747126436781609, 0.005747126436781609, 0.005747126436781609, 0.005747126436781609, 0.005747126436781609, 0.005747126436781609, 0.005747126436781609, 0.005747126436781609, 0.004132231404958678, 0.004132231404958678, 0.004132231404958678, 0.004132231404958678, 0.004132231404958678, 0.004132231404958678, 0.004132231404958678, 0.004132231404958678, 0.004132231404958678, 0.004132231404958678, 0.004132231404958678, 0.004132231404958678, 0.004132231404958678, 0.004132231404958678, 0.004132231404958678, 0.004132231404958678, 0.004132231404958678, 0.004132231404958678, 0.004132231404958678, 0.004132231404958678, 0.004132231404958678, 0.004132231404958678, 0.004132231404958678, 0.004132231404958678, 0.004132231404958678, 0.004132231404958678, 0.004132231404958678, 0.004132231404958678, 0.004132231404958678, 0.004132231404958678, 0.004132231404958678, 0.004132231404958678, 0.004132231404958678, 0.004132231404958678, 0.004132231404958678, 0.004132231404958678, 0.004132231404958678, 0.004132231404958678, 0.004132231404958678, 0.004132231404958678, 0.004132231404958678, 0.004132231404958678, 0.004132231404958678, 0.004132231404958678, 0.004132231404958678, 0.004132231404958678, 0.004132231404958678, 0.004132231404958678, 0.004132231404958678, 0.004132231404958678, 0.004132231404958678, 0.004132231404958678, 0.004132231404958678, 0.004132231404958678, 0.004132231404958678, 0.004132231404958678, 0.004132231404958678, 0.004132231404958678, 0.004132231404958678, 0.004132231404958678, 0.004132231404958678, 0.004132231404958678, 0.004132231404958678, 0.004132231404958678, 0.004132231404958678, 0.004132231404958678, 0.004132231404958678, 0.004132231404958678, 0.004132231404958678, 0.004132231404958678, 0.004132231404958678, 0.004132231404958678, 0.004132231404958678, 0.004132231404958678, 0.004132231404958678, 0.004132231404958678, 0.004132231404958678, 0.004132231404958678, 0.004132231404958678, 0.004132231404958678, 0.004132231404958678, 0.004132231404958678, 0.004132231404958678, 0.004132231404958678, 0.004132231404958678, 0.004132231404958678, 0.004132231404958678, 0.004132231404958678, 0.004132231404958678, 0.004132231404958678, 0.004132231404958678, 0.004132231404958678, 0.004132231404958678, 0.004132231404958678, 0.004132231404958678, 0.004132231404958678, 0.004132231404958678, 0.004132231404958678, 0.004132231404958678, 0.004132231404958678, 0.004132231404958678, 0.004132231404958678, 0.004132231404958678, 0.004132231404958678, 0.004132231404958678, 0.004132231404958678, 0.004132231404958678, 0.004132231404958678, 0.004132231404958678, 0.004132231404958678, 0.004132231404958678, 0.004132231404958678, 0.004132231404958678, 0.004132231404958678, 0.004132231404958678, 0.004132231404958678, 0.004132231404958678, 0.004132231404958678, 0.004132231404958678, 0.004132231404958678, 0.004132231404958678, 0.004132231404958678, 0.004132231404958678, 0.004132231404958678, 0.004132231404958678, 0.004132231404958678, 0.004132231404958678, 0.004132231404958678, 0.004132231404958678, 0.004132231404958678, 0.004132231404958678, 0.004132231404958678, 0.004132231404958678, 0.004132231404958678, 0.004132231404958678, 0.004132231404958678, 0.004132231404958678, 0.004132231404958678, 0.004132231404958678, 0.004132231404958678, 0.004132231404958678, 0.004132231404958678, 0.004132231404958678, 0.004132231404958678, 0.004132231404958678, 0.004132231404958678, 0.004132231404958678, 0.004132231404958678, 0.004132231404958678, 0.004132231404958678, 0.004132231404958678, 0.004132231404958678, 0.004132231404958678, 0.004132231404958678, 0.004132231404958678, 0.004132231404958678, 0.004132231404958678, 0.004132231404958678, 0.004132231404958678, 0.004132231404958678, 0.004132231404958678, 0.004132231404958678, 0.004132231404958678, 0.004132231404958678, 0.004132231404958678, 0.004132231404958678, 0.004132231404958678, 0.004132231404958678, 0.004132231404958678, 0.004132231404958678, 0.004132231404958678, 0.004132231404958678, 0.004132231404958678, 0.004132231404958678, 0.004132231404958678, 0.004132231404958678, 0.004132231404958678, 0.004132231404958678, 0.004132231404958678, 0.004132231404958678, 0.004132231404958678, 0.004132231404958678, 0.004132231404958678, 0.004132231404958678, 0.004132231404958678, 0.004132231404958678, 0.004132231404958678, 0.004132231404958678, 0.004132231404958678, 0.004132231404958678, 0.004132231404958678, 0.004132231404958678, 0.004132231404958678, 0.004132231404958678, 0.004132231404958678, 0.004132231404958678, 0.004132231404958678, 0.004132231404958678, 0.004132231404958678, 0.004132231404958678, 0.004132231404958678, 0.004132231404958678, 0.004132231404958678, 0.004132231404958678, 0.004132231404958678, 0.004132231404958678, 0.004132231404958678, 0.004132231404958678, 0.004132231404958678, 0.004132231404958678, 0.004132231404958678, 0.004132231404958678, 0.004132231404958678, 0.004132231404958678, 0.004132231404958678, 0.004132231404958678, 0.004132231404958678, 0.004132231404958678, 0.004132231404958678, 0.004132231404958678, 0.004132231404958678, 0.004132231404958678, 0.004132231404958678, 0.004132231404958678, 0.004132231404958678, 0.004132231404958678, 0.004132231404958678, 0.004132231404958678, 0.004132231404958678, 0.004132231404958678, 0.004132231404958678, 0.004132231404958678, 0.004132231404958678, 0.004132231404958678, 0.004132231404958678, 0.004132231404958678, 0.004132231404958678, 0.004132231404958678, 0.004132231404958678, 0.004132231404958678, 0.004132231404958678, 0.004132231404958678, 0.008264462809917356, 0.008264462809917356, 0.008264462809917356, 0.008264462809917356, 0.008264462809917356, 0.008264462809917356, 0.008264462809917356, 0.008264462809917356, 0.008264462809917356, 0.008264462809917356, 0.008264462809917356, 0.008264462809917356, 0.008264462809917356, 0.008264462809917356, 0.008264462809917356, 0.008264462809917356, 0.008264462809917356, 0.008264462809917356, 0.008264462809917356, 0.008264462809917356, 0.008264462809917356, 0.008264462809917356, 0.008264462809917356, 0.008264462809917356, 0.008264462809917356, 0.008264462809917356, 0.008264462809917356, 0.008264462809917356, 0.008264462809917356, 0.008264462809917356, 0.008264462809917356, 0.008264462809917356, 0.008264462809917356, 0.008264462809917356, 0.008264462809917356, 0.008264462809917356, 0.008264462809917356, 0.008264462809917356, 0.008264462809917356, 0.008264462809917356, 0.008264462809917356, 0.008264462809917356, 0.008264462809917356, 0.008264462809917356, 0.008264462809917356, 0.008264462809917356, 0.008264462809917356, 0.008264462809917356, 0.008264462809917356, 0.008264462809917356, 0.008264462809917356, 0.008264462809917356, 0.008264462809917356, 0.008264462809917356, 0.008264462809917356, 0.008264462809917356, 0.008264462809917356, 0.008264462809917356, 0.008264462809917356, 0.008264462809917356, 0.008264462809917356, 0.008264462809917356, 0.008264462809917356, 0.008264462809917356, 0.008264462809917356, 0.008264462809917356, 0.008264462809917356, 0.008264462809917356, 0.008264462809917356, 0.008264462809917356, 0.008264462809917356, 0.008264462809917356, 0.008264462809917356, 0.008264462809917356, 0.008264462809917356, 0.008264462809917356, 0.008264462809917356, 0.008264462809917356, 0.008264462809917356, 0.008264462809917356, 0.008264462809917356, 0.008264462809917356, 0.008264462809917356, 0.008264462809917356, 0.008264462809917356, 0.008264462809917356, 0.008264462809917356, 0.008264462809917356, 0.008264462809917356, 0.008264462809917356, 0.008264462809917356, 0.008264462809917356, 0.008264462809917356, 0.008264462809917356, 0.008264462809917356, 0.008264462809917356, 0.008264462809917356, 0.008264462809917356, 0.008264462809917356, 0.008264462809917356, 0.008264462809917356, 0.008264462809917356, 0.008264462809917356, 0.008264462809917356, 0.008264462809917356, 0.008264462809917356, 0.008264462809917356, 0.008264462809917356, 0.008264462809917356, 0.008264462809917356, 0.008264462809917356, 0.008264462809917356, 0.008264462809917356, 0.008264462809917356, 0.008264462809917356, 0.008264462809917356, 0.008264462809917356, 0.008264462809917356, 0.008264462809917356, 0.008264462809917356, 0.008264462809917356, 0.0058823529411764705, 0.0058823529411764705, 0.0058823529411764705, 0.0058823529411764705, 0.0058823529411764705, 0.0058823529411764705, 0.0058823529411764705, 0.0058823529411764705, 0.0058823529411764705, 0.0058823529411764705, 0.0058823529411764705, 0.0058823529411764705, 0.0058823529411764705, 0.0058823529411764705, 0.0058823529411764705, 0.0058823529411764705, 0.0058823529411764705, 0.0058823529411764705, 0.0058823529411764705, 0.0058823529411764705, 0.0058823529411764705, 0.0058823529411764705, 0.0058823529411764705, 0.0058823529411764705, 0.0058823529411764705, 0.0058823529411764705, 0.0058823529411764705, 0.0058823529411764705, 0.0058823529411764705, 0.0058823529411764705, 0.0058823529411764705, 0.0058823529411764705, 0.0058823529411764705, 0.0058823529411764705, 0.0058823529411764705, 0.0058823529411764705, 0.0058823529411764705, 0.0058823529411764705, 0.0058823529411764705, 0.0058823529411764705, 0.0058823529411764705, 0.0058823529411764705, 0.0058823529411764705, 0.0058823529411764705, 0.0058823529411764705, 0.0058823529411764705, 0.0058823529411764705, 0.0058823529411764705, 0.0058823529411764705, 0.0058823529411764705, 0.0058823529411764705, 0.0058823529411764705, 0.0058823529411764705, 0.0058823529411764705, 0.0058823529411764705, 0.0058823529411764705, 0.0058823529411764705, 0.0058823529411764705, 0.0058823529411764705, 0.0058823529411764705, 0.0058823529411764705, 0.0058823529411764705, 0.0058823529411764705, 0.0058823529411764705, 0.0058823529411764705, 0.0058823529411764705, 0.0058823529411764705, 0.0058823529411764705, 0.0058823529411764705, 0.0058823529411764705, 0.0058823529411764705, 0.0058823529411764705, 0.0058823529411764705, 0.0058823529411764705, 0.0058823529411764705, 0.0058823529411764705, 0.0058823529411764705, 0.0058823529411764705, 0.0058823529411764705, 0.0058823529411764705, 0.0058823529411764705, 0.0058823529411764705, 0.0058823529411764705, 0.0058823529411764705, 0.0058823529411764705, 0.0058823529411764705, 0.0058823529411764705, 0.0058823529411764705, 0.0058823529411764705, 0.0058823529411764705, 0.0058823529411764705, 0.0058823529411764705, 0.0058823529411764705, 0.0058823529411764705, 0.0058823529411764705, 0.0058823529411764705, 0.0058823529411764705, 0.0058823529411764705, 0.0058823529411764705, 0.0058823529411764705, 0.0058823529411764705, 0.0058823529411764705, 0.0058823529411764705, 0.0058823529411764705, 0.0058823529411764705, 0.0058823529411764705, 0.0058823529411764705, 0.0058823529411764705, 0.0058823529411764705, 0.0058823529411764705, 0.0058823529411764705, 0.0058823529411764705, 0.0058823529411764705, 0.0058823529411764705, 0.0058823529411764705, 0.0058823529411764705, 0.0058823529411764705, 0.0058823529411764705, 0.0058823529411764705, 0.0058823529411764705, 0.0058823529411764705, 0.0058823529411764705, 0.0058823529411764705, 0.0058823529411764705, 0.0058823529411764705, 0.0058823529411764705, 0.0058823529411764705, 0.0058823529411764705, 0.0058823529411764705, 0.0058823529411764705, 0.0058823529411764705, 0.0058823529411764705, 0.0058823529411764705, 0.0058823529411764705, 0.0058823529411764705, 0.0058823529411764705, 0.0058823529411764705, 0.0058823529411764705, 0.0058823529411764705, 0.0058823529411764705, 0.0058823529411764705, 0.0058823529411764705, 0.0058823529411764705, 0.0058823529411764705, 0.0058823529411764705, 0.0058823529411764705, 0.0058823529411764705, 0.0058823529411764705, 0.0058823529411764705, 0.0058823529411764705, 0.0058823529411764705, 0.0058823529411764705, 0.0058823529411764705, 0.0058823529411764705, 0.0058823529411764705, 0.0058823529411764705, 0.0058823529411764705, 0.0058823529411764705, 0.0058823529411764705, 0.0058823529411764705, 0.0058823529411764705, 0.0058823529411764705, 0.0058823529411764705, 0.0058823529411764705, 0.0058823529411764705, 0.0058823529411764705, 0.0058823529411764705, 0.0058823529411764705, 0.0058823529411764705, 0.0058823529411764705, 0.0058823529411764705, 0.0058823529411764705, 0.0058823529411764705, 0.0058823529411764705, 0.0058823529411764705, 0.0058823529411764705, 0.0058823529411764705, 0.0058823529411764705, 0.0058823529411764705, 0.0058823529411764705, 0.0058823529411764705, 0.0058823529411764705, 0.0058823529411764705, 0.0058823529411764705, 0.0058823529411764705, 0.0058823529411764705, 0.0058823529411764705, 0.0058823529411764705, 0.0058823529411764705, 0.0058823529411764705, 0.0058823529411764705, 0.0058823529411764705, 0.0058823529411764705, 0.0058823529411764705, 0.0058823529411764705, 0.0058823529411764705, 0.0058823529411764705, 0.0058823529411764705, 0.0058823529411764705, 0.0058823529411764705, 0.0058823529411764705, 0.0058823529411764705, 0.0058823529411764705, 0.0058823529411764705, 0.0058823529411764705, 0.0058823529411764705, 0.0058823529411764705, 0.0058823529411764705, 0.0058823529411764705, 0.0058823529411764705, 0.0058823529411764705, 0.0058823529411764705, 0.0058823529411764705, 0.0058823529411764705, 0.0058823529411764705, 0.0058823529411764705, 0.0058823529411764705, 0.0058823529411764705, 0.0058823529411764705, 0.0058823529411764705, 0.0058823529411764705, 0.0058823529411764705, 0.0058823529411764705, 0.0058823529411764705, 0.0058823529411764705, 0.0058823529411764705, 0.0058823529411764705, 0.0058823529411764705, 0.0058823529411764705, 0.0058823529411764705, 0.0058823529411764705, 0.0058823529411764705, 0.0058823529411764705, 0.0058823529411764705, 0.0058823529411764705, 0.0058823529411764705, 0.0058823529411764705, 0.0058823529411764705, 0.005208333333333333, 0.005208333333333333, 0.005208333333333333, 0.005208333333333333, 0.005208333333333333, 0.005208333333333333, 0.005208333333333333, 0.005208333333333333, 0.005208333333333333, 0.005208333333333333, 0.005208333333333333, 0.005208333333333333, 0.005208333333333333, 0.005208333333333333, 0.005208333333333333, 0.005208333333333333, 0.005208333333333333, 0.005208333333333333, 0.005208333333333333, 0.005208333333333333, 0.005208333333333333, 0.005208333333333333, 0.005208333333333333, 0.005208333333333333, 0.005208333333333333, 0.005208333333333333, 0.005208333333333333, 0.005208333333333333, 0.005208333333333333, 0.005208333333333333, 0.005208333333333333, 0.005208333333333333, 0.005208333333333333, 0.005208333333333333, 0.005208333333333333, 0.005208333333333333, 0.005208333333333333, 0.005208333333333333, 0.005208333333333333, 0.005208333333333333, 0.005208333333333333, 0.005208333333333333, 0.005208333333333333, 0.005208333333333333, 0.005208333333333333, 0.005208333333333333, 0.005208333333333333, 0.005208333333333333, 0.005208333333333333, 0.005208333333333333, 0.005208333333333333, 0.005208333333333333, 0.005208333333333333, 0.005208333333333333, 0.005208333333333333, 0.005208333333333333, 0.005208333333333333, 0.005208333333333333, 0.005208333333333333, 0.005208333333333333, 0.005208333333333333, 0.005208333333333333, 0.005208333333333333, 0.005208333333333333, 0.005208333333333333, 0.005208333333333333, 0.005208333333333333, 0.005208333333333333, 0.005208333333333333, 0.005208333333333333, 0.005208333333333333, 0.005208333333333333, 0.005208333333333333, 0.005208333333333333, 0.005208333333333333, 0.005208333333333333, 0.005208333333333333, 0.005208333333333333, 0.005208333333333333, 0.005208333333333333, 0.005208333333333333, 0.005208333333333333, 0.005208333333333333, 0.005208333333333333, 0.005208333333333333, 0.005208333333333333, 0.005208333333333333, 0.005208333333333333, 0.005208333333333333, 0.005208333333333333, 0.005208333333333333, 0.005208333333333333, 0.005208333333333333, 0.005208333333333333, 0.005208333333333333, 0.005208333333333333, 0.005208333333333333, 0.005208333333333333, 0.005208333333333333, 0.005208333333333333, 0.005208333333333333, 0.005208333333333333, 0.005208333333333333, 0.005208333333333333, 0.005208333333333333, 0.005208333333333333, 0.005208333333333333, 0.005208333333333333, 0.005208333333333333, 0.005208333333333333, 0.005208333333333333, 0.005208333333333333, 0.005208333333333333, 0.005208333333333333, 0.005208333333333333, 0.005208333333333333, 0.005208333333333333, 0.005208333333333333, 0.005208333333333333, 0.005208333333333333, 0.005208333333333333, 0.005208333333333333, 0.005208333333333333, 0.005208333333333333, 0.005208333333333333, 0.005208333333333333, 0.005208333333333333, 0.005208333333333333, 0.005208333333333333, 0.005208333333333333, 0.005208333333333333, 0.005208333333333333, 0.005208333333333333, 0.005208333333333333, 0.005208333333333333, 0.005208333333333333, 0.005208333333333333, 0.005208333333333333, 0.005208333333333333, 0.005208333333333333, 0.005208333333333333, 0.005208333333333333, 0.005208333333333333, 0.005208333333333333, 0.005208333333333333, 0.005208333333333333, 0.005208333333333333, 0.005208333333333333, 0.005208333333333333, 0.005208333333333333, 0.005208333333333333, 0.005208333333333333, 0.005208333333333333, 0.005208333333333333, 0.005208333333333333, 0.005208333333333333, 0.005208333333333333, 0.005208333333333333, 0.005208333333333333, 0.005208333333333333, 0.005208333333333333, 0.005208333333333333, 0.005208333333333333, 0.005208333333333333, 0.005208333333333333, 0.005208333333333333, 0.005208333333333333, 0.005208333333333333, 0.005208333333333333, 0.005208333333333333, 0.004201680672268907, 0.004201680672268907, 0.004201680672268907, 0.004201680672268907, 0.004201680672268907, 0.004201680672268907, 0.004201680672268907, 0.004201680672268907, 0.004201680672268907, 0.004201680672268907, 0.004201680672268907, 0.004201680672268907, 0.004201680672268907, 0.004201680672268907, 0.004201680672268907, 0.004201680672268907, 0.004201680672268907, 0.004201680672268907, 0.004201680672268907, 0.004201680672268907, 0.004201680672268907, 0.004201680672268907, 0.004201680672268907, 0.004201680672268907, 0.004201680672268907, 0.004201680672268907, 0.004201680672268907, 0.004201680672268907, 0.004201680672268907, 0.004201680672268907, 0.004201680672268907, 0.004201680672268907, 0.004201680672268907, 0.004201680672268907, 0.004201680672268907, 0.004201680672268907, 0.004201680672268907, 0.004201680672268907, 0.004201680672268907, 0.004201680672268907, 0.004201680672268907, 0.004201680672268907, 0.004201680672268907, 0.004201680672268907, 0.004201680672268907, 0.004201680672268907, 0.004201680672268907, 0.004201680672268907, 0.004201680672268907, 0.004201680672268907, 0.004201680672268907, 0.004201680672268907, 0.004201680672268907, 0.004201680672268907, 0.004201680672268907, 0.004201680672268907, 0.004201680672268907, 0.004201680672268907, 0.004201680672268907, 0.004201680672268907, 0.004201680672268907, 0.004201680672268907, 0.004201680672268907, 0.004201680672268907, 0.004201680672268907, 0.004201680672268907, 0.004201680672268907, 0.004201680672268907, 0.004201680672268907, 0.004201680672268907, 0.004201680672268907, 0.004201680672268907, 0.004201680672268907, 0.004201680672268907, 0.004201680672268907, 0.004201680672268907, 0.004201680672268907, 0.004201680672268907, 0.004201680672268907, 0.004201680672268907, 0.004201680672268907, 0.004201680672268907, 0.004201680672268907, 0.004201680672268907, 0.004201680672268907, 0.004201680672268907, 0.004201680672268907, 0.004201680672268907, 0.004201680672268907, 0.004201680672268907, 0.004201680672268907, 0.004201680672268907, 0.004201680672268907, 0.004201680672268907, 0.004201680672268907, 0.004201680672268907, 0.004201680672268907, 0.004201680672268907, 0.004201680672268907, 0.004201680672268907, 0.004201680672268907, 0.004201680672268907, 0.004201680672268907, 0.004201680672268907, 0.004201680672268907, 0.004201680672268907, 0.004201680672268907, 0.004201680672268907, 0.004201680672268907, 0.004201680672268907, 0.004201680672268907, 0.004201680672268907, 0.004201680672268907, 0.004201680672268907, 0.004201680672268907, 0.004201680672268907, 0.004201680672268907, 0.004201680672268907, 0.004201680672268907, 0.004201680672268907, 0.004201680672268907, 0.004201680672268907, 0.004201680672268907, 0.004201680672268907, 0.004201680672268907, 0.004201680672268907, 0.004201680672268907, 0.004201680672268907, 0.004201680672268907, 0.004201680672268907, 0.004201680672268907, 0.004201680672268907, 0.004201680672268907, 0.004201680672268907, 0.004201680672268907, 0.004201680672268907, 0.004201680672268907, 0.004201680672268907, 0.004201680672268907, 0.004201680672268907, 0.004201680672268907, 0.004201680672268907, 0.004201680672268907, 0.004201680672268907, 0.004201680672268907, 0.004201680672268907, 0.004201680672268907, 0.004201680672268907, 0.004201680672268907, 0.004201680672268907, 0.004201680672268907, 0.004201680672268907, 0.004201680672268907, 0.004201680672268907, 0.004201680672268907, 0.004201680672268907, 0.004201680672268907, 0.004201680672268907, 0.004201680672268907, 0.004201680672268907, 0.004201680672268907, 0.004201680672268907, 0.004201680672268907, 0.004201680672268907, 0.004201680672268907, 0.004201680672268907, 0.004201680672268907, 0.004201680672268907, 0.004201680672268907, 0.004201680672268907, 0.004201680672268907, 0.004201680672268907, 0.004201680672268907, 0.004201680672268907, 0.004201680672268907, 0.004201680672268907, 0.004201680672268907, 0.004201680672268907, 0.004201680672268907, 0.004201680672268907, 0.004201680672268907, 0.004201680672268907, 0.004201680672268907, 0.004201680672268907, 0.004201680672268907, 0.004201680672268907, 0.004201680672268907, 0.004201680672268907, 0.004201680672268907, 0.004201680672268907, 0.004201680672268907, 0.004201680672268907, 0.004201680672268907, 0.004201680672268907, 0.004201680672268907, 0.004201680672268907, 0.004201680672268907, 0.004201680672268907, 0.004201680672268907, 0.004201680672268907, 0.005, 0.005, 0.005, 0.005, 0.005, 0.005, 0.005, 0.005, 0.005, 0.005, 0.005, 0.005, 0.005, 0.005, 0.005, 0.005, 0.005, 0.005, 0.005, 0.005, 0.005, 0.005, 0.005, 0.005, 0.005, 0.005, 0.005, 0.005, 0.005, 0.005, 0.005, 0.005, 0.005, 0.005, 0.005, 0.005, 0.005, 0.005, 0.005, 0.005, 0.005, 0.005, 0.005, 0.005, 0.005, 0.005, 0.005, 0.005, 0.005, 0.005, 0.005, 0.005, 0.005, 0.005, 0.005, 0.005, 0.005, 0.005, 0.005, 0.005, 0.005, 0.005, 0.005, 0.005, 0.005, 0.005, 0.005, 0.005, 0.005, 0.005, 0.005, 0.005, 0.005, 0.005, 0.005, 0.005, 0.005, 0.005, 0.005, 0.005, 0.005, 0.005, 0.005, 0.005, 0.005, 0.005, 0.005, 0.005, 0.005, 0.005, 0.005, 0.005, 0.005, 0.005, 0.005, 0.005, 0.005, 0.005, 0.005, 0.005, 0.005, 0.005, 0.005, 0.005, 0.005, 0.005, 0.005, 0.005, 0.005, 0.005, 0.005, 0.005, 0.005, 0.005, 0.005, 0.005, 0.005, 0.005, 0.005, 0.005, 0.005, 0.005, 0.005, 0.005, 0.005, 0.005, 0.005, 0.005, 0.005, 0.005, 0.005, 0.005, 0.005, 0.005, 0.005, 0.005, 0.005, 0.005, 0.005, 0.005, 0.005, 0.005, 0.005, 0.005, 0.005, 0.005, 0.005, 0.005, 0.005, 0.005, 0.005, 0.005, 0.005, 0.005, 0.005, 0.005, 0.005, 0.005, 0.005, 0.005, 0.005, 0.005, 0.005, 0.005, 0.005, 0.005, 0.005, 0.005, 0.005, 0.005, 0.005, 0.005, 0.005, 0.005, 0.005, 0.005, 0.005, 0.005, 0.005, 0.005, 0.005, 0.005, 0.005, 0.005, 0.005, 0.005, 0.005, 0.005, 0.005, 0.005, 0.005263157894736842, 0.005263157894736842, 0.005263157894736842, 0.005263157894736842, 0.005263157894736842, 0.005263157894736842, 0.005263157894736842, 0.005263157894736842, 0.005263157894736842, 0.005263157894736842, 0.005263157894736842, 0.005263157894736842, 0.005263157894736842, 0.005263157894736842, 0.005263157894736842, 0.005263157894736842, 0.005263157894736842, 0.005263157894736842, 0.005263157894736842, 0.005263157894736842, 0.005263157894736842, 0.005263157894736842, 0.005263157894736842, 0.005263157894736842, 0.005263157894736842, 0.005263157894736842, 0.005263157894736842, 0.005263157894736842, 0.005263157894736842, 0.005263157894736842, 0.005263157894736842, 0.005263157894736842, 0.005263157894736842, 0.005263157894736842, 0.005263157894736842, 0.005263157894736842, 0.005263157894736842, 0.005263157894736842, 0.005263157894736842, 0.005263157894736842, 0.005263157894736842, 0.005263157894736842, 0.005263157894736842, 0.005263157894736842, 0.005263157894736842, 0.005263157894736842, 0.005263157894736842, 0.005263157894736842, 0.005263157894736842, 0.005263157894736842, 0.005263157894736842, 0.005263157894736842, 0.005263157894736842, 0.005263157894736842, 0.005263157894736842, 0.005263157894736842, 0.005263157894736842, 0.005263157894736842, 0.005263157894736842, 0.005263157894736842, 0.005263157894736842, 0.005263157894736842, 0.005263157894736842, 0.005263157894736842, 0.005263157894736842, 0.005263157894736842, 0.005263157894736842, 0.005263157894736842, 0.005263157894736842, 0.005263157894736842, 0.005263157894736842, 0.005263157894736842, 0.005263157894736842, 0.005263157894736842, 0.005263157894736842, 0.005263157894736842, 0.005263157894736842, 0.005263157894736842, 0.005263157894736842, 0.005263157894736842, 0.005263157894736842, 0.005263157894736842, 0.005263157894736842, 0.005263157894736842, 0.005263157894736842, 0.005263157894736842, 0.005263157894736842, 0.005263157894736842, 0.005263157894736842, 0.005263157894736842, 0.005263157894736842, 0.005263157894736842, 0.005263157894736842, 0.005263157894736842, 0.005263157894736842, 0.005263157894736842, 0.005263157894736842, 0.005263157894736842, 0.005263157894736842, 0.005263157894736842, 0.005263157894736842, 0.005263157894736842, 0.005263157894736842, 0.005263157894736842, 0.005263157894736842, 0.005263157894736842, 0.005263157894736842, 0.005263157894736842, 0.005263157894736842, 0.005263157894736842, 0.005263157894736842, 0.005263157894736842, 0.005263157894736842, 0.005263157894736842, 0.005263157894736842, 0.005263157894736842, 0.005263157894736842, 0.005263157894736842, 0.005263157894736842, 0.005263157894736842, 0.005263157894736842, 0.005263157894736842, 0.005263157894736842, 0.005263157894736842, 0.005263157894736842, 0.005263157894736842, 0.005263157894736842, 0.005263157894736842, 0.005263157894736842, 0.005263157894736842, 0.005263157894736842, 0.005263157894736842, 0.005263157894736842, 0.005263157894736842, 0.005263157894736842, 0.005263157894736842, 0.005263157894736842, 0.005263157894736842, 0.005263157894736842, 0.005263157894736842, 0.005263157894736842, 0.005263157894736842, 0.005263157894736842, 0.005263157894736842, 0.005263157894736842, 0.005263157894736842, 0.005263157894736842, 0.005263157894736842, 0.005263157894736842, 0.005263157894736842, 0.005263157894736842, 0.005263157894736842, 0.005263157894736842, 0.005263157894736842, 0.005263157894736842, 0.005263157894736842, 0.005263157894736842, 0.005263157894736842, 0.005263157894736842, 0.005263157894736842, 0.00625, 0.00625, 0.00625, 0.00625, 0.00625, 0.00625, 0.00625, 0.00625, 0.00625, 0.00625, 0.00625, 0.00625, 0.00625, 0.00625, 0.00625, 0.00625, 0.00625, 0.00625, 0.00625, 0.00625, 0.00625, 0.00625, 0.00625, 0.00625, 0.00625, 0.00625, 0.00625, 0.00625, 0.00625, 0.00625, 0.00625, 0.00625, 0.00625, 0.00625, 0.00625, 0.00625, 0.00625, 0.00625, 0.00625, 0.00625, 0.00625, 0.00625, 0.00625, 0.00625, 0.00625, 0.00625, 0.00625, 0.00625, 0.00625, 0.00625, 0.00625, 0.00625, 0.00625, 0.00625, 0.00625, 0.00625, 0.00625, 0.00625, 0.00625, 0.00625, 0.00625, 0.00625, 0.00625, 0.00625, 0.00625, 0.00625, 0.00625, 0.00625, 0.00625, 0.00625, 0.00625, 0.00625, 0.00625, 0.00625, 0.00625, 0.00625, 0.00625, 0.00625, 0.00625, 0.00625, 0.00625, 0.00625, 0.00625, 0.00625, 0.00625, 0.00625, 0.00625, 0.00625, 0.00625, 0.00625, 0.00625, 0.00625, 0.00625, 0.00625, 0.00625, 0.00625, 0.00625, 0.00625, 0.00625, 0.00625, 0.00625, 0.00625, 0.00625, 0.00625, 0.00625, 0.00625, 0.00625, 0.00625, 0.00625, 0.00625, 0.00625, 0.00625, 0.00625, 0.00625, 0.00625, 0.00625, 0.00625, 0.00625, 0.00625, 0.00625, 0.00625, 0.00625, 0.00625, 0.00625, 0.00625, 0.00625, 0.00625, 0.00625, 0.00625, 0.00625, 0.00625, 0.00625, 0.00625, 0.00625, 0.00625, 0.00625, 0.00625, 0.00625, 0.00625, 0.00625, 0.00625, 0.00625, 0.00625, 0.00625, 0.00625, 0.00625, 0.00625, 0.00625, 0.00625, 0.00625, 0.00625, 0.00625, 0.00625, 0.00625, 0.00625, 0.00625, 0.00625, 0.00625, 0.00625, 0.00625, 0.00625, 0.00625, 0.00625, 0.00625, 0.00625, 0.00625, 0.00625, 0.00625, 0.00625, 0.00625, 0.00625, 0.00625, 0.00625, 0.00625, 0.00625, 0.00625, 0.00625, 0.00625, 0.00625, 0.00625, 0.00625, 0.00625, 0.00625, 0.00625, 0.00625, 0.00625, 0.00625, 0.00625, 0.00625, 0.00625, 0.00625, 0.00625]\n",
            "Time taken\n"
          ]
        }
      ],
      "source": [
        "train_path = path_dataset3+\"Train/\"\n",
        "test_path = path_dataset3+\"Test/\"\n",
        "\n",
        "val_split = 0.2\n",
        "batch_size = 128\n",
        "input_size = (224,224)\n",
        "\n",
        "train_loader, test_loader, val_loader = load_data(path_train, val_split, path_test, batch_size, input_size)"
      ]
    },
    {
      "cell_type": "code",
      "execution_count": null,
      "metadata": {
        "colab": {
          "base_uri": "https://localhost:8080/"
        },
        "id": "AqZz0MtR9d46",
        "outputId": "260ac207-57cc-470f-f9b4-b6699a0cc698"
      },
      "outputs": [
        {
          "name": "stdout",
          "output_type": "stream",
          "text": [
            "Device: cuda:0\n",
            "Epoch [1/1], Step [10/66], Loss: 2.7568, Accuracy: 0.00%, Validation Accuracy: 10.33%\n",
            "Epoch [1/1], Step [20/66], Loss: 2.6704, Accuracy: 0.00%, Validation Accuracy: 10.33%\n",
            "Epoch [1/1], Step [30/66], Loss: 2.6873, Accuracy: 9.38%, Validation Accuracy: 9.18%\n",
            "Epoch [1/1], Step [40/66], Loss: 2.6864, Accuracy: 15.62%, Validation Accuracy: 9.18%\n",
            "Epoch [1/1], Step [50/66], Loss: 2.6760, Accuracy: 3.12%, Validation Accuracy: 9.18%\n",
            "Epoch [1/1], Step [60/66], Loss: 2.5726, Accuracy: 15.62%, Validation Accuracy: 15.30%\n",
            "######## Training Finished in 235.3470482826233 seconds ###########\n"
          ]
        }
      ],
      "source": [
        "savepath = path_save+\"alexnetmodel_d3.pt\"\n",
        "\n",
        "trained_AlexNet_model, device = train_model(AlexNet_model, num_epochs, train_loader, criterion, optimizer, savepath)"
      ]
    },
    {
      "cell_type": "code",
      "execution_count": null,
      "metadata": {
        "id": "8FjXkk_P9d46"
      },
      "outputs": [],
      "source": [
        "# for loading model\n",
        "# trained_AlexNet_model.load_state_dict(torch.load(path+\"alexnetmodel.pt\"))"
      ]
    },
    {
      "cell_type": "code",
      "execution_count": null,
      "metadata": {
        "colab": {
          "base_uri": "https://localhost:8080/"
        },
        "id": "0U8CCcMO9d46",
        "outputId": "3e4bbc6c-d292-48f7-ab90-c65c149acd2f"
      },
      "outputs": [
        {
          "name": "stdout",
          "output_type": "stream",
          "text": [
            "Test Accuracy of the model on the 710 test images: 19.859154929577468 %\n"
          ]
        }
      ],
      "source": [
        "evaluate_model(trained_AlexNet_model, test_loader, device)"
      ]
    },
    {
      "cell_type": "markdown",
      "metadata": {
        "id": "-2Oy50W5vP6I"
      },
      "source": [
        "Architecture 2: VGG-11"
      ]
    },
    {
      "cell_type": "markdown",
      "metadata": {
        "id": "-9m7fXEW-QhP"
      },
      "source": [
        "on dataset 1:"
      ]
    },
    {
      "cell_type": "code",
      "execution_count": null,
      "metadata": {
        "colab": {
          "base_uri": "https://localhost:8080/"
        },
        "id": "EbQ_Vv-ZvS5D",
        "outputId": "e8d31eed-016d-4cc5-9515-d81db58fc832"
      },
      "outputs": [
        {
          "name": "stderr",
          "output_type": "stream",
          "text": [
            "Downloading: \"https://github.com/pytorch/vision/zipball/v0.10.0\" to /root/.cache/torch/hub/v0.10.0.zip\n"
          ]
        }
      ],
      "source": [
        "VGG11_model = torch.hub.load('pytorch/vision:v0.10.0', 'vgg11', weights=None)"
      ]
    },
    {
      "cell_type": "code",
      "execution_count": null,
      "metadata": {
        "id": "CICeGKI3vjDw"
      },
      "outputs": [],
      "source": [
        "prev_out = VGG11_model.classifier[3].out_features\n",
        "VGG11_model.classifier[6] = nn.Linear( prev_out, nclasses)"
      ]
    },
    {
      "cell_type": "code",
      "execution_count": null,
      "metadata": {
        "colab": {
          "base_uri": "https://localhost:8080/"
        },
        "id": "m2b6wbT-vy9o",
        "outputId": "00ac485b-9ba2-4d0c-f61c-878d21bae4cd"
      },
      "outputs": [
        {
          "data": {
            "text/plain": [
              "VGG(\n",
              "  (features): Sequential(\n",
              "    (0): Conv2d(3, 64, kernel_size=(3, 3), stride=(1, 1), padding=(1, 1))\n",
              "    (1): ReLU(inplace=True)\n",
              "    (2): MaxPool2d(kernel_size=2, stride=2, padding=0, dilation=1, ceil_mode=False)\n",
              "    (3): Conv2d(64, 128, kernel_size=(3, 3), stride=(1, 1), padding=(1, 1))\n",
              "    (4): ReLU(inplace=True)\n",
              "    (5): MaxPool2d(kernel_size=2, stride=2, padding=0, dilation=1, ceil_mode=False)\n",
              "    (6): Conv2d(128, 256, kernel_size=(3, 3), stride=(1, 1), padding=(1, 1))\n",
              "    (7): ReLU(inplace=True)\n",
              "    (8): Conv2d(256, 256, kernel_size=(3, 3), stride=(1, 1), padding=(1, 1))\n",
              "    (9): ReLU(inplace=True)\n",
              "    (10): MaxPool2d(kernel_size=2, stride=2, padding=0, dilation=1, ceil_mode=False)\n",
              "    (11): Conv2d(256, 512, kernel_size=(3, 3), stride=(1, 1), padding=(1, 1))\n",
              "    (12): ReLU(inplace=True)\n",
              "    (13): Conv2d(512, 512, kernel_size=(3, 3), stride=(1, 1), padding=(1, 1))\n",
              "    (14): ReLU(inplace=True)\n",
              "    (15): MaxPool2d(kernel_size=2, stride=2, padding=0, dilation=1, ceil_mode=False)\n",
              "    (16): Conv2d(512, 512, kernel_size=(3, 3), stride=(1, 1), padding=(1, 1))\n",
              "    (17): ReLU(inplace=True)\n",
              "    (18): Conv2d(512, 512, kernel_size=(3, 3), stride=(1, 1), padding=(1, 1))\n",
              "    (19): ReLU(inplace=True)\n",
              "    (20): MaxPool2d(kernel_size=2, stride=2, padding=0, dilation=1, ceil_mode=False)\n",
              "  )\n",
              "  (avgpool): AdaptiveAvgPool2d(output_size=(7, 7))\n",
              "  (classifier): Sequential(\n",
              "    (0): Linear(in_features=25088, out_features=4096, bias=True)\n",
              "    (1): ReLU(inplace=True)\n",
              "    (2): Dropout(p=0.5, inplace=False)\n",
              "    (3): Linear(in_features=4096, out_features=4096, bias=True)\n",
              "    (4): ReLU(inplace=True)\n",
              "    (5): Dropout(p=0.5, inplace=False)\n",
              "    (6): Linear(in_features=4096, out_features=15, bias=True)\n",
              "  )\n",
              ")"
            ]
          },
          "execution_count": 7,
          "metadata": {},
          "output_type": "execute_result"
        }
      ],
      "source": [
        "VGG11_model.eval()"
      ]
    },
    {
      "cell_type": "code",
      "execution_count": null,
      "metadata": {
        "id": "lgOzrKXZv3DL"
      },
      "outputs": [],
      "source": [
        "optimizer = torch.optim.Adam(VGG11_model.parameters(), lr=learning_rate) "
      ]
    },
    {
      "cell_type": "code",
      "execution_count": null,
      "metadata": {
        "id": "xQdrYPPhv_06"
      },
      "outputs": [],
      "source": [
        "path_train = path_dataset1+\"train\"\n",
        "path_test = path_dataset1+\"test\"\n",
        "val_split = 0.2\n",
        "batch_size = 128\n",
        "input_size = (224,224)\n",
        "\n",
        "train_loader, test_loader, val_loader = load_data(path_train, val_split, path_test, batch_size, input_size)"
      ]
    },
    {
      "cell_type": "code",
      "execution_count": null,
      "metadata": {
        "id": "1VBebkPiwIuh"
      },
      "outputs": [],
      "source": [
        "savepath = path_save+\"vgg11model_d1.pt\"\n",
        "trained_VGG11_model, device = train_model(VGG11_model, num_epochs, train_loader, criterion, optimizer, savepath)"
      ]
    },
    {
      "cell_type": "code",
      "execution_count": null,
      "metadata": {
        "id": "pDj3U6BXwQYn"
      },
      "outputs": [],
      "source": [
        "evaluate_model(trained_VGG11_model, test_loader, device)"
      ]
    },
    {
      "cell_type": "code",
      "execution_count": null,
      "metadata": {
        "id": "rT1TCKuJ-aU9"
      },
      "outputs": [],
      "source": []
    },
    {
      "cell_type": "markdown",
      "metadata": {
        "id": "f3Oow3Xp-aup"
      },
      "source": [
        "on dataset 2:"
      ]
    },
    {
      "cell_type": "code",
      "execution_count": null,
      "metadata": {
        "colab": {
          "base_uri": "https://localhost:8080/"
        },
        "id": "DPB26YC7-aup",
        "outputId": "e8d31eed-016d-4cc5-9515-d81db58fc832"
      },
      "outputs": [
        {
          "name": "stderr",
          "output_type": "stream",
          "text": [
            "Downloading: \"https://github.com/pytorch/vision/zipball/v0.10.0\" to /root/.cache/torch/hub/v0.10.0.zip\n"
          ]
        }
      ],
      "source": [
        "VGG11_model = torch.hub.load('pytorch/vision:v0.10.0', 'vgg11', weights=None)"
      ]
    },
    {
      "cell_type": "code",
      "execution_count": null,
      "metadata": {
        "id": "W-6iOeEd-aup"
      },
      "outputs": [],
      "source": [
        "prev_out = VGG11_model.classifier[3].out_features\n",
        "VGG11_model.classifier[6] = nn.Linear( prev_out, nclasses)"
      ]
    },
    {
      "cell_type": "code",
      "execution_count": null,
      "metadata": {
        "id": "R6GC9UD3-auq"
      },
      "outputs": [],
      "source": [
        "optimizer = torch.optim.Adam(VGG11_model.parameters(), lr=learning_rate) "
      ]
    },
    {
      "cell_type": "code",
      "execution_count": null,
      "metadata": {
        "id": "ySZfAJgf-auq"
      },
      "outputs": [],
      "source": [
        "path_train = path_dataset2+\"train\"\n",
        "path_test = path_dataset2+\"test\"\n",
        "val_split = 0.2\n",
        "batch_size = 128\n",
        "input_size = (224,224)\n",
        "\n",
        "train_loader, test_loader, val_loader = load_data(path_train, val_split, path_test, batch_size, input_size)"
      ]
    },
    {
      "cell_type": "code",
      "execution_count": null,
      "metadata": {
        "id": "NPQV9EqR-auq"
      },
      "outputs": [],
      "source": [
        "savepath = path_save+\"vgg11model_d2.pt\"\n",
        "trained_VGG11_model, device = train_model(VGG11_model, num_epochs, train_loader, criterion, optimizer, savepath)"
      ]
    },
    {
      "cell_type": "code",
      "execution_count": null,
      "metadata": {
        "id": "EOfbMdw1-auq"
      },
      "outputs": [],
      "source": [
        "evaluate_model(trained_VGG11_model, test_loader, device)"
      ]
    },
    {
      "cell_type": "code",
      "execution_count": null,
      "metadata": {
        "id": "WcpBBX-j-j25"
      },
      "outputs": [],
      "source": []
    },
    {
      "cell_type": "markdown",
      "metadata": {
        "id": "gE0rLx9_-kGI"
      },
      "source": [
        "on dataset 3:"
      ]
    },
    {
      "cell_type": "code",
      "execution_count": null,
      "metadata": {
        "colab": {
          "base_uri": "https://localhost:8080/"
        },
        "id": "u5mLp8L_-kGI",
        "outputId": "e8d31eed-016d-4cc5-9515-d81db58fc832"
      },
      "outputs": [
        {
          "name": "stderr",
          "output_type": "stream",
          "text": [
            "Downloading: \"https://github.com/pytorch/vision/zipball/v0.10.0\" to /root/.cache/torch/hub/v0.10.0.zip\n"
          ]
        }
      ],
      "source": [
        "VGG11_model = torch.hub.load('pytorch/vision:v0.10.0', 'vgg11', weights=None)"
      ]
    },
    {
      "cell_type": "code",
      "execution_count": null,
      "metadata": {
        "id": "6Zx3OReu-kGI"
      },
      "outputs": [],
      "source": [
        "prev_out = VGG11_model.classifier[3].out_features\n",
        "VGG11_model.classifier[6] = nn.Linear( prev_out, nclasses)"
      ]
    },
    {
      "cell_type": "code",
      "execution_count": null,
      "metadata": {
        "id": "FgN9LW3w-kGI"
      },
      "outputs": [],
      "source": [
        "optimizer = torch.optim.Adam(VGG11_model.parameters(), lr=learning_rate) "
      ]
    },
    {
      "cell_type": "code",
      "execution_count": null,
      "metadata": {
        "id": "kanuR4xY-kGJ"
      },
      "outputs": [],
      "source": [
        "train_path = path_dataset3+\"Train/\"\n",
        "test_path = path_dataset3+\"Test/\"\n",
        "val_split = 0.2\n",
        "batch_size = 128\n",
        "input_size = (224,224)\n",
        "\n",
        "train_loader, test_loader, val_loader = load_data(path_train, val_split, path_test, batch_size, input_size)"
      ]
    },
    {
      "cell_type": "code",
      "execution_count": null,
      "metadata": {
        "id": "U0-mcNJ--kGJ"
      },
      "outputs": [],
      "source": [
        "savepath = path_save+\"vgg11model_d3.pt\"\n",
        "trained_VGG11_model, device = train_model(VGG11_model, num_epochs, train_loader, criterion, optimizer, savepath)"
      ]
    },
    {
      "cell_type": "code",
      "execution_count": null,
      "metadata": {
        "id": "hTFDbEzh-kGJ"
      },
      "outputs": [],
      "source": [
        "evaluate_model(trained_VGG11_model, test_loader, device)"
      ]
    },
    {
      "cell_type": "markdown",
      "metadata": {
        "id": "x8QGSudN3rfQ"
      },
      "source": [
        "Architecture 3: ResNet-18"
      ]
    },
    {
      "cell_type": "markdown",
      "metadata": {
        "id": "ykyHhgTj_7gY"
      },
      "source": [
        "on dataset 1:"
      ]
    },
    {
      "cell_type": "code",
      "execution_count": 3,
      "metadata": {
        "colab": {
          "base_uri": "https://localhost:8080/"
        },
        "id": "sjeyUpF53r6L",
        "outputId": "3245f470-5281-4267-8f79-e8e23d7c8790"
      },
      "outputs": [
        {
          "name": "stderr",
          "output_type": "stream",
          "text": [
            "Downloading: \"https://github.com/pytorch/vision/zipball/v0.10.0\" to /root/.cache/torch/hub/v0.10.0.zip\n"
          ]
        }
      ],
      "source": [
        "ResNet_model = torch.hub.load('pytorch/vision:v0.10.0', 'resnet18', weights=None)"
      ]
    },
    {
      "cell_type": "code",
      "execution_count": 9,
      "metadata": {
        "id": "jZz850Gk4P_f"
      },
      "outputs": [],
      "source": [
        "ResNet_model.fc = nn.Linear( 512, nclasses)"
      ]
    },
    {
      "cell_type": "code",
      "execution_count": 10,
      "metadata": {
        "colab": {
          "base_uri": "https://localhost:8080/"
        },
        "id": "P1niUp7-3ucX",
        "outputId": "46b7d327-13e0-4e2f-b744-5b28b279b71b"
      },
      "outputs": [
        {
          "data": {
            "text/plain": [
              "ResNet(\n",
              "  (conv1): Conv2d(3, 64, kernel_size=(7, 7), stride=(2, 2), padding=(3, 3), bias=False)\n",
              "  (bn1): BatchNorm2d(64, eps=1e-05, momentum=0.1, affine=True, track_running_stats=True)\n",
              "  (relu): ReLU(inplace=True)\n",
              "  (maxpool): MaxPool2d(kernel_size=3, stride=2, padding=1, dilation=1, ceil_mode=False)\n",
              "  (layer1): Sequential(\n",
              "    (0): BasicBlock(\n",
              "      (conv1): Conv2d(64, 64, kernel_size=(3, 3), stride=(1, 1), padding=(1, 1), bias=False)\n",
              "      (bn1): BatchNorm2d(64, eps=1e-05, momentum=0.1, affine=True, track_running_stats=True)\n",
              "      (relu): ReLU(inplace=True)\n",
              "      (conv2): Conv2d(64, 64, kernel_size=(3, 3), stride=(1, 1), padding=(1, 1), bias=False)\n",
              "      (bn2): BatchNorm2d(64, eps=1e-05, momentum=0.1, affine=True, track_running_stats=True)\n",
              "    )\n",
              "    (1): BasicBlock(\n",
              "      (conv1): Conv2d(64, 64, kernel_size=(3, 3), stride=(1, 1), padding=(1, 1), bias=False)\n",
              "      (bn1): BatchNorm2d(64, eps=1e-05, momentum=0.1, affine=True, track_running_stats=True)\n",
              "      (relu): ReLU(inplace=True)\n",
              "      (conv2): Conv2d(64, 64, kernel_size=(3, 3), stride=(1, 1), padding=(1, 1), bias=False)\n",
              "      (bn2): BatchNorm2d(64, eps=1e-05, momentum=0.1, affine=True, track_running_stats=True)\n",
              "    )\n",
              "  )\n",
              "  (layer2): Sequential(\n",
              "    (0): BasicBlock(\n",
              "      (conv1): Conv2d(64, 128, kernel_size=(3, 3), stride=(2, 2), padding=(1, 1), bias=False)\n",
              "      (bn1): BatchNorm2d(128, eps=1e-05, momentum=0.1, affine=True, track_running_stats=True)\n",
              "      (relu): ReLU(inplace=True)\n",
              "      (conv2): Conv2d(128, 128, kernel_size=(3, 3), stride=(1, 1), padding=(1, 1), bias=False)\n",
              "      (bn2): BatchNorm2d(128, eps=1e-05, momentum=0.1, affine=True, track_running_stats=True)\n",
              "      (downsample): Sequential(\n",
              "        (0): Conv2d(64, 128, kernel_size=(1, 1), stride=(2, 2), bias=False)\n",
              "        (1): BatchNorm2d(128, eps=1e-05, momentum=0.1, affine=True, track_running_stats=True)\n",
              "      )\n",
              "    )\n",
              "    (1): BasicBlock(\n",
              "      (conv1): Conv2d(128, 128, kernel_size=(3, 3), stride=(1, 1), padding=(1, 1), bias=False)\n",
              "      (bn1): BatchNorm2d(128, eps=1e-05, momentum=0.1, affine=True, track_running_stats=True)\n",
              "      (relu): ReLU(inplace=True)\n",
              "      (conv2): Conv2d(128, 128, kernel_size=(3, 3), stride=(1, 1), padding=(1, 1), bias=False)\n",
              "      (bn2): BatchNorm2d(128, eps=1e-05, momentum=0.1, affine=True, track_running_stats=True)\n",
              "    )\n",
              "  )\n",
              "  (layer3): Sequential(\n",
              "    (0): BasicBlock(\n",
              "      (conv1): Conv2d(128, 256, kernel_size=(3, 3), stride=(2, 2), padding=(1, 1), bias=False)\n",
              "      (bn1): BatchNorm2d(256, eps=1e-05, momentum=0.1, affine=True, track_running_stats=True)\n",
              "      (relu): ReLU(inplace=True)\n",
              "      (conv2): Conv2d(256, 256, kernel_size=(3, 3), stride=(1, 1), padding=(1, 1), bias=False)\n",
              "      (bn2): BatchNorm2d(256, eps=1e-05, momentum=0.1, affine=True, track_running_stats=True)\n",
              "      (downsample): Sequential(\n",
              "        (0): Conv2d(128, 256, kernel_size=(1, 1), stride=(2, 2), bias=False)\n",
              "        (1): BatchNorm2d(256, eps=1e-05, momentum=0.1, affine=True, track_running_stats=True)\n",
              "      )\n",
              "    )\n",
              "    (1): BasicBlock(\n",
              "      (conv1): Conv2d(256, 256, kernel_size=(3, 3), stride=(1, 1), padding=(1, 1), bias=False)\n",
              "      (bn1): BatchNorm2d(256, eps=1e-05, momentum=0.1, affine=True, track_running_stats=True)\n",
              "      (relu): ReLU(inplace=True)\n",
              "      (conv2): Conv2d(256, 256, kernel_size=(3, 3), stride=(1, 1), padding=(1, 1), bias=False)\n",
              "      (bn2): BatchNorm2d(256, eps=1e-05, momentum=0.1, affine=True, track_running_stats=True)\n",
              "    )\n",
              "  )\n",
              "  (layer4): Sequential(\n",
              "    (0): BasicBlock(\n",
              "      (conv1): Conv2d(256, 512, kernel_size=(3, 3), stride=(2, 2), padding=(1, 1), bias=False)\n",
              "      (bn1): BatchNorm2d(512, eps=1e-05, momentum=0.1, affine=True, track_running_stats=True)\n",
              "      (relu): ReLU(inplace=True)\n",
              "      (conv2): Conv2d(512, 512, kernel_size=(3, 3), stride=(1, 1), padding=(1, 1), bias=False)\n",
              "      (bn2): BatchNorm2d(512, eps=1e-05, momentum=0.1, affine=True, track_running_stats=True)\n",
              "      (downsample): Sequential(\n",
              "        (0): Conv2d(256, 512, kernel_size=(1, 1), stride=(2, 2), bias=False)\n",
              "        (1): BatchNorm2d(512, eps=1e-05, momentum=0.1, affine=True, track_running_stats=True)\n",
              "      )\n",
              "    )\n",
              "    (1): BasicBlock(\n",
              "      (conv1): Conv2d(512, 512, kernel_size=(3, 3), stride=(1, 1), padding=(1, 1), bias=False)\n",
              "      (bn1): BatchNorm2d(512, eps=1e-05, momentum=0.1, affine=True, track_running_stats=True)\n",
              "      (relu): ReLU(inplace=True)\n",
              "      (conv2): Conv2d(512, 512, kernel_size=(3, 3), stride=(1, 1), padding=(1, 1), bias=False)\n",
              "      (bn2): BatchNorm2d(512, eps=1e-05, momentum=0.1, affine=True, track_running_stats=True)\n",
              "    )\n",
              "  )\n",
              "  (avgpool): AdaptiveAvgPool2d(output_size=(1, 1))\n",
              "  (fc): Linear(in_features=512, out_features=15, bias=True)\n",
              ")"
            ]
          },
          "execution_count": 10,
          "metadata": {},
          "output_type": "execute_result"
        }
      ],
      "source": [
        "ResNet_model.eval()"
      ]
    },
    {
      "cell_type": "code",
      "execution_count": null,
      "metadata": {
        "id": "OAE_uMea3uY1"
      },
      "outputs": [],
      "source": [
        "optimizer = torch.optim.Adam(ResNet_model.parameters(), lr=learning_rate) "
      ]
    },
    {
      "cell_type": "code",
      "execution_count": null,
      "metadata": {
        "id": "YoNH0dSl3uVq"
      },
      "outputs": [],
      "source": [
        "path_train = path_dataset1+\"train\"\n",
        "path_test = path_dataset1+\"test\"\n",
        "val_split = 0.2\n",
        "batch_size = 128\n",
        "input_size = (224,224)\n",
        "\n",
        "train_loader, test_loader, val_loader = load_data(path_train, val_split, path_test, batch_size, input_size)"
      ]
    },
    {
      "cell_type": "code",
      "execution_count": null,
      "metadata": {
        "id": "alEPE-YH3uSY"
      },
      "outputs": [],
      "source": [
        "savepath = path_save+\"resnetmodel_d1.pt\"\n",
        "trained_ResNet_model, device = train_model(ResNet_model, num_epochs, train_loader, criterion, optimizer, savepath)"
      ]
    },
    {
      "cell_type": "code",
      "execution_count": null,
      "metadata": {
        "id": "9-r7XF9a3uPx"
      },
      "outputs": [],
      "source": [
        "evaluate_model(trained_ResNet_model, test_loader, device)"
      ]
    },
    {
      "cell_type": "code",
      "execution_count": null,
      "metadata": {
        "id": "zaEWAeB-__Hp"
      },
      "outputs": [],
      "source": []
    },
    {
      "cell_type": "markdown",
      "metadata": {
        "id": "0mw6pKMU__lE"
      },
      "source": [
        "on dataset 2:"
      ]
    },
    {
      "cell_type": "code",
      "execution_count": null,
      "metadata": {
        "colab": {
          "base_uri": "https://localhost:8080/"
        },
        "id": "gufOXKd1__lE",
        "outputId": "3245f470-5281-4267-8f79-e8e23d7c8790"
      },
      "outputs": [
        {
          "name": "stderr",
          "output_type": "stream",
          "text": [
            "Downloading: \"https://github.com/pytorch/vision/zipball/v0.10.0\" to /root/.cache/torch/hub/v0.10.0.zip\n"
          ]
        }
      ],
      "source": [
        "ResNet_model = torch.hub.load('pytorch/vision:v0.10.0', 'resnet18', weights=None)"
      ]
    },
    {
      "cell_type": "code",
      "execution_count": null,
      "metadata": {
        "id": "CXeQGpgi__lF"
      },
      "outputs": [],
      "source": [
        "ResNet_model.fc = nn.Linear( 512, nclasses)"
      ]
    },
    {
      "cell_type": "code",
      "execution_count": null,
      "metadata": {
        "id": "AE8BaxQX__lF"
      },
      "outputs": [],
      "source": [
        "optimizer = torch.optim.Adam(ResNet_model.parameters(), lr=learning_rate) "
      ]
    },
    {
      "cell_type": "code",
      "execution_count": null,
      "metadata": {
        "id": "HWlFjNQb__lF"
      },
      "outputs": [],
      "source": [
        "path_train = path_dataset2+\"train\"\n",
        "path_test = path_dataset2+\"test\"\n",
        "val_split = 0.2\n",
        "batch_size = 128\n",
        "input_size = (224,224)\n",
        "\n",
        "train_loader, test_loader, val_loader = load_data(path_train, val_split, path_test, batch_size, input_size)"
      ]
    },
    {
      "cell_type": "code",
      "execution_count": null,
      "metadata": {
        "id": "K1ERflED__lF"
      },
      "outputs": [],
      "source": [
        "savepath = path_save+\"resnetmodel_d2.pt\"\n",
        "trained_ResNet_model, device = train_model(ResNet_model, num_epochs, train_loader, criterion, optimizer, savepath)"
      ]
    },
    {
      "cell_type": "code",
      "execution_count": null,
      "metadata": {
        "id": "-mxR4zp3__lF"
      },
      "outputs": [],
      "source": [
        "evaluate_model(trained_ResNet_model, test_loader, device)"
      ]
    },
    {
      "cell_type": "code",
      "execution_count": null,
      "metadata": {
        "id": "I3pzq0u1ASD_"
      },
      "outputs": [],
      "source": []
    },
    {
      "cell_type": "markdown",
      "metadata": {
        "id": "4043AzG3ASUy"
      },
      "source": [
        "on dataset 3:"
      ]
    },
    {
      "cell_type": "code",
      "execution_count": null,
      "metadata": {
        "colab": {
          "base_uri": "https://localhost:8080/"
        },
        "id": "A0Ur9P8HASUz",
        "outputId": "3245f470-5281-4267-8f79-e8e23d7c8790"
      },
      "outputs": [
        {
          "name": "stderr",
          "output_type": "stream",
          "text": [
            "Downloading: \"https://github.com/pytorch/vision/zipball/v0.10.0\" to /root/.cache/torch/hub/v0.10.0.zip\n"
          ]
        }
      ],
      "source": [
        "ResNet_model = torch.hub.load('pytorch/vision:v0.10.0', 'resnet18', weights=None)"
      ]
    },
    {
      "cell_type": "code",
      "execution_count": null,
      "metadata": {
        "id": "YrfStAaKASUz"
      },
      "outputs": [],
      "source": [
        "ResNet_model.fc = nn.Linear( 512, nclasses)"
      ]
    },
    {
      "cell_type": "code",
      "execution_count": null,
      "metadata": {
        "id": "HBvyHzXGASUz"
      },
      "outputs": [],
      "source": [
        "optimizer = torch.optim.Adam(ResNet_model.parameters(), lr=learning_rate) "
      ]
    },
    {
      "cell_type": "code",
      "execution_count": null,
      "metadata": {
        "id": "sEjpaUpcASUz"
      },
      "outputs": [],
      "source": [
        "train_path = path_dataset3+\"Train/\"\n",
        "test_path = path_dataset3+\"Test/\"\n",
        "val_split = 0.2\n",
        "batch_size = 128\n",
        "input_size = (224,224)\n",
        "\n",
        "train_loader, test_loader, val_loader = load_data(path_train, val_split, path_test, batch_size, input_size)"
      ]
    },
    {
      "cell_type": "code",
      "execution_count": null,
      "metadata": {
        "id": "CSolqegyASUz"
      },
      "outputs": [],
      "source": [
        "savepath = path_save+\"resnetmodel_d3.pt\"\n",
        "trained_ResNet_model, device = train_model(ResNet_model, num_epochs, train_loader, criterion, optimizer, savepath)"
      ]
    },
    {
      "cell_type": "code",
      "execution_count": null,
      "metadata": {
        "id": "DhsEbu7AASUz"
      },
      "outputs": [],
      "source": [
        "evaluate_model(trained_ResNet_model, test_loader, device)"
      ]
    }
  ],
  "metadata": {
    "accelerator": "GPU",
    "colab": {
      "collapsed_sections": [],
      "provenance": []
    },
    "gpuClass": "standard",
    "kernelspec": {
      "display_name": "Python 3.10.7 64-bit",
      "language": "python",
      "name": "python3"
    },
    "language_info": {
      "name": "python",
      "version": "3.10.7"
    },
    "vscode": {
      "interpreter": {
        "hash": "369f2c481f4da34e4445cda3fffd2e751bd1c4d706f27375911949ba6bb62e1c"
      }
    }
  },
  "nbformat": 4,
  "nbformat_minor": 0
}
