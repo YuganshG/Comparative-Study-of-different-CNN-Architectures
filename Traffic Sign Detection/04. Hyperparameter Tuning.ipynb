{
 "cells": [
  {
   "cell_type": "code",
   "execution_count": 1,
   "metadata": {
    "execution": {
     "iopub.execute_input": "2022-11-25T03:59:16.753485Z",
     "iopub.status.busy": "2022-11-25T03:59:16.752802Z",
     "iopub.status.idle": "2022-11-25T03:59:26.671610Z",
     "shell.execute_reply": "2022-11-25T03:59:26.670382Z",
     "shell.execute_reply.started": "2022-11-25T03:59:16.753348Z"
    },
    "id": "PivjitYKv9nI",
    "outputId": "938dd2d8-58e8-40f7-c285-7228e703208d"
   },
   "outputs": [
    {
     "name": "stdout",
     "output_type": "stream",
     "text": [
      "Requirement already satisfied: torchmetrics in /opt/conda/lib/python3.7/site-packages (0.10.0)\n",
      "Requirement already satisfied: packaging in /opt/conda/lib/python3.7/site-packages (from torchmetrics) (21.3)\n",
      "Requirement already satisfied: torch>=1.3.1 in /opt/conda/lib/python3.7/site-packages (from torchmetrics) (1.11.0)\n",
      "Requirement already satisfied: typing-extensions in /opt/conda/lib/python3.7/site-packages (from torchmetrics) (4.1.1)\n",
      "Requirement already satisfied: numpy>=1.17.2 in /opt/conda/lib/python3.7/site-packages (from torchmetrics) (1.21.6)\n",
      "Requirement already satisfied: pyparsing!=3.0.5,>=2.0.2 in /opt/conda/lib/python3.7/site-packages (from packaging->torchmetrics) (3.0.9)\n",
      "\u001b[33mWARNING: Running pip as the 'root' user can result in broken permissions and conflicting behaviour with the system package manager. It is recommended to use a virtual environment instead: https://pip.pypa.io/warnings/venv\u001b[0m\u001b[33m\n",
      "\u001b[0m"
     ]
    }
   ],
   "source": [
    "!pip install torchmetrics"
   ]
  },
  {
   "cell_type": "code",
   "execution_count": 2,
   "metadata": {
    "execution": {
     "iopub.execute_input": "2022-11-25T03:59:26.674478Z",
     "iopub.status.busy": "2022-11-25T03:59:26.674036Z",
     "iopub.status.idle": "2022-11-25T03:59:28.053669Z",
     "shell.execute_reply": "2022-11-25T03:59:28.052528Z",
     "shell.execute_reply.started": "2022-11-25T03:59:26.674422Z"
    },
    "id": "_xH5RmU9su9W"
   },
   "outputs": [],
   "source": [
    "import torch\n",
    "import torchvision.transforms as transforms\n",
    "import torchvision.datasets as datasets\n",
    "import torch.utils.data as td\n",
    "import numpy as np\n",
    "import matplotlib.pyplot as plt\n",
    "import torch.nn as nn\n",
    "import torch.nn.functional as F\n",
    "from matplotlib import image\n",
    "from matplotlib import pyplot\n",
    "import time\n",
    "import os\n",
    "\n",
    "import cv2\n",
    "from torchmetrics import F1Score\n",
    "import pickle"
   ]
  },
  {
   "cell_type": "code",
   "execution_count": 3,
   "metadata": {
    "execution": {
     "iopub.execute_input": "2022-11-25T03:59:28.057657Z",
     "iopub.status.busy": "2022-11-25T03:59:28.055407Z",
     "iopub.status.idle": "2022-11-25T03:59:28.063062Z",
     "shell.execute_reply": "2022-11-25T03:59:28.062096Z",
     "shell.execute_reply.started": "2022-11-25T03:59:28.057622Z"
    },
    "id": "o01h9AVJdAur",
    "outputId": "e9e33898-5934-457a-94ec-2b6c2f235779"
   },
   "outputs": [],
   "source": [
    "path = '/kaggle/input/traffic-sign-datasets/'\n",
    "path_dataset1 = path+'Indian Traffic Signs Prediction(85 classes)/Indian Traffic Signs Prediction(85 classes)/'\n",
    "path_dataset2 = path+'Persian Traffic Sign Dataset (PTSD)/Persian Traffic Sign Dataset (PTSD)/'\n",
    "path_dataset3 = path+'Traffic Signs (GTSRB plus 162 custom classes)/Traffic Signs (GTSRB plus 162 custom classes)/Data_images/'\n",
    "\n",
    "savepath='/kaggle/working/'"
   ]
  },
  {
   "cell_type": "markdown",
   "metadata": {
    "id": "IbmXHVFl-LrR"
   },
   "source": [
    "**Data Loaders**\n",
    "\n",
    "---\n",
    "\n"
   ]
  },
  {
   "cell_type": "code",
   "execution_count": 4,
   "metadata": {
    "execution": {
     "iopub.execute_input": "2022-11-25T03:59:28.066657Z",
     "iopub.status.busy": "2022-11-25T03:59:28.065970Z",
     "iopub.status.idle": "2022-11-25T03:59:28.078375Z",
     "shell.execute_reply": "2022-11-25T03:59:28.077468Z",
     "shell.execute_reply.started": "2022-11-25T03:59:28.066618Z"
    },
    "id": "nAjOrIQaaACu"
   },
   "outputs": [],
   "source": [
    "def load_data(path_train, val_split, path_test, batch_size, input_size):\n",
    "  \n",
    "    normalize = transforms.Normalize(mean=[0.485, 0.456, 0.406],\n",
    "                                     std=[0.229, 0.224, 0.225])\n",
    "\n",
    "    transform_train= transforms.Compose([transforms.Resize(input_size),\n",
    "                                         transforms.ColorJitter(brightness=(0.5,1.2), contrast=0, saturation=0, hue=0),\n",
    "                                         transforms.RandomHorizontalFlip(),\n",
    "#                                          transforms.RandomVerticalFlip(),\n",
    "                                          transforms.RandomRotation(45),\n",
    "                                        transforms.RandomAdjustSharpness(0.8),\n",
    "                                          transforms.ToTensor(),\n",
    "                                          normalize\n",
    "                                          ])\n",
    "\n",
    "    transform_test = transforms.Compose([transforms.Resize(input_size),\n",
    "                                         transforms.ToTensor(), \n",
    "                                         normalize])\n",
    "\n",
    "    data_train = datasets.ImageFolder(root=path_train, transform=transform_train)\n",
    "    data_test = datasets.ImageFolder(root=path_test, transform=transform_test)\n",
    "    \n",
    "    mappings = data_train.class_to_idx\n",
    "\n",
    "    val_size = int(len(data_train)*val_split)\n",
    "    train_size = len(data_train) - val_size\n",
    "\n",
    "    train_dataset, val_dataset = td.random_split(data_train, [train_size, val_size])\n",
    "    \n",
    "    data_loader_train = td.DataLoader(train_dataset,\n",
    "                                      batch_size=batch_size,\n",
    "                                      shuffle=True,\n",
    "                                      drop_last=False,\n",
    "                                      num_workers=0,       \n",
    "                                      pin_memory=True)\n",
    "     \n",
    "    data_loader_val = td.DataLoader(val_dataset,\n",
    "                                    batch_size=batch_size,\n",
    "                                    shuffle=True,\n",
    "                                    drop_last=False,\n",
    "                                    num_workers=0) \n",
    "      \n",
    "    data_loader_test = td.DataLoader(data_test,\n",
    "                                   batch_size=batch_size,\n",
    "                                   shuffle=True,\n",
    "                                   drop_last=False,\n",
    "                                   num_workers=0)\n",
    "    \n",
    "    return data_loader_train, data_loader_test, data_loader_val, mappings"
   ]
  },
  {
   "cell_type": "markdown",
   "metadata": {
    "id": "cTWOhhFV1kuI"
   },
   "source": [
    "Compute Class Weights"
   ]
  },
  {
   "cell_type": "code",
   "execution_count": 5,
   "metadata": {
    "execution": {
     "iopub.execute_input": "2022-11-25T03:59:28.080562Z",
     "iopub.status.busy": "2022-11-25T03:59:28.080020Z",
     "iopub.status.idle": "2022-11-25T03:59:28.095792Z",
     "shell.execute_reply": "2022-11-25T03:59:28.094787Z",
     "shell.execute_reply.started": "2022-11-25T03:59:28.080527Z"
    },
    "id": "AybvEo1V1nLP"
   },
   "outputs": [],
   "source": [
    "def get_image_size_dist(path):\n",
    "    t1 = time.time()\n",
    "\n",
    "    folders = os.listdir(path)\n",
    "    total = 0\n",
    "\n",
    "    class_samples = {}\n",
    "\n",
    "    for folder in folders:\n",
    "        samples = os.listdir(path+folder)\n",
    "\n",
    "        class_samples[folder]=len(samples)\n",
    "\n",
    "        print(\"Class: {} has samples: {} \".format(folder,len(samples)))\n",
    "        total+=len(samples)\n",
    "\n",
    "    print(\"\\nTotal number of samples: \",total)\n",
    "\n",
    "    print(\"\\nTime taken: {}\".format(time.time()-t1))\n",
    "\n",
    "    return class_samples, total"
   ]
  },
  {
   "cell_type": "code",
   "execution_count": 6,
   "metadata": {
    "execution": {
     "iopub.execute_input": "2022-11-25T03:59:28.097998Z",
     "iopub.status.busy": "2022-11-25T03:59:28.097084Z",
     "iopub.status.idle": "2022-11-25T03:59:28.115691Z",
     "shell.execute_reply": "2022-11-25T03:59:28.114748Z",
     "shell.execute_reply.started": "2022-11-25T03:59:28.097962Z"
    },
    "id": "cs77yc_J1m94"
   },
   "outputs": [],
   "source": [
    "def get_class_weights(path_train, mappings):\n",
    "\n",
    "    class_samples, total = get_image_size_dist(path_train)\n",
    "\n",
    "    class_weights = [0]*len(mappings.keys())\n",
    "\n",
    "    for key in mappings.keys():\n",
    "        class_weights[mappings[key]] = 1 - (class_samples[key]/ total)\n",
    "      \n",
    "    return class_weights"
   ]
  },
  {
   "cell_type": "code",
   "execution_count": null,
   "metadata": {
    "id": "Dh0HJEMCArK4"
   },
   "outputs": [],
   "source": []
  },
  {
   "cell_type": "code",
   "execution_count": 7,
   "metadata": {
    "execution": {
     "iopub.execute_input": "2022-11-25T03:59:28.117488Z",
     "iopub.status.busy": "2022-11-25T03:59:28.116955Z",
     "iopub.status.idle": "2022-11-25T03:59:28.128370Z",
     "shell.execute_reply": "2022-11-25T03:59:28.127225Z",
     "shell.execute_reply.started": "2022-11-25T03:59:28.117450Z"
    },
    "id": "Zz46kldS13If"
   },
   "outputs": [],
   "source": [
    "num_epochs = 10\n",
    "\n",
    "def get_criterion(class_weights):\n",
    "\n",
    "    criterion = nn.CrossEntropyLoss(weight = class_weights)\n",
    "\n",
    "    return criterion"
   ]
  },
  {
   "cell_type": "code",
   "execution_count": 8,
   "metadata": {
    "execution": {
     "iopub.execute_input": "2022-11-25T03:59:28.130481Z",
     "iopub.status.busy": "2022-11-25T03:59:28.129972Z",
     "iopub.status.idle": "2022-11-25T03:59:28.142264Z",
     "shell.execute_reply": "2022-11-25T03:59:28.141257Z",
     "shell.execute_reply.started": "2022-11-25T03:59:28.130419Z"
    }
   },
   "outputs": [],
   "source": [
    "def train_model(model, num_epochs, train_loader, criterion, optimizer, savepath, savepath_results, device):\n",
    "\n",
    "      total_steps = len(train_loader)\n",
    "\n",
    "      t1 = time.time()\n",
    "\n",
    "      Mean_loss=[]\n",
    "      train_accuracy=[]\n",
    "\n",
    "      for epoch in range(num_epochs):\n",
    "          correct=0\n",
    "          total=0\n",
    "          train_loss=0\n",
    "          for i, data in enumerate(train_loader):\n",
    "              \n",
    "              images, labels = data[0].to(device), data[1].to(device)\n",
    "              \n",
    "              model.train()\n",
    "\n",
    "              # Forward pass\n",
    "              outputs = model(images)\n",
    "              loss = criterion(outputs, labels)\n",
    "              \n",
    "              # Backprop and optimisation\n",
    "              optimizer.zero_grad()\n",
    "              loss.backward()\n",
    "              optimizer.step()\n",
    "              \n",
    "              # Train accuracy\n",
    "              total += labels.size(0)\n",
    "              _, predicted = torch.max(outputs.data, 1)\n",
    "              correct += (predicted == labels).sum().item()\n",
    "              \n",
    "              train_loss += loss.item()*labels.size(0)\n",
    "                          \n",
    "          print('Epoch [{}/{}], Mean Loss: {:.4f}, Accuracy: {:.2f}%'\n",
    "          .format(epoch + 1, num_epochs, train_loss/total,\n",
    "              (correct / total) * 100))\n",
    "\n",
    "          Mean_loss.append(train_loss/total)\n",
    "          train_accuracy.append((correct / total) * 100)\n",
    "                      \n",
    "                  \n",
    "      print(\"######## Training Finished in {} seconds ###########\".format(time.time()-t1))\n",
    "\n",
    "#       print(\"/n/n Saving model at: \",savepath)\n",
    "      torch.save(model.state_dict(), savepath)\n",
    "\n",
    "      results = { \"Mean_loss\": Mean_loss, \"accuracy\": train_accuracy }\n",
    "\n",
    "      with open(savepath_results, \"wb\") as fp:\n",
    "          pickle.dump(results, fp)\n",
    "\n",
    "      return model, device, train_accuracy, Mean_loss"
   ]
  },
  {
   "cell_type": "code",
   "execution_count": null,
   "metadata": {
    "id": "_mHsQq5I-yyu"
   },
   "outputs": [],
   "source": []
  },
  {
   "cell_type": "code",
   "execution_count": 10,
   "metadata": {
    "execution": {
     "iopub.execute_input": "2022-11-25T03:59:28.161579Z",
     "iopub.status.busy": "2022-11-25T03:59:28.161275Z",
     "iopub.status.idle": "2022-11-25T03:59:28.173688Z",
     "shell.execute_reply": "2022-11-25T03:59:28.172746Z",
     "shell.execute_reply.started": "2022-11-25T03:59:28.161554Z"
    },
    "id": "bmokcdO8N-v0"
   },
   "outputs": [],
   "source": [
    "nclasses=12"
   ]
  },
  {
   "cell_type": "code",
   "execution_count": 11,
   "metadata": {
    "execution": {
     "iopub.execute_input": "2022-11-25T03:59:28.175622Z",
     "iopub.status.busy": "2022-11-25T03:59:28.175141Z",
     "iopub.status.idle": "2022-11-25T03:59:28.185862Z",
     "shell.execute_reply": "2022-11-25T03:59:28.184850Z",
     "shell.execute_reply.started": "2022-11-25T03:59:28.175585Z"
    },
    "id": "j0C0mVSFA81I",
    "outputId": "224ea32e-1e03-4ee1-b3cd-ecfdfe0aa45c"
   },
   "outputs": [],
   "source": [
    "def get_model():\n",
    "    AlexNet_model = torch.hub.load('pytorch/vision:v0.6.0', 'alexnet', pretrained=False)\n",
    "    \n",
    "    prev_out = AlexNet_model.classifier[4].out_features\n",
    "    AlexNet_model.classifier[6] = nn.Linear( prev_out, nclasses)\n",
    "    \n",
    "    return AlexNet_model"
   ]
  },
  {
   "cell_type": "markdown",
   "metadata": {
    "id": "ZC6BfMJf_ixj"
   },
   "source": [
    "Grid Search: Learning rate"
   ]
  },
  {
   "cell_type": "code",
   "execution_count": 12,
   "metadata": {
    "execution": {
     "iopub.execute_input": "2022-11-25T03:59:28.189754Z",
     "iopub.status.busy": "2022-11-25T03:59:28.189008Z",
     "iopub.status.idle": "2022-11-25T03:59:28.263145Z",
     "shell.execute_reply": "2022-11-25T03:59:28.262264Z",
     "shell.execute_reply.started": "2022-11-25T03:59:28.189718Z"
    },
    "id": "dnyRBBLrs23v"
   },
   "outputs": [],
   "source": [
    "path_train = path_dataset2+\"train/\"\n",
    "path_test = path_dataset2+\"test/\"\n",
    "val_split = 0.2\n",
    "batch_size = 32\n",
    "input_size = (224,224)\n",
    "\n",
    "train_loader, test_loader, val_loader, mappings = load_data(path_train, val_split, path_test, batch_size, input_size)"
   ]
  },
  {
   "cell_type": "code",
   "execution_count": 13,
   "metadata": {
    "execution": {
     "iopub.execute_input": "2022-11-25T03:59:28.266866Z",
     "iopub.status.busy": "2022-11-25T03:59:28.266045Z",
     "iopub.status.idle": "2022-11-25T03:59:28.356422Z",
     "shell.execute_reply": "2022-11-25T03:59:28.355234Z",
     "shell.execute_reply.started": "2022-11-25T03:59:28.266832Z"
    }
   },
   "outputs": [
    {
     "name": "stdout",
     "output_type": "stream",
     "text": [
      "Device: cuda:0\n"
     ]
    }
   ],
   "source": [
    "device = torch.device(\"cuda:0\" if torch.cuda.is_available() else \"cpu\")\n",
    "print(\"Device: {}\".format(device))"
   ]
  },
  {
   "cell_type": "code",
   "execution_count": 14,
   "metadata": {
    "execution": {
     "iopub.execute_input": "2022-11-25T03:59:28.358941Z",
     "iopub.status.busy": "2022-11-25T03:59:28.358496Z",
     "iopub.status.idle": "2022-11-25T03:59:30.188550Z",
     "shell.execute_reply": "2022-11-25T03:59:30.187487Z",
     "shell.execute_reply.started": "2022-11-25T03:59:28.358897Z"
    },
    "id": "mi0ZJxXd6S4B",
    "outputId": "175bd466-5ac2-4d8c-8527-33c8269569db"
   },
   "outputs": [
    {
     "name": "stdout",
     "output_type": "stream",
     "text": [
      "Class: Pedestrain has samples: 1014 \n",
      "Class: NO Stopping has samples: 1075 \n",
      "Class: Right Turn Prohibited has samples: 436 \n",
      "Class: Danger has samples: 399 \n",
      "Class: Compulsory Keep BothSide has samples: 573 \n",
      "Class: Maximum Speed 30 has samples: 477 \n",
      "Class: Right Margin has samples: 506 \n",
      "Class: Cycle crossing has samples: 662 \n",
      "Class: Roundabouts has samples: 497 \n",
      "Class: One way Traffic has samples: 684 \n",
      "Class: Compulsory Keep Right has samples: 703 \n",
      "Class: No Entry has samples: 930 \n",
      "\n",
      "Total number of samples:  7956\n",
      "\n",
      "Time taken: 0.010114908218383789\n"
     ]
    }
   ],
   "source": [
    "class_weights = get_class_weights(path_train, mappings)\n",
    "\n",
    "class_weights = torch.FloatTensor(class_weights)\n",
    "class_weights = class_weights.to(device)\n",
    "\n",
    "criterion = get_criterion(class_weights)"
   ]
  },
  {
   "cell_type": "code",
   "execution_count": 15,
   "metadata": {
    "execution": {
     "iopub.execute_input": "2022-11-25T03:59:30.190882Z",
     "iopub.status.busy": "2022-11-25T03:59:30.190482Z",
     "iopub.status.idle": "2022-11-25T04:27:33.088276Z",
     "shell.execute_reply": "2022-11-25T04:27:33.087201Z",
     "shell.execute_reply.started": "2022-11-25T03:59:30.190842Z"
    },
    "id": "pzxEFoxxs26O"
   },
   "outputs": [
    {
     "name": "stdout",
     "output_type": "stream",
     "text": [
      "Results of the learning rate = 0.01\n"
     ]
    },
    {
     "name": "stderr",
     "output_type": "stream",
     "text": [
      "Using cache found in /root/.cache/torch/hub/pytorch_vision_v0.6.0\n"
     ]
    },
    {
     "name": "stdout",
     "output_type": "stream",
     "text": [
      "Epoch [1/10], Mean Loss: 85867.1153, Accuracy: 11.86%\n",
      "Epoch [2/10], Mean Loss: 2.7136, Accuracy: 12.91%\n",
      "Epoch [3/10], Mean Loss: 2.4465, Accuracy: 13.29%\n",
      "Epoch [4/10], Mean Loss: 2.4447, Accuracy: 13.18%\n",
      "Epoch [5/10], Mean Loss: 25.2404, Accuracy: 12.82%\n",
      "Epoch [6/10], Mean Loss: 2.5083, Accuracy: 12.96%\n",
      "Epoch [7/10], Mean Loss: 2.4579, Accuracy: 13.12%\n",
      "Epoch [8/10], Mean Loss: 2.4568, Accuracy: 13.31%\n",
      "Epoch [9/10], Mean Loss: 2.4510, Accuracy: 12.95%\n",
      "Epoch [10/10], Mean Loss: 2.4516, Accuracy: 13.28%\n",
      "######## Training Finished in 562.5204472541809 seconds ###########\n",
      "Results of the learning rate = 0.001\n"
     ]
    },
    {
     "name": "stderr",
     "output_type": "stream",
     "text": [
      "Using cache found in /root/.cache/torch/hub/pytorch_vision_v0.6.0\n"
     ]
    },
    {
     "name": "stdout",
     "output_type": "stream",
     "text": [
      "Epoch [1/10], Mean Loss: 1.7818, Accuracy: 33.12%\n",
      "Epoch [2/10], Mean Loss: 0.7569, Accuracy: 74.82%\n",
      "Epoch [3/10], Mean Loss: 0.4592, Accuracy: 86.57%\n",
      "Epoch [4/10], Mean Loss: 0.3930, Accuracy: 88.37%\n",
      "Epoch [5/10], Mean Loss: 0.2885, Accuracy: 91.74%\n",
      "Epoch [6/10], Mean Loss: 0.3882, Accuracy: 88.78%\n",
      "Epoch [7/10], Mean Loss: 0.2441, Accuracy: 93.07%\n",
      "Epoch [8/10], Mean Loss: 0.2247, Accuracy: 93.97%\n",
      "Epoch [9/10], Mean Loss: 0.2026, Accuracy: 94.69%\n",
      "Epoch [10/10], Mean Loss: 0.1870, Accuracy: 95.19%\n",
      "######## Training Finished in 557.938746213913 seconds ###########\n",
      "Results of the learning rate = 0.0001\n"
     ]
    },
    {
     "name": "stderr",
     "output_type": "stream",
     "text": [
      "Using cache found in /root/.cache/torch/hub/pytorch_vision_v0.6.0\n"
     ]
    },
    {
     "name": "stdout",
     "output_type": "stream",
     "text": [
      "Epoch [1/10], Mean Loss: 2.1483, Accuracy: 23.03%\n",
      "Epoch [2/10], Mean Loss: 1.5022, Accuracy: 44.07%\n",
      "Epoch [3/10], Mean Loss: 1.0999, Accuracy: 61.40%\n",
      "Epoch [4/10], Mean Loss: 0.8231, Accuracy: 72.36%\n",
      "Epoch [5/10], Mean Loss: 0.6066, Accuracy: 79.86%\n",
      "Epoch [6/10], Mean Loss: 0.4823, Accuracy: 84.76%\n",
      "Epoch [7/10], Mean Loss: 0.4158, Accuracy: 87.12%\n",
      "Epoch [8/10], Mean Loss: 0.3491, Accuracy: 89.11%\n",
      "Epoch [9/10], Mean Loss: 0.3210, Accuracy: 90.05%\n",
      "Epoch [10/10], Mean Loss: 0.2748, Accuracy: 91.44%\n",
      "######## Training Finished in 558.1656465530396 seconds ###########\n"
     ]
    }
   ],
   "source": [
    "model_savepath = savepath+\"alexnetmodel_d2\"\n",
    "savepath_results= savepath+\"htuning_results\"\n",
    "\n",
    "hyper_parameters={}\n",
    "hyper_parameters[\"learning_rate\"] = [0.01, 0.001, 0.0001]\n",
    "\n",
    "train_loss_hyper_paramaters = {}\n",
    "train_acc_hyper_paramaters={}\n",
    "\n",
    "for learning_rate in hyper_parameters[\"learning_rate\"]:\n",
    "    \n",
    "    print(f'Results of the learning rate = {learning_rate}')\n",
    "        \n",
    "    results = savepath_results+'_lr'+str(learning_rate)+\".pkb\"\n",
    "    model_path = model_savepath + '_lr'+str(learning_rate)+\".pt\"\n",
    "    \n",
    "    AlexNet_model = get_model()\n",
    "    \n",
    "    AlexNet_model.to(device)\n",
    "    \n",
    "    optimizer = torch.optim.Adam(AlexNet_model.parameters(), lr=learning_rate)\n",
    "\n",
    "    trained_AlexNet_model, device, train_accuracy, train_loss = train_model(AlexNet_model, num_epochs, train_loader, criterion, optimizer,model_path, results, device)\n",
    "\n",
    "    train_loss_hyper_paramaters['lr'+str(learning_rate)] = train_loss\n",
    "    train_acc_hyper_paramaters['lr'+str(learning_rate)] = train_accuracy\n"
   ]
  },
  {
   "cell_type": "code",
   "execution_count": 16,
   "metadata": {
    "execution": {
     "iopub.execute_input": "2022-11-25T04:27:33.090247Z",
     "iopub.status.busy": "2022-11-25T04:27:33.089885Z",
     "iopub.status.idle": "2022-11-25T04:27:33.334361Z",
     "shell.execute_reply": "2022-11-25T04:27:33.333361Z",
     "shell.execute_reply.started": "2022-11-25T04:27:33.090202Z"
    },
    "id": "OhnMwYn1_w0q"
   },
   "outputs": [
    {
     "data": {
      "text/plain": [
       "<matplotlib.legend.Legend at 0x7f911cc6cd10>"
      ]
     },
     "execution_count": 16,
     "metadata": {},
     "output_type": "execute_result"
    },
    {
     "data": {
      "image/png": "[encoded data removed]",
      "text/plain": [
       "<Figure size 432x288 with 1 Axes>"
      ]
     },
     "metadata": {
      "needs_background": "light"
     },
     "output_type": "display_data"
    }
   ],
   "source": [
    "####### plot the the training loss here #########\n",
    "\n",
    "epochs = [i for i in range(num_epochs)]\n",
    "plt.figure()\n",
    "plt.xlabel('epoch')\n",
    "plt.ylabel('Loss')\n",
    "plt.title('Loss plot')\n",
    "\n",
    "for learning_rate in hyper_parameters[\"learning_rate\"]:\n",
    "\n",
    "    plt.plot(epochs,train_loss_hyper_paramaters[f'lr{learning_rate}'],label=f'learning rate: {learning_rate}')\n",
    "    \n",
    "plt.legend()"
   ]
  },
  {
   "cell_type": "code",
   "execution_count": 17,
   "metadata": {
    "execution": {
     "iopub.execute_input": "2022-11-25T04:27:33.336376Z",
     "iopub.status.busy": "2022-11-25T04:27:33.335686Z",
     "iopub.status.idle": "2022-11-25T04:27:33.565615Z",
     "shell.execute_reply": "2022-11-25T04:27:33.564686Z",
     "shell.execute_reply.started": "2022-11-25T04:27:33.336335Z"
    },
    "id": "zz3icLm-_2qm"
   },
   "outputs": [
    {
     "data": {
      "text/plain": [
       "<matplotlib.legend.Legend at 0x7f911c33e490>"
      ]
     },
     "execution_count": 17,
     "metadata": {},
     "output_type": "execute_result"
    },
    {
     "data": {
      "image/png": "[encoded data removed]",
      "text/plain": [
       "<Figure size 432x288 with 1 Axes>"
      ]
     },
     "metadata": {
      "needs_background": "light"
     },
     "output_type": "display_data"
    }
   ],
   "source": [
    "####### plot the the training accuracies here #########\n",
    "\n",
    "epochs = [i for i in range(num_epochs)]\n",
    "plt.figure()\n",
    "plt.xlabel('epoch')\n",
    "plt.ylabel('Accuracy')\n",
    "plt.title('Accuracy plot')\n",
    "\n",
    "for learning_rate in hyper_parameters[\"learning_rate\"]:\n",
    "\n",
    "    plt.plot(epochs,train_acc_hyper_paramaters[f'lr{learning_rate}'],label=f'learning rate: {learning_rate}')\n",
    "    \n",
    "plt.legend()"
   ]
  },
  {
   "cell_type": "code",
   "execution_count": null,
   "metadata": {
    "id": "QllFdmtv1XhU"
   },
   "outputs": [],
   "source": []
  }
 ],
 "metadata": {
  "kernelspec": {
   "display_name": "Python 3 (ipykernel)",
   "language": "python",
   "name": "python3"
  },
  "language_info": {
   "codemirror_mode": {
    "name": "ipython",
    "version": 3
   },
   "file_extension": ".py",
   "mimetype": "text/x-python",
   "name": "python",
   "nbconvert_exporter": "python",
   "pygments_lexer": "ipython3",
   "version": "3.10.3"
  }
 },
 "nbformat": 4,
 "nbformat_minor": 4
}
